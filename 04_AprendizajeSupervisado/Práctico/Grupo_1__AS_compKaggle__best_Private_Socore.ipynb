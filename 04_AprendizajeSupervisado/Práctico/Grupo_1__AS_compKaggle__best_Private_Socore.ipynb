{
  "cells": [
    {
      "cell_type": "markdown",
      "metadata": {
        "id": "wGg4-0ySdqR0"
      },
      "source": [
        "# DiploDatos Kaggle Competition"
      ]
    },
    {
      "cell_type": "markdown",
      "metadata": {
        "id": "pHWvxWzsdqR1"
      },
      "source": [
        "Presentamos un código creado como ejemplo de base para la competición.\n",
        "\n",
        "Deben:\n",
        "\n",
        "- Explorar los datos y aprender de ellos.\n",
        "- Probar diferentes modelos y ver cuáles ajustan mejor dado los datos.\n",
        "- **Obtener una accuracy mejor que la que se presenta en este ejemplo.**\n",
        "- Tratar de obtener la accuracy más alta posible!\n",
        "- Discutir la elección de modelo.\n",
        "\n",
        "El análisis exploratorio y el preprocesamiento de los datos queda a libertad de cada grupo y no deben quedarse con este simple ejemplo."
      ]
    },
    {
      "cell_type": "markdown",
      "metadata": {
        "id": "y5MH7MEgdqR2"
      },
      "source": [
        "# **Data set**"
      ]
    },
    {
      "cell_type": "markdown",
      "source": [
        "### Montamos data set Train"
      ],
      "metadata": {
        "id": "ykb7FcqLQL_0"
      }
    },
    {
      "cell_type": "code",
      "execution_count": null,
      "metadata": {
        "colab": {
          "base_uri": "https://localhost:8080/"
        },
        "id": "wa_suPBghAzb",
        "outputId": "97adf700-d292-4af0-be98-e5f5fb039d99",
        "collapsed": true
      },
      "outputs": [
        {
          "output_type": "stream",
          "name": "stdout",
          "text": [
            "Requirement already satisfied: scikit-learn in /usr/local/lib/python3.10/dist-packages (1.3.2)\n",
            "Collecting scikit-learn\n",
            "  Downloading scikit_learn-1.5.1-cp310-cp310-manylinux_2_17_x86_64.manylinux2014_x86_64.whl.metadata (12 kB)\n",
            "Requirement already satisfied: numpy>=1.19.5 in /usr/local/lib/python3.10/dist-packages (from scikit-learn) (1.26.4)\n",
            "Requirement already satisfied: scipy>=1.6.0 in /usr/local/lib/python3.10/dist-packages (from scikit-learn) (1.13.1)\n",
            "Requirement already satisfied: joblib>=1.2.0 in /usr/local/lib/python3.10/dist-packages (from scikit-learn) (1.4.2)\n",
            "Requirement already satisfied: threadpoolctl>=3.1.0 in /usr/local/lib/python3.10/dist-packages (from scikit-learn) (3.5.0)\n",
            "Downloading scikit_learn-1.5.1-cp310-cp310-manylinux_2_17_x86_64.manylinux2014_x86_64.whl (13.4 MB)\n",
            "\u001b[2K   \u001b[90m━━━━━━━━━━━━━━━━━━━━━━━━━━━━━━━━━━━━━━━━\u001b[0m \u001b[32m13.4/13.4 MB\u001b[0m \u001b[31m36.9 MB/s\u001b[0m eta \u001b[36m0:00:00\u001b[0m\n",
            "\u001b[?25hInstalling collected packages: scikit-learn\n",
            "  Attempting uninstall: scikit-learn\n",
            "    Found existing installation: scikit-learn 1.3.2\n",
            "    Uninstalling scikit-learn-1.3.2:\n",
            "      Successfully uninstalled scikit-learn-1.3.2\n",
            "Successfully installed scikit-learn-1.5.1\n",
            "Collecting scikit-learn-intelex\n",
            "  Downloading scikit_learn_intelex-2024.5.0-py310-none-manylinux1_x86_64.whl.metadata (12 kB)\n",
            "Collecting daal4py==2024.5.0 (from scikit-learn-intelex)\n",
            "  Downloading daal4py-2024.5.0-py310-none-manylinux1_x86_64.whl.metadata (7.4 kB)\n",
            "Requirement already satisfied: scikit-learn>=0.22 in /usr/local/lib/python3.10/dist-packages (from scikit-learn-intelex) (1.5.1)\n",
            "Collecting daal==2024.5.0 (from daal4py==2024.5.0->scikit-learn-intelex)\n",
            "  Downloading daal-2024.5.0-py2.py3-none-manylinux1_x86_64.whl.metadata (1.1 kB)\n",
            "Requirement already satisfied: numpy>=1.19 in /usr/local/lib/python3.10/dist-packages (from daal4py==2024.5.0->scikit-learn-intelex) (1.26.4)\n",
            "Requirement already satisfied: tbb==2021.* in /usr/local/lib/python3.10/dist-packages (from daal==2024.5.0->daal4py==2024.5.0->scikit-learn-intelex) (2021.13.0)\n",
            "Requirement already satisfied: scipy>=1.6.0 in /usr/local/lib/python3.10/dist-packages (from scikit-learn>=0.22->scikit-learn-intelex) (1.13.1)\n",
            "Requirement already satisfied: joblib>=1.2.0 in /usr/local/lib/python3.10/dist-packages (from scikit-learn>=0.22->scikit-learn-intelex) (1.4.2)\n",
            "Requirement already satisfied: threadpoolctl>=3.1.0 in /usr/local/lib/python3.10/dist-packages (from scikit-learn>=0.22->scikit-learn-intelex) (3.5.0)\n",
            "Downloading scikit_learn_intelex-2024.5.0-py310-none-manylinux1_x86_64.whl (151 kB)\n",
            "\u001b[2K   \u001b[90m━━━━━━━━━━━━━━━━━━━━━━━━━━━━━━━━━━━━━━━━\u001b[0m \u001b[32m151.3/151.3 kB\u001b[0m \u001b[31m5.3 MB/s\u001b[0m eta \u001b[36m0:00:00\u001b[0m\n",
            "\u001b[?25hDownloading daal4py-2024.5.0-py310-none-manylinux1_x86_64.whl (12.4 MB)\n",
            "\u001b[2K   \u001b[90m━━━━━━━━━━━━━━━━━━━━━━━━━━━━━━━━━━━━━━━━\u001b[0m \u001b[32m12.4/12.4 MB\u001b[0m \u001b[31m64.5 MB/s\u001b[0m eta \u001b[36m0:00:00\u001b[0m\n",
            "\u001b[?25hDownloading daal-2024.5.0-py2.py3-none-manylinux1_x86_64.whl (67.6 MB)\n",
            "\u001b[2K   \u001b[90m━━━━━━━━━━━━━━━━━━━━━━━━━━━━━━━━━━━━━━━━\u001b[0m \u001b[32m67.6/67.6 MB\u001b[0m \u001b[31m8.1 MB/s\u001b[0m eta \u001b[36m0:00:00\u001b[0m\n",
            "\u001b[?25hInstalling collected packages: daal, daal4py, scikit-learn-intelex\n",
            "Successfully installed daal-2024.5.0 daal4py-2024.5.0 scikit-learn-intelex-2024.5.0\n",
            "Collecting missingpy\n",
            "  Downloading missingpy-0.2.0-py3-none-any.whl.metadata (20 kB)\n",
            "Downloading missingpy-0.2.0-py3-none-any.whl (49 kB)\n",
            "\u001b[2K   \u001b[90m━━━━━━━━━━━━━━━━━━━━━━━━━━━━━━━━━━━━━━━━\u001b[0m \u001b[32m49.1/49.1 kB\u001b[0m \u001b[31m3.6 MB/s\u001b[0m eta \u001b[36m0:00:00\u001b[0m\n",
            "\u001b[?25hInstalling collected packages: missingpy\n",
            "Successfully installed missingpy-0.2.0\n",
            "Collecting catboost\n",
            "  Downloading catboost-1.2.5-cp310-cp310-manylinux2014_x86_64.whl.metadata (1.2 kB)\n",
            "Requirement already satisfied: graphviz in /usr/local/lib/python3.10/dist-packages (from catboost) (0.20.3)\n",
            "Requirement already satisfied: matplotlib in /usr/local/lib/python3.10/dist-packages (from catboost) (3.7.1)\n",
            "Requirement already satisfied: numpy>=1.16.0 in /usr/local/lib/python3.10/dist-packages (from catboost) (1.26.4)\n",
            "Requirement already satisfied: pandas>=0.24 in /usr/local/lib/python3.10/dist-packages (from catboost) (2.1.4)\n",
            "Requirement already satisfied: scipy in /usr/local/lib/python3.10/dist-packages (from catboost) (1.13.1)\n",
            "Requirement already satisfied: plotly in /usr/local/lib/python3.10/dist-packages (from catboost) (5.15.0)\n",
            "Requirement already satisfied: six in /usr/local/lib/python3.10/dist-packages (from catboost) (1.16.0)\n",
            "Requirement already satisfied: python-dateutil>=2.8.2 in /usr/local/lib/python3.10/dist-packages (from pandas>=0.24->catboost) (2.8.2)\n",
            "Requirement already satisfied: pytz>=2020.1 in /usr/local/lib/python3.10/dist-packages (from pandas>=0.24->catboost) (2024.1)\n",
            "Requirement already satisfied: tzdata>=2022.1 in /usr/local/lib/python3.10/dist-packages (from pandas>=0.24->catboost) (2024.1)\n",
            "Requirement already satisfied: contourpy>=1.0.1 in /usr/local/lib/python3.10/dist-packages (from matplotlib->catboost) (1.2.1)\n",
            "Requirement already satisfied: cycler>=0.10 in /usr/local/lib/python3.10/dist-packages (from matplotlib->catboost) (0.12.1)\n",
            "Requirement already satisfied: fonttools>=4.22.0 in /usr/local/lib/python3.10/dist-packages (from matplotlib->catboost) (4.53.1)\n",
            "Requirement already satisfied: kiwisolver>=1.0.1 in /usr/local/lib/python3.10/dist-packages (from matplotlib->catboost) (1.4.5)\n",
            "Requirement already satisfied: packaging>=20.0 in /usr/local/lib/python3.10/dist-packages (from matplotlib->catboost) (24.1)\n",
            "Requirement already satisfied: pillow>=6.2.0 in /usr/local/lib/python3.10/dist-packages (from matplotlib->catboost) (9.4.0)\n",
            "Requirement already satisfied: pyparsing>=2.3.1 in /usr/local/lib/python3.10/dist-packages (from matplotlib->catboost) (3.1.2)\n",
            "Requirement already satisfied: tenacity>=6.2.0 in /usr/local/lib/python3.10/dist-packages (from plotly->catboost) (9.0.0)\n",
            "Downloading catboost-1.2.5-cp310-cp310-manylinux2014_x86_64.whl (98.2 MB)\n",
            "\u001b[2K   \u001b[90m━━━━━━━━━━━━━━━━━━━━━━━━━━━━━━━━━━━━━━━━\u001b[0m \u001b[32m98.2/98.2 MB\u001b[0m \u001b[31m9.2 MB/s\u001b[0m eta \u001b[36m0:00:00\u001b[0m\n",
            "\u001b[?25hInstalling collected packages: catboost\n",
            "Successfully installed catboost-1.2.5\n",
            "Requirement already satisfied: xgboost in /usr/local/lib/python3.10/dist-packages (2.1.0)\n",
            "Requirement already satisfied: numpy in /usr/local/lib/python3.10/dist-packages (from xgboost) (1.26.4)\n",
            "Collecting nvidia-nccl-cu12 (from xgboost)\n",
            "  Downloading nvidia_nccl_cu12-2.22.3-py3-none-manylinux2014_x86_64.whl.metadata (1.8 kB)\n",
            "Requirement already satisfied: scipy in /usr/local/lib/python3.10/dist-packages (from xgboost) (1.13.1)\n",
            "Downloading nvidia_nccl_cu12-2.22.3-py3-none-manylinux2014_x86_64.whl (190.9 MB)\n",
            "\u001b[2K   \u001b[90m━━━━━━━━━━━━━━━━━━━━━━━━━━━━━━━━━━━━━━━━\u001b[0m \u001b[32m190.9/190.9 MB\u001b[0m \u001b[31m6.1 MB/s\u001b[0m eta \u001b[36m0:00:00\u001b[0m\n",
            "\u001b[?25hInstalling collected packages: nvidia-nccl-cu12\n",
            "\u001b[31mERROR: pip's dependency resolver does not currently take into account all the packages that are installed. This behaviour is the source of the following dependency conflicts.\n",
            "torch 2.3.1+cu121 requires nvidia-cublas-cu12==12.1.3.1; platform_system == \"Linux\" and platform_machine == \"x86_64\", which is not installed.\n",
            "torch 2.3.1+cu121 requires nvidia-cuda-cupti-cu12==12.1.105; platform_system == \"Linux\" and platform_machine == \"x86_64\", which is not installed.\n",
            "torch 2.3.1+cu121 requires nvidia-cuda-nvrtc-cu12==12.1.105; platform_system == \"Linux\" and platform_machine == \"x86_64\", which is not installed.\n",
            "torch 2.3.1+cu121 requires nvidia-cuda-runtime-cu12==12.1.105; platform_system == \"Linux\" and platform_machine == \"x86_64\", which is not installed.\n",
            "torch 2.3.1+cu121 requires nvidia-cudnn-cu12==8.9.2.26; platform_system == \"Linux\" and platform_machine == \"x86_64\", which is not installed.\n",
            "torch 2.3.1+cu121 requires nvidia-cufft-cu12==11.0.2.54; platform_system == \"Linux\" and platform_machine == \"x86_64\", which is not installed.\n",
            "torch 2.3.1+cu121 requires nvidia-curand-cu12==10.3.2.106; platform_system == \"Linux\" and platform_machine == \"x86_64\", which is not installed.\n",
            "torch 2.3.1+cu121 requires nvidia-cusolver-cu12==11.4.5.107; platform_system == \"Linux\" and platform_machine == \"x86_64\", which is not installed.\n",
            "torch 2.3.1+cu121 requires nvidia-cusparse-cu12==12.1.0.106; platform_system == \"Linux\" and platform_machine == \"x86_64\", which is not installed.\n",
            "torch 2.3.1+cu121 requires nvidia-nvtx-cu12==12.1.105; platform_system == \"Linux\" and platform_machine == \"x86_64\", which is not installed.\n",
            "torch 2.3.1+cu121 requires nvidia-nccl-cu12==2.20.5; platform_system == \"Linux\" and platform_machine == \"x86_64\", but you have nvidia-nccl-cu12 2.22.3 which is incompatible.\u001b[0m\u001b[31m\n",
            "\u001b[0mSuccessfully installed nvidia-nccl-cu12-2.22.3\n"
          ]
        }
      ],
      "source": [
        "## Cargamos las librerias que necesitaremos\n",
        "!pip install --upgrade scikit-learn\n",
        "!pip install --upgrade scikit-learn-intelex\n",
        "import pickle\n",
        "import seaborn as sb\n",
        "import missingno as msno\n",
        "import pandas as pd\n",
        "import numpy as np\n",
        "import matplotlib.pyplot as plt\n",
        "!pip install missingpy\n",
        "from sklearn.preprocessing import StandardScaler, LabelEncoder\n",
        "from sklearn.impute import SimpleImputer\n",
        "from sklearn.model_selection import train_test_split, GridSearchCV, StratifiedKFold\n",
        "from sklearn.metrics import accuracy_score, ConfusionMatrixDisplay, classification_report\n",
        "from sklearn.tree import DecisionTreeClassifier\n",
        "from sklearn.metrics import accuracy_score, precision_score, recall_score, f1_score, confusion_matrix, roc_auc_score\n",
        "from google.colab import drive\n",
        "from sklearn.pipeline import Pipeline\n",
        "from sklearn import datasets\n",
        "from matplotlib.colors import ListedColormap\n",
        "import warnings\n",
        "warnings.filterwarnings('ignore')\n",
        "!pip install catboost\n",
        "!pip install xgboost\n",
        "from sklearn.ensemble import RandomForestClassifier, AdaBoostClassifier, GradientBoostingClassifier, ExtraTreesClassifier\n",
        "from sklearn.neural_network import MLPClassifier\n",
        "from sklearn.naive_bayes import GaussianNB\n",
        "from sklearn.svm import LinearSVC\n",
        "from sklearn.neighbors import KNeighborsClassifier, NearestCentroid\n",
        "from sklearn.discriminant_analysis import QuadraticDiscriminantAnalysis\n",
        "from sklearn.experimental import enable_hist_gradient_boosting\n",
        "from sklearn.ensemble import HistGradientBoostingClassifier\n",
        "import lightgbm as lgb\n",
        "from sklearn.metrics import accuracy_score\n",
        "import xgboost as xgb\n",
        "from xgboost import XGBClassifier\n",
        "from sklearn.tree import DecisionTreeClassifier\n",
        "from sklearn.linear_model import LogisticRegression, RidgeClassifier, SGDClassifier\n",
        "from sklearn.svm import LinearSVC, SVC\n",
        "from google.colab import files\n",
        "from sklearn.ensemble import StackingClassifier\n"
      ]
    },
    {
      "cell_type": "code",
      "execution_count": null,
      "metadata": {
        "colab": {
          "base_uri": "https://localhost:8080/"
        },
        "id": "c7PT266ketHh",
        "outputId": "a0a7a5fa-dcaf-4663-cf8f-5eca07b54074",
        "collapsed": true
      },
      "outputs": [
        {
          "output_type": "stream",
          "name": "stdout",
          "text": [
            "Mounted at /content/drive\n"
          ]
        }
      ],
      "source": [
        "## Montamos el Drive\n",
        "drive.mount('/content/drive')"
      ]
    },
    {
      "cell_type": "markdown",
      "metadata": {
        "id": "F0ebPR9udqR3"
      },
      "source": [
        "Cargamos los datos de entrenamiento que vamos a utilizar para generar nuestro modelo."
      ]
    },
    {
      "cell_type": "code",
      "execution_count": null,
      "metadata": {
        "id": "iHmFwMm5oNOi"
      },
      "outputs": [],
      "source": [
        "#Ruta\n",
        "train_df = pd.read_csv('/content/drive/MyDrive/Colab Notebooks/AS/diabetes_prediction_dataset_train-labeled.csv')"
      ]
    },
    {
      "cell_type": "markdown",
      "metadata": {
        "id": "xBD1Zpx5dqR3"
      },
      "source": [
        "### Curación de datos en la base Train"
      ]
    },
    {
      "cell_type": "code",
      "execution_count": null,
      "metadata": {
        "colab": {
          "base_uri": "https://localhost:8080/"
        },
        "id": "ODBWpF3VdqR3",
        "outputId": "61d87756-4a0e-4a87-e871-40114165197b",
        "collapsed": true
      },
      "outputs": [
        {
          "output_type": "stream",
          "name": "stdout",
          "text": [
            "(95000, 10)\n",
            "             patient           age  hypertension  heart_disease           bmi  \\\n",
            "count   95000.000000  95000.000000  95000.000000   95000.000000  95000.000000   \n",
            "mean    50016.501389     41.935269      0.075074       0.039463     27.320879   \n",
            "std     28868.357071     22.514788      0.263512       0.194695      6.626335   \n",
            "min         1.000000      0.080000      0.000000       0.000000     10.010000   \n",
            "25%     25021.750000     24.000000      0.000000       0.000000     23.650000   \n",
            "50%     50024.000000     43.000000      0.000000       0.000000     27.320000   \n",
            "75%     75024.250000     60.000000      0.000000       0.000000     29.580000   \n",
            "max    100000.000000     80.000000      1.000000       1.000000     95.690000   \n",
            "\n",
            "        HbA1c_level  blood_glucose_level      diabetes  \n",
            "count  95000.000000         95000.000000  95000.000000  \n",
            "mean       5.527659           138.070537      0.085074  \n",
            "std        1.070261            40.739962      0.278993  \n",
            "min        3.500000            80.000000      0.000000  \n",
            "25%        4.800000           100.000000      0.000000  \n",
            "50%        5.800000           140.000000      0.000000  \n",
            "75%        6.200000           159.000000      0.000000  \n",
            "max        9.000000           300.000000      1.000000  \n"
          ]
        }
      ],
      "source": [
        "print(train_df.shape)\n",
        "print(train_df.describe())"
      ]
    },
    {
      "cell_type": "code",
      "execution_count": null,
      "metadata": {
        "colab": {
          "base_uri": "https://localhost:8080/",
          "height": 206
        },
        "id": "i7UZecR8dqR3",
        "outputId": "ecafd379-07f6-448f-dea6-ade301e9953f",
        "collapsed": true
      },
      "outputs": [
        {
          "output_type": "execute_result",
          "data": {
            "text/plain": [
              "   patient  gender   age  hypertension  heart_disease smoking_history    bmi  \\\n",
              "0    20432    Male   4.0             0              0           never  19.28   \n",
              "1    49682  Female  50.0             0              0          former  27.32   \n",
              "2    73886  Female  43.0             0              0           never  21.54   \n",
              "3    53144    Male  64.0             0              0         current  28.22   \n",
              "4    98507    Male  10.0             0              0         No Info  15.46   \n",
              "\n",
              "   HbA1c_level  blood_glucose_level  diabetes  \n",
              "0          3.5                  155         0  \n",
              "1          5.7                  159         0  \n",
              "2          4.5                  145         0  \n",
              "3          6.0                  130         0  \n",
              "4          6.1                  140         0  "
            ],
            "text/html": [
              "\n",
              "  <div id=\"df-1ca0a90c-ce93-4c07-9106-699fa5b5d9a7\" class=\"colab-df-container\">\n",
              "    <div>\n",
              "<style scoped>\n",
              "    .dataframe tbody tr th:only-of-type {\n",
              "        vertical-align: middle;\n",
              "    }\n",
              "\n",
              "    .dataframe tbody tr th {\n",
              "        vertical-align: top;\n",
              "    }\n",
              "\n",
              "    .dataframe thead th {\n",
              "        text-align: right;\n",
              "    }\n",
              "</style>\n",
              "<table border=\"1\" class=\"dataframe\">\n",
              "  <thead>\n",
              "    <tr style=\"text-align: right;\">\n",
              "      <th></th>\n",
              "      <th>patient</th>\n",
              "      <th>gender</th>\n",
              "      <th>age</th>\n",
              "      <th>hypertension</th>\n",
              "      <th>heart_disease</th>\n",
              "      <th>smoking_history</th>\n",
              "      <th>bmi</th>\n",
              "      <th>HbA1c_level</th>\n",
              "      <th>blood_glucose_level</th>\n",
              "      <th>diabetes</th>\n",
              "    </tr>\n",
              "  </thead>\n",
              "  <tbody>\n",
              "    <tr>\n",
              "      <th>0</th>\n",
              "      <td>20432</td>\n",
              "      <td>Male</td>\n",
              "      <td>4.0</td>\n",
              "      <td>0</td>\n",
              "      <td>0</td>\n",
              "      <td>never</td>\n",
              "      <td>19.28</td>\n",
              "      <td>3.5</td>\n",
              "      <td>155</td>\n",
              "      <td>0</td>\n",
              "    </tr>\n",
              "    <tr>\n",
              "      <th>1</th>\n",
              "      <td>49682</td>\n",
              "      <td>Female</td>\n",
              "      <td>50.0</td>\n",
              "      <td>0</td>\n",
              "      <td>0</td>\n",
              "      <td>former</td>\n",
              "      <td>27.32</td>\n",
              "      <td>5.7</td>\n",
              "      <td>159</td>\n",
              "      <td>0</td>\n",
              "    </tr>\n",
              "    <tr>\n",
              "      <th>2</th>\n",
              "      <td>73886</td>\n",
              "      <td>Female</td>\n",
              "      <td>43.0</td>\n",
              "      <td>0</td>\n",
              "      <td>0</td>\n",
              "      <td>never</td>\n",
              "      <td>21.54</td>\n",
              "      <td>4.5</td>\n",
              "      <td>145</td>\n",
              "      <td>0</td>\n",
              "    </tr>\n",
              "    <tr>\n",
              "      <th>3</th>\n",
              "      <td>53144</td>\n",
              "      <td>Male</td>\n",
              "      <td>64.0</td>\n",
              "      <td>0</td>\n",
              "      <td>0</td>\n",
              "      <td>current</td>\n",
              "      <td>28.22</td>\n",
              "      <td>6.0</td>\n",
              "      <td>130</td>\n",
              "      <td>0</td>\n",
              "    </tr>\n",
              "    <tr>\n",
              "      <th>4</th>\n",
              "      <td>98507</td>\n",
              "      <td>Male</td>\n",
              "      <td>10.0</td>\n",
              "      <td>0</td>\n",
              "      <td>0</td>\n",
              "      <td>No Info</td>\n",
              "      <td>15.46</td>\n",
              "      <td>6.1</td>\n",
              "      <td>140</td>\n",
              "      <td>0</td>\n",
              "    </tr>\n",
              "  </tbody>\n",
              "</table>\n",
              "</div>\n",
              "    <div class=\"colab-df-buttons\">\n",
              "\n",
              "  <div class=\"colab-df-container\">\n",
              "    <button class=\"colab-df-convert\" onclick=\"convertToInteractive('df-1ca0a90c-ce93-4c07-9106-699fa5b5d9a7')\"\n",
              "            title=\"Convert this dataframe to an interactive table.\"\n",
              "            style=\"display:none;\">\n",
              "\n",
              "  <svg xmlns=\"http://www.w3.org/2000/svg\" height=\"24px\" viewBox=\"0 -960 960 960\">\n",
              "    <path d=\"M120-120v-720h720v720H120Zm60-500h600v-160H180v160Zm220 220h160v-160H400v160Zm0 220h160v-160H400v160ZM180-400h160v-160H180v160Zm440 0h160v-160H620v160ZM180-180h160v-160H180v160Zm440 0h160v-160H620v160Z\"/>\n",
              "  </svg>\n",
              "    </button>\n",
              "\n",
              "  <style>\n",
              "    .colab-df-container {\n",
              "      display:flex;\n",
              "      gap: 12px;\n",
              "    }\n",
              "\n",
              "    .colab-df-convert {\n",
              "      background-color: #E8F0FE;\n",
              "      border: none;\n",
              "      border-radius: 50%;\n",
              "      cursor: pointer;\n",
              "      display: none;\n",
              "      fill: #1967D2;\n",
              "      height: 32px;\n",
              "      padding: 0 0 0 0;\n",
              "      width: 32px;\n",
              "    }\n",
              "\n",
              "    .colab-df-convert:hover {\n",
              "      background-color: #E2EBFA;\n",
              "      box-shadow: 0px 1px 2px rgba(60, 64, 67, 0.3), 0px 1px 3px 1px rgba(60, 64, 67, 0.15);\n",
              "      fill: #174EA6;\n",
              "    }\n",
              "\n",
              "    .colab-df-buttons div {\n",
              "      margin-bottom: 4px;\n",
              "    }\n",
              "\n",
              "    [theme=dark] .colab-df-convert {\n",
              "      background-color: #3B4455;\n",
              "      fill: #D2E3FC;\n",
              "    }\n",
              "\n",
              "    [theme=dark] .colab-df-convert:hover {\n",
              "      background-color: #434B5C;\n",
              "      box-shadow: 0px 1px 3px 1px rgba(0, 0, 0, 0.15);\n",
              "      filter: drop-shadow(0px 1px 2px rgba(0, 0, 0, 0.3));\n",
              "      fill: #FFFFFF;\n",
              "    }\n",
              "  </style>\n",
              "\n",
              "    <script>\n",
              "      const buttonEl =\n",
              "        document.querySelector('#df-1ca0a90c-ce93-4c07-9106-699fa5b5d9a7 button.colab-df-convert');\n",
              "      buttonEl.style.display =\n",
              "        google.colab.kernel.accessAllowed ? 'block' : 'none';\n",
              "\n",
              "      async function convertToInteractive(key) {\n",
              "        const element = document.querySelector('#df-1ca0a90c-ce93-4c07-9106-699fa5b5d9a7');\n",
              "        const dataTable =\n",
              "          await google.colab.kernel.invokeFunction('convertToInteractive',\n",
              "                                                    [key], {});\n",
              "        if (!dataTable) return;\n",
              "\n",
              "        const docLinkHtml = 'Like what you see? Visit the ' +\n",
              "          '<a target=\"_blank\" href=https://colab.research.google.com/notebooks/data_table.ipynb>data table notebook</a>'\n",
              "          + ' to learn more about interactive tables.';\n",
              "        element.innerHTML = '';\n",
              "        dataTable['output_type'] = 'display_data';\n",
              "        await google.colab.output.renderOutput(dataTable, element);\n",
              "        const docLink = document.createElement('div');\n",
              "        docLink.innerHTML = docLinkHtml;\n",
              "        element.appendChild(docLink);\n",
              "      }\n",
              "    </script>\n",
              "  </div>\n",
              "\n",
              "\n",
              "<div id=\"df-211a65b2-3f6c-40aa-a3ca-d0236b545d0a\">\n",
              "  <button class=\"colab-df-quickchart\" onclick=\"quickchart('df-211a65b2-3f6c-40aa-a3ca-d0236b545d0a')\"\n",
              "            title=\"Suggest charts\"\n",
              "            style=\"display:none;\">\n",
              "\n",
              "<svg xmlns=\"http://www.w3.org/2000/svg\" height=\"24px\"viewBox=\"0 0 24 24\"\n",
              "     width=\"24px\">\n",
              "    <g>\n",
              "        <path d=\"M19 3H5c-1.1 0-2 .9-2 2v14c0 1.1.9 2 2 2h14c1.1 0 2-.9 2-2V5c0-1.1-.9-2-2-2zM9 17H7v-7h2v7zm4 0h-2V7h2v10zm4 0h-2v-4h2v4z\"/>\n",
              "    </g>\n",
              "</svg>\n",
              "  </button>\n",
              "\n",
              "<style>\n",
              "  .colab-df-quickchart {\n",
              "      --bg-color: #E8F0FE;\n",
              "      --fill-color: #1967D2;\n",
              "      --hover-bg-color: #E2EBFA;\n",
              "      --hover-fill-color: #174EA6;\n",
              "      --disabled-fill-color: #AAA;\n",
              "      --disabled-bg-color: #DDD;\n",
              "  }\n",
              "\n",
              "  [theme=dark] .colab-df-quickchart {\n",
              "      --bg-color: #3B4455;\n",
              "      --fill-color: #D2E3FC;\n",
              "      --hover-bg-color: #434B5C;\n",
              "      --hover-fill-color: #FFFFFF;\n",
              "      --disabled-bg-color: #3B4455;\n",
              "      --disabled-fill-color: #666;\n",
              "  }\n",
              "\n",
              "  .colab-df-quickchart {\n",
              "    background-color: var(--bg-color);\n",
              "    border: none;\n",
              "    border-radius: 50%;\n",
              "    cursor: pointer;\n",
              "    display: none;\n",
              "    fill: var(--fill-color);\n",
              "    height: 32px;\n",
              "    padding: 0;\n",
              "    width: 32px;\n",
              "  }\n",
              "\n",
              "  .colab-df-quickchart:hover {\n",
              "    background-color: var(--hover-bg-color);\n",
              "    box-shadow: 0 1px 2px rgba(60, 64, 67, 0.3), 0 1px 3px 1px rgba(60, 64, 67, 0.15);\n",
              "    fill: var(--button-hover-fill-color);\n",
              "  }\n",
              "\n",
              "  .colab-df-quickchart-complete:disabled,\n",
              "  .colab-df-quickchart-complete:disabled:hover {\n",
              "    background-color: var(--disabled-bg-color);\n",
              "    fill: var(--disabled-fill-color);\n",
              "    box-shadow: none;\n",
              "  }\n",
              "\n",
              "  .colab-df-spinner {\n",
              "    border: 2px solid var(--fill-color);\n",
              "    border-color: transparent;\n",
              "    border-bottom-color: var(--fill-color);\n",
              "    animation:\n",
              "      spin 1s steps(1) infinite;\n",
              "  }\n",
              "\n",
              "  @keyframes spin {\n",
              "    0% {\n",
              "      border-color: transparent;\n",
              "      border-bottom-color: var(--fill-color);\n",
              "      border-left-color: var(--fill-color);\n",
              "    }\n",
              "    20% {\n",
              "      border-color: transparent;\n",
              "      border-left-color: var(--fill-color);\n",
              "      border-top-color: var(--fill-color);\n",
              "    }\n",
              "    30% {\n",
              "      border-color: transparent;\n",
              "      border-left-color: var(--fill-color);\n",
              "      border-top-color: var(--fill-color);\n",
              "      border-right-color: var(--fill-color);\n",
              "    }\n",
              "    40% {\n",
              "      border-color: transparent;\n",
              "      border-right-color: var(--fill-color);\n",
              "      border-top-color: var(--fill-color);\n",
              "    }\n",
              "    60% {\n",
              "      border-color: transparent;\n",
              "      border-right-color: var(--fill-color);\n",
              "    }\n",
              "    80% {\n",
              "      border-color: transparent;\n",
              "      border-right-color: var(--fill-color);\n",
              "      border-bottom-color: var(--fill-color);\n",
              "    }\n",
              "    90% {\n",
              "      border-color: transparent;\n",
              "      border-bottom-color: var(--fill-color);\n",
              "    }\n",
              "  }\n",
              "</style>\n",
              "\n",
              "  <script>\n",
              "    async function quickchart(key) {\n",
              "      const quickchartButtonEl =\n",
              "        document.querySelector('#' + key + ' button');\n",
              "      quickchartButtonEl.disabled = true;  // To prevent multiple clicks.\n",
              "      quickchartButtonEl.classList.add('colab-df-spinner');\n",
              "      try {\n",
              "        const charts = await google.colab.kernel.invokeFunction(\n",
              "            'suggestCharts', [key], {});\n",
              "      } catch (error) {\n",
              "        console.error('Error during call to suggestCharts:', error);\n",
              "      }\n",
              "      quickchartButtonEl.classList.remove('colab-df-spinner');\n",
              "      quickchartButtonEl.classList.add('colab-df-quickchart-complete');\n",
              "    }\n",
              "    (() => {\n",
              "      let quickchartButtonEl =\n",
              "        document.querySelector('#df-211a65b2-3f6c-40aa-a3ca-d0236b545d0a button');\n",
              "      quickchartButtonEl.style.display =\n",
              "        google.colab.kernel.accessAllowed ? 'block' : 'none';\n",
              "    })();\n",
              "  </script>\n",
              "</div>\n",
              "\n",
              "    </div>\n",
              "  </div>\n"
            ],
            "application/vnd.google.colaboratory.intrinsic+json": {
              "type": "dataframe",
              "variable_name": "train_df",
              "summary": "{\n  \"name\": \"train_df\",\n  \"rows\": 95000,\n  \"fields\": [\n    {\n      \"column\": \"patient\",\n      \"properties\": {\n        \"dtype\": \"number\",\n        \"std\": 28868,\n        \"min\": 1,\n        \"max\": 100000,\n        \"num_unique_values\": 95000,\n        \"samples\": [\n          20417,\n          11482,\n          44601\n        ],\n        \"semantic_type\": \"\",\n        \"description\": \"\"\n      }\n    },\n    {\n      \"column\": \"gender\",\n      \"properties\": {\n        \"dtype\": \"category\",\n        \"num_unique_values\": 3,\n        \"samples\": [\n          \"Male\",\n          \"Female\",\n          \"Other\"\n        ],\n        \"semantic_type\": \"\",\n        \"description\": \"\"\n      }\n    },\n    {\n      \"column\": \"age\",\n      \"properties\": {\n        \"dtype\": \"number\",\n        \"std\": 22.514788038607435,\n        \"min\": 0.08,\n        \"max\": 80.0,\n        \"num_unique_values\": 102,\n        \"samples\": [\n          67.0,\n          51.0,\n          13.0\n        ],\n        \"semantic_type\": \"\",\n        \"description\": \"\"\n      }\n    },\n    {\n      \"column\": \"hypertension\",\n      \"properties\": {\n        \"dtype\": \"number\",\n        \"std\": 0,\n        \"min\": 0,\n        \"max\": 1,\n        \"num_unique_values\": 2,\n        \"samples\": [\n          1,\n          0\n        ],\n        \"semantic_type\": \"\",\n        \"description\": \"\"\n      }\n    },\n    {\n      \"column\": \"heart_disease\",\n      \"properties\": {\n        \"dtype\": \"number\",\n        \"std\": 0,\n        \"min\": 0,\n        \"max\": 1,\n        \"num_unique_values\": 2,\n        \"samples\": [\n          1,\n          0\n        ],\n        \"semantic_type\": \"\",\n        \"description\": \"\"\n      }\n    },\n    {\n      \"column\": \"smoking_history\",\n      \"properties\": {\n        \"dtype\": \"category\",\n        \"num_unique_values\": 6,\n        \"samples\": [\n          \"never\",\n          \"former\"\n        ],\n        \"semantic_type\": \"\",\n        \"description\": \"\"\n      }\n    },\n    {\n      \"column\": \"bmi\",\n      \"properties\": {\n        \"dtype\": \"number\",\n        \"std\": 6.626335326674152,\n        \"min\": 10.01,\n        \"max\": 95.69,\n        \"num_unique_values\": 4204,\n        \"samples\": [\n          24.04,\n          33.53\n        ],\n        \"semantic_type\": \"\",\n        \"description\": \"\"\n      }\n    },\n    {\n      \"column\": \"HbA1c_level\",\n      \"properties\": {\n        \"dtype\": \"number\",\n        \"std\": 1.0702609067458528,\n        \"min\": 3.5,\n        \"max\": 9.0,\n        \"num_unique_values\": 18,\n        \"samples\": [\n          3.5,\n          5.7\n        ],\n        \"semantic_type\": \"\",\n        \"description\": \"\"\n      }\n    },\n    {\n      \"column\": \"blood_glucose_level\",\n      \"properties\": {\n        \"dtype\": \"number\",\n        \"std\": 40,\n        \"min\": 80,\n        \"max\": 300,\n        \"num_unique_values\": 18,\n        \"samples\": [\n          155,\n          159\n        ],\n        \"semantic_type\": \"\",\n        \"description\": \"\"\n      }\n    },\n    {\n      \"column\": \"diabetes\",\n      \"properties\": {\n        \"dtype\": \"number\",\n        \"std\": 0,\n        \"min\": 0,\n        \"max\": 1,\n        \"num_unique_values\": 2,\n        \"samples\": [\n          1,\n          0\n        ],\n        \"semantic_type\": \"\",\n        \"description\": \"\"\n      }\n    }\n  ]\n}"
            }
          },
          "metadata": {},
          "execution_count": 5
        }
      ],
      "source": [
        "train_df.head()"
      ]
    },
    {
      "cell_type": "code",
      "execution_count": null,
      "metadata": {
        "colab": {
          "base_uri": "https://localhost:8080/"
        },
        "id": "YRvfFSx-9Lh_",
        "outputId": "524c3bb5-7830-49f5-af3b-c86d66eaefea",
        "collapsed": true
      },
      "outputs": [
        {
          "output_type": "execute_result",
          "data": {
            "text/plain": [
              "['patient',\n",
              " 'gender',\n",
              " 'age',\n",
              " 'hypertension',\n",
              " 'heart_disease',\n",
              " 'smoking_history',\n",
              " 'bmi',\n",
              " 'HbA1c_level',\n",
              " 'blood_glucose_level',\n",
              " 'diabetes']"
            ]
          },
          "metadata": {},
          "execution_count": 6
        }
      ],
      "source": [
        "list(train_df.columns)"
      ]
    },
    {
      "cell_type": "code",
      "execution_count": null,
      "metadata": {
        "colab": {
          "base_uri": "https://localhost:8080/"
        },
        "id": "CzcL_1a-wsg2",
        "outputId": "af418dac-6142-495e-fcee-ddac47c54870",
        "collapsed": true
      },
      "outputs": [
        {
          "output_type": "stream",
          "name": "stdout",
          "text": [
            "Variable 'patient' es numérica continua.\n",
            "Variable 'gender' es categórica. Categorías: ['Male' 'Female' 'Other']\n",
            "Variable 'age' es numérica continua.\n",
            "Variable 'hypertension' es numérica discreta. Clases: [0 1]\n",
            "Variable 'heart_disease' es numérica discreta. Clases: [0 1]\n",
            "Variable 'smoking_history' es categórica. Categorías: ['never' 'former' 'current' 'No Info' 'not current' 'ever']\n",
            "Variable 'bmi' es numérica continua.\n",
            "Variable 'HbA1c_level' es numérica continua.\n",
            "Variable 'blood_glucose_level' es numérica continua.\n",
            "Variable 'diabetes' es numérica discreta. Clases: [0 1]\n"
          ]
        }
      ],
      "source": [
        "#Veamos que tipo de variables tiene el data set\n",
        "for column in train_df.columns:\n",
        "  if train_df[column].dtype == 'object':\n",
        "    print(f\"Variable '{column}' es categórica. Categorías: {train_df[column].unique()}\")\n",
        "  elif train_df[column].dtype in ['int64', 'float64']:\n",
        "    if len(train_df[column].unique()) < 10:  # Asumiendo que si hay menos de 10 valores únicos, es discreta\n",
        "      print(f\"Variable '{column}' es numérica discreta. Clases: {train_df[column].unique()}\")\n",
        "    else:\n",
        "      print(f\"Variable '{column}' es numérica continua.\")\n"
      ]
    },
    {
      "cell_type": "code",
      "execution_count": null,
      "metadata": {
        "colab": {
          "base_uri": "https://localhost:8080/"
        },
        "id": "QWaDFMD1dqR4",
        "outputId": "0a1c8abd-6374-4a5e-8886-93831f527fba",
        "collapsed": true
      },
      "outputs": [
        {
          "output_type": "stream",
          "name": "stdout",
          "text": [
            "<class 'pandas.core.frame.DataFrame'>\n",
            "RangeIndex: 95000 entries, 0 to 94999\n",
            "Data columns (total 10 columns):\n",
            " #   Column               Non-Null Count  Dtype  \n",
            "---  ------               --------------  -----  \n",
            " 0   patient              95000 non-null  int64  \n",
            " 1   gender               95000 non-null  object \n",
            " 2   age                  95000 non-null  float64\n",
            " 3   hypertension         95000 non-null  int64  \n",
            " 4   heart_disease        95000 non-null  int64  \n",
            " 5   smoking_history      95000 non-null  object \n",
            " 6   bmi                  95000 non-null  float64\n",
            " 7   HbA1c_level          95000 non-null  float64\n",
            " 8   blood_glucose_level  95000 non-null  int64  \n",
            " 9   diabetes             95000 non-null  int64  \n",
            "dtypes: float64(3), int64(5), object(2)\n",
            "memory usage: 7.2+ MB\n"
          ]
        }
      ],
      "source": [
        "train_df.info()"
      ]
    },
    {
      "cell_type": "code",
      "execution_count": null,
      "metadata": {
        "id": "e-d5ZBaZ3BE-"
      },
      "outputs": [],
      "source": [
        "#Convertir la variable blood_glucose_level a float64\n",
        "train_df['blood_glucose_level'] = train_df['blood_glucose_level'].astype('float64')"
      ]
    },
    {
      "cell_type": "code",
      "execution_count": null,
      "metadata": {
        "colab": {
          "base_uri": "https://localhost:8080/",
          "height": 437
        },
        "id": "H39wp4wJiThs",
        "outputId": "e44ce97d-9008-41d0-d09c-eae86fff25ec"
      },
      "outputs": [
        {
          "output_type": "execute_result",
          "data": {
            "text/plain": [
              "<Axes: >"
            ]
          },
          "metadata": {},
          "execution_count": 10
        },
        {
          "output_type": "display_data",
          "data": {
            "text/plain": [
              "<Figure size 600x300 with 2 Axes>"
            ],
            "image/png": "[encoded data removed]"
          },
          "metadata": {}
        }
      ],
      "source": [
        "msno.matrix(train_df,figsize=(6, 3), fontsize=12, color=[0,0,0.2])"
      ]
    },
    {
      "cell_type": "markdown",
      "metadata": {
        "id": "rNj1hUoedqR4"
      },
      "source": [
        "La columna ***`diabetes`*** es la columna que debemos predecir. Tener en cuenta que en el dataset de Test esta columna tiene valores nulos."
      ]
    },
    {
      "cell_type": "markdown",
      "source": [
        "**Diabetes**"
      ],
      "metadata": {
        "id": "Rk8OMV8cMPwB"
      }
    },
    {
      "cell_type": "code",
      "source": [
        "# Exploramos la variable a predecir DIABETES\n",
        "\n",
        "# Crearmos una figura con una fila y dos columnas\n",
        "fig, axs = plt.subplots(1, 2, figsize=(8, 4))\n",
        "# Primer gráfico: Pie chart\n",
        "axs[0].pie(train_df.diabetes.value_counts(), labels=['No', 'Sí'], autopct='%1.1f%%')\n",
        "axs[0].set_title('Pacientes con diabetes')\n",
        "# Segundo gráfico: Bar plot\n",
        "train_df.groupby(\"patient\").diabetes.mean().value_counts().plot(kind='bar', ax=axs[1])\n",
        "axs[1].set_title('Distribución de diabetes entre pacientes')\n",
        "axs[1].set_xlabel('Diabetes (0 = No, 1 = Sí)')\n",
        "axs[1].set_ylabel('Número de pacientes')\n",
        "# Ajustar el espacio entre gráficos\n",
        "plt.tight_layout()\n",
        "# Mostrar los gráficos\n",
        "plt.show()"
      ],
      "metadata": {
        "colab": {
          "base_uri": "https://localhost:8080/",
          "height": 407
        },
        "id": "2KQqLOnj65gS",
        "outputId": "21d3a250-bd6b-490e-c02d-afc1963c42f5"
      },
      "execution_count": null,
      "outputs": [
        {
          "output_type": "display_data",
          "data": {
            "text/plain": [
              "<Figure size 800x400 with 2 Axes>"
            ],
            "image/png": "[encoded data removed]"
          },
          "metadata": {}
        }
      ]
    },
    {
      "cell_type": "markdown",
      "metadata": {
        "id": "BONH_gwyqXBz"
      },
      "source": [
        "Se observa un desbalance significativo en las clases de la variable objetivo. La clase \"No diabetes\" (clase 0) cuenta con un mayor número de muestras en comparación con la clase \"Diabetes\" (clase 1). Este desbalance en la cantidad de casos puede impactar negativamente el desempeño del modelo predictivo para la diabetes.\n",
        "\n",
        "Específicamente, este desbalance puede resultar en una alta precisión para la clase mayoritaria, pero con una precisión y un recall reducidos para la clase minoritaria. Esto sugiere que el modelo podría tener dificultades para identificar correctamente los casos de diabetes, que son de particular interés en este análisis.\n",
        "\n",
        "Para mitigar este problema, implementaremos diferentes modelos como Regresión Logística y exploraremos técnicas basadas en árboles de decisión, así como algoritmos de boosting como XGBoost y AdaBoost. Estos enfoques tienen la ventaja de ajustar el peso asignado a la clase minoritaria en cada iteración, lo que ayuda a mejorar la detección de la clase de interés."
      ]
    },
    {
      "cell_type": "markdown",
      "source": [
        "**Exploración de variables**"
      ],
      "metadata": {
        "id": "KaQ3KHnfUswp"
      }
    },
    {
      "cell_type": "code",
      "execution_count": null,
      "metadata": {
        "colab": {
          "base_uri": "https://localhost:8080/",
          "height": 407
        },
        "id": "m0b9f36Q38-1",
        "outputId": "dcc72198-f83d-4c47-d12d-b9f1cac0e943"
      },
      "outputs": [
        {
          "output_type": "display_data",
          "data": {
            "text/plain": [
              "<Figure size 800x400 with 4 Axes>"
            ],
            "image/png": "[encoded data removed]"
          },
          "metadata": {}
        }
      ],
      "source": [
        "# Identificamos variables numéricas continuas\n",
        "\n",
        "numeric_cols = train_df.select_dtypes(include=['float']).columns\n",
        "# Crear un boxplot para cada variable numérica continua en una matriz 2x2\n",
        "fig, axes = plt.subplots(nrows=2, ncols=2, figsize=(8,4))\n",
        "# Aplanar el array de axes para iterar fácilmente sobre ellos\n",
        "axes = axes.flatten()\n",
        "# Iterar sobre cada columna numérica y dibujar el boxplot en la matriz\n",
        "for i, col in enumerate(numeric_cols):\n",
        "    sb.boxplot(x=train_df[col], ax=axes[i])\n",
        "    axes[i].set_title(f'Boxplot de {col}')\n",
        "# Ajustar automáticamente la disposición de los gráficos\n",
        "plt.tight_layout()\n",
        "plt.show()\n"
      ]
    },
    {
      "cell_type": "markdown",
      "metadata": {
        "id": "YQkRJDsT5YcW"
      },
      "source": [
        "Se han identificado valores atípicos en las variables bmi, HbA1c_level y blood_glucose_level. Sin embargo, antes de tomar decisiones definitivas sobre estos datos, procederemos a analizar cómo estas variables se relacionan con la presencia de diabetes. Para ello, utilizaremos una serie de gráficos que nos permitirán explorar la distribución y el impacto de estos valores atípicos en el contexto de la variable objetivo \"Diabetes\"."
      ]
    },
    {
      "cell_type": "code",
      "source": [
        "# Identificar variables numéricas continuas\n",
        "numeric_cols = train_df.select_dtypes(include=['float']).columns\n",
        "# Crear un histograma para cada variable numérica continua en una matriz 2x2\n",
        "fig, axes = plt.subplots(nrows=2, ncols=2, figsize=(8, 6))\n",
        "# Aplanar el array de axes para iterar fácilmente sobre ellos\n",
        "axes = axes.flatten()\n",
        "# Iterar sobre cada columna numérica y dibujar el histograma en la matriz\n",
        "for i, col in enumerate(numeric_cols):\n",
        "    sb.histplot(train_df[col], ax=axes[i], bins=20)  # Ajusta 'bins' según sea necesario\n",
        "    axes[i].set_title(f'Histograma de {col}')\n",
        "    axes[i].set_xlabel(col)\n",
        "    axes[i].set_ylabel('Frecuencia')\n",
        "# Ajustar automáticamente la disposición de los gráficos\n",
        "plt.tight_layout()\n",
        "plt.show()"
      ],
      "metadata": {
        "colab": {
          "base_uri": "https://localhost:8080/",
          "height": 607
        },
        "id": "jXHN4Y-NUfad",
        "outputId": "35e7ed9e-9dc2-45d8-e5b4-e115692cdedc"
      },
      "execution_count": null,
      "outputs": [
        {
          "output_type": "display_data",
          "data": {
            "text/plain": [
              "<Figure size 800x600 with 4 Axes>"
            ],
            "image/png": "[encoded data removed]"
          },
          "metadata": {}
        }
      ]
    },
    {
      "cell_type": "code",
      "source": [
        "# Separar las variables numéricas y categóricas\n",
        "numeric_cols = train_df.select_dtypes(include=['float64', 'int64']).columns.drop('diabetes')\n",
        "categorical_cols = train_df.select_dtypes(include=['object', 'category', 'bool']).columns\n",
        "# Número total de gráficos\n",
        "total_graphs = len(numeric_cols) + len(categorical_cols)\n",
        "# Limitar a 9 gráficos en la matriz 3x3\n",
        "total_graphs = min(total_graphs, 9)\n",
        "# Crear la figura con una matriz de 3x3\n",
        "fig, axes = plt.subplots(nrows=3, ncols=3, figsize=(12, 12))\n",
        "axes = axes.flatten()  # Convertir el arreglo de ejes en una lista plana\n",
        "# Graficar variables numéricas\n",
        "for i, col in enumerate(numeric_cols):\n",
        "    sb.boxplot(x='diabetes', y=col, data=train_df, ax=axes[i])\n",
        "    axes[i].set_title(f'{col} vs Diabetes')\n",
        "# Graficar variables categóricas\n",
        "for j, col in enumerate(categorical_cols):\n",
        "    if len(numeric_cols) + j < 9:  # Asegurarse de no exceder la cantidad de subgráficas\n",
        "        sb.countplot(x=col, hue='diabetes', data=train_df, ax=axes[len(numeric_cols) + j])\n",
        "        axes[len(numeric_cols) + j].set_title(f'{col} vs Diabetes')\n",
        "# Eliminar los ejes no utilizados si hay menos de 9 gráficos\n",
        "for k in range(total_graphs, 9):\n",
        "    fig.delaxes(axes[k])\n",
        "# Ajustar el diseño para una mejor visualización\n",
        "plt.tight_layout()\n",
        "plt.show()"
      ],
      "metadata": {
        "colab": {
          "base_uri": "https://localhost:8080/",
          "height": 1000
        },
        "id": "vk8pFnnT7tNT",
        "outputId": "f9fbac4e-518f-4391-b405-1abd16f1f281"
      },
      "execution_count": null,
      "outputs": [
        {
          "output_type": "display_data",
          "data": {
            "text/plain": [
              "<Figure size 1200x1200 with 9 Axes>"
            ],
            "image/png": "[encoded data removed]"
          },
          "metadata": {}
        }
      ]
    },
    {
      "cell_type": "markdown",
      "source": [
        "El análisis de los gráficos de boxplot sugiere una tendencia en la que los pacientes con valores más elevados en las variables age, bmi, HbA1c_level y blood_glucose_level presentan una mayor propensión a desarrollar diabetes. Además, los datos de la muestra indican que la prevalencia de diabetes es relativamente mayor en proporción en hombres en comparación con mujeres.\n",
        "\n",
        "\n"
      ],
      "metadata": {
        "id": "ctWvhfNYOYsq"
      }
    },
    {
      "cell_type": "code",
      "execution_count": null,
      "metadata": {
        "colab": {
          "base_uri": "https://localhost:8080/",
          "height": 607
        },
        "id": "X0LC4e9u43lL",
        "outputId": "3843f1b6-a4f0-456e-eabd-753fd6ec7096"
      },
      "outputs": [
        {
          "output_type": "display_data",
          "data": {
            "text/plain": [
              "<Figure size 800x600 with 4 Axes>"
            ],
            "image/png": "[encoded data removed]"
          },
          "metadata": {}
        }
      ],
      "source": [
        "# Generamos graficos de barras para las variables object e int64 excepto para 'patient' y 'diabetes'\n",
        "# Seleccionar columnas categóricas (object) e int64, excluyendo 'patient' y 'diabetes'\n",
        "categorical_cols = train_df.select_dtypes(include=['object', 'int64']).columns\n",
        "categorical_cols = [col for col in categorical_cols if col not in ['patient', 'diabetes']]\n",
        "\n",
        "# Crear una matriz de 2x2 para los gráficos de barras\n",
        "fig, axes = plt.subplots(nrows=2, ncols=2, figsize=(8,6))\n",
        "axes = axes.flatten()\n",
        "\n",
        "# Iterar sobre las columnas categóricas y crear gráficos de barras\n",
        "for i, col in enumerate(categorical_cols):\n",
        "    train_df[col].value_counts().plot(kind='bar', ax=axes[i])\n",
        "    axes[i].set_title(f'Distribución de {col}')\n",
        "    axes[i].set_xlabel(col)\n",
        "    axes[i].set_ylabel('Frecuencia')\n",
        "\n",
        "# Ajustar la disposición de los gráficos\n",
        "plt.tight_layout()\n",
        "plt.show()\n"
      ]
    },
    {
      "cell_type": "markdown",
      "source": [
        "*   **Variable Age**"
      ],
      "metadata": {
        "id": "PcXwJmL7MKhy"
      }
    },
    {
      "cell_type": "code",
      "source": [
        "#Evaluemos la variable age obteniendo la media, la mediana, el quantil 1,2, 5, 7, 10, 90, 92, 95,97 y 99 de la variable age\n",
        "# Calcular la media\n",
        "media_age = train_df['age'].mean()\n",
        "print(\"Media de 'age':\", media_age)\n",
        "# Calcular la mediana\n",
        "mediana_age = train_df['age'].median()\n",
        "print(\"Mediana de 'age':\", mediana_age)\n",
        "# Calcular los cuantiles\n",
        "quantiles = [0.01, 0.02, 0.05, 0.07, 0.1, 0.90,0.92,0.95, 0.97, 0.99]\n",
        "quantiles_age = train_df['age'].quantile(quantiles)\n",
        "print(\"Cuantiles de 'age':\")\n",
        "for q, value in zip(quantiles, quantiles_age):\n",
        "    print(f\"  {int(q*100)}%: {value}\")"
      ],
      "metadata": {
        "colab": {
          "base_uri": "https://localhost:8080/"
        },
        "id": "-4NoYnqLrKve",
        "outputId": "4ec44afe-9093-4c87-f488-cb8e774519bf"
      },
      "execution_count": null,
      "outputs": [
        {
          "output_type": "stream",
          "name": "stdout",
          "text": [
            "Media de 'age': 41.935268631578936\n",
            "Mediana de 'age': 43.0\n",
            "Cuantiles de 'age':\n",
            "  1%: 1.08\n",
            "  2%: 1.8\n",
            "  5%: 4.0\n",
            "  7%: 6.0\n",
            "  10%: 10.0\n",
            "  90%: 73.0\n",
            "  92%: 76.0\n",
            "  95%: 80.0\n",
            "  97%: 80.0\n",
            "  99%: 80.0\n"
          ]
        }
      ]
    },
    {
      "cell_type": "markdown",
      "source": [
        "A partir del análisis del histograma, los boxplots para la variable Age y el boxplot que relaciona Age con la variable Diabetes, hemos decidido filtrar los casos para mantener aquellos cuyas edades se encuentren entre el percentil 2 y el percentil 97. Este rango se ha seleccionado para reducir el impacto de los valores atípicos y concentrarse en la mayoría de los datos representativos, con el fin de mejorar la precisión y la robustez del análisis subsiguiente."
      ],
      "metadata": {
        "id": "eQ3qPM7_OG3b"
      }
    },
    {
      "cell_type": "code",
      "source": [
        "#Eliminar las filas del data set de manera tal que nos quedemos con la los valores de la variable age que sean mayores al cuantil 2 y menores que el cuantil 95.\n",
        "# Calcular los cuantiles 1% y 95%\n",
        "quantile_2 = train_df['age'].quantile(0.02)\n",
        "quantile_97 = train_df['age'].quantile(0.97)\n",
        "\n",
        "# Filtrar el DataFrame para mantener solo las filas dentro del rango\n",
        "train_df_filt = train_df[(train_df['age'] > quantile_2) & (train_df['age'] < quantile_97)]\n",
        "\n",
        "# Calcular el porcentaje de casos eliminados\n",
        "porcentaje_eliminado = 100 * (1 - len(train_df_filt) / len(train_df))\n",
        "print(f\"Porcentaje de casos eliminados: {porcentaje_eliminado:.2f}%\")"
      ],
      "metadata": {
        "colab": {
          "base_uri": "https://localhost:8080/"
        },
        "id": "xVFtqdUZsUv5",
        "outputId": "567227f1-26c2-4a13-efc7-cab68b395d50"
      },
      "execution_count": null,
      "outputs": [
        {
          "output_type": "stream",
          "name": "stdout",
          "text": [
            "Porcentaje de casos eliminados: 7.64%\n"
          ]
        }
      ]
    },
    {
      "cell_type": "code",
      "source": [
        "#Visualicemos la variable Age luego del filtrado\n",
        "#Crear el histograma de la variable 'age'\n",
        "plt.figure(figsize=(5, 3))\n",
        "plt.hist(train_df_filt['age'], bins=20, edgecolor='black', alpha=0.7)\n",
        "plt.title('Histograma de la variable Age')\n",
        "plt.xlabel('Age')\n",
        "plt.ylabel('Frecuencia')\n",
        "plt.grid(axis='y', alpha=0.75)\n",
        "plt.show()"
      ],
      "metadata": {
        "colab": {
          "base_uri": "https://localhost:8080/",
          "height": 333
        },
        "id": "nkWJPSgsV1ra",
        "outputId": "c9212eff-ea96-4dad-e743-42ac617e14b2"
      },
      "execution_count": null,
      "outputs": [
        {
          "output_type": "display_data",
          "data": {
            "text/plain": [
              "<Figure size 500x300 with 1 Axes>"
            ],
            "image/png": "[encoded data removed]"
          },
          "metadata": {}
        }
      ]
    },
    {
      "cell_type": "markdown",
      "source": [
        "*   **Variable bmi**"
      ],
      "metadata": {
        "id": "wULuuSKzV3Q2"
      }
    },
    {
      "cell_type": "code",
      "source": [
        "#Evaluemos la variable bmi obteniendo la media y el quantil 1, 5, 7, 10, 50, 90, 92, 95, 99 y 99.9\n",
        "# Calcular la media\n",
        "media_bmi = train_df_filt['bmi'].mean()\n",
        "print(\"Media de 'bmi':\", media_bmi)\n",
        "# Calcular la mediana\n",
        "mediana_bmi = train_df_filt['bmi'].median()\n",
        "print(\"Mediana de 'bmi':\", mediana_bmi)\n",
        "# Calcular los cuantiles\n",
        "quantiles = [0.01, 0.05, 0.07, 0.1, 0.90,0.92,0.95, 0.99, 0.999]\n",
        "quantiles_bmi= train_df_filt['bmi'].quantile(quantiles)\n",
        "print(\"Cuantiles de 'bmi':\")\n",
        "for q, value in zip(quantiles, quantiles_bmi):\n",
        "    print(f\"  {int(q*100)}%: {value:.3f}\")"
      ],
      "metadata": {
        "colab": {
          "base_uri": "https://localhost:8080/"
        },
        "id": "J-BBk6TiWo5j",
        "outputId": "02cdb847-bee4-4658-cad6-b42dc3ec7c01"
      },
      "execution_count": null,
      "outputs": [
        {
          "output_type": "stream",
          "name": "stdout",
          "text": [
            "Media de 'bmi': 27.559926942408733\n",
            "Mediana de 'bmi': 27.32\n",
            "Cuantiles de 'bmi':\n",
            "  1%: 14.860\n",
            "  5%: 17.180\n",
            "  7%: 18.210\n",
            "  10%: 19.600\n",
            "  90%: 35.820\n",
            "  92%: 37.160\n",
            "  95%: 39.880\n",
            "  99%: 49.076\n",
            "  99%: 61.058\n"
          ]
        }
      ]
    },
    {
      "cell_type": "markdown",
      "source": [
        "A partir del análisis del histograma, los boxplots para la variable bmi y el boxplot que relaciona bmi con la variable Diabetes, hemos decidido filtrar los casos para mantener aquellos cuyos bmi se encuentren entre el percentil 1 y el percentil 99,9%. Este rango se ha seleccionado para reducir el impacto de los valores atípicos y concentrarse en la mayoría de los datos representativos, con el fin de mejorar la precisión y la robustez del análisis subsiguiente."
      ],
      "metadata": {
        "id": "STHRQpm6SL8J"
      }
    },
    {
      "cell_type": "code",
      "source": [
        "#Eliminar las filas del data set de manera tal que nos quedemos con la los valores de la variable bmi que sean mayores al cuantil 1 y menores que el cuantil 99,9 .\n",
        "# Calcular los cuantiles 1% y 95%\n",
        "quantile_1 = train_df_filt['bmi'].quantile(0.01)\n",
        "quantile_999 = train_df_filt['bmi'].quantile(0.999)\n",
        "# Filtrar el DataFrame para mantener solo las filas dentro del rango\n",
        "train_df_filt2 = (train_df_filt[((train_df_filt['bmi'] > quantile_1) & (train_df_filt['bmi'] <= quantile_999) )])\n",
        "# Calcular el porcentaje de casos eliminados\n",
        "porcentaje_eliminado = (100 * (len(train_df_filt) - len(train_df_filt2))) / len((train_df_filt))\n",
        "print(f\"Porcentaje de casos eliminados: {porcentaje_eliminado:.2f}%\")"
      ],
      "metadata": {
        "colab": {
          "base_uri": "https://localhost:8080/"
        },
        "id": "n9ugSkK_Wo3H",
        "outputId": "2f6f060f-0e67-4030-8f42-c97685f8d732"
      },
      "execution_count": null,
      "outputs": [
        {
          "output_type": "stream",
          "name": "stdout",
          "text": [
            "Porcentaje de casos eliminados: 1.10%\n"
          ]
        }
      ]
    },
    {
      "cell_type": "code",
      "source": [
        "train_df_filt = train_df_filt2.copy()"
      ],
      "metadata": {
        "id": "HaCdbnfvYApS"
      },
      "execution_count": null,
      "outputs": []
    },
    {
      "cell_type": "markdown",
      "source": [
        "\n",
        "\n",
        "*   **Gender**\n"
      ],
      "metadata": {
        "id": "1rn4m7FZ7QmV"
      }
    },
    {
      "cell_type": "code",
      "source": [
        "# Contar el número de casos 'Other' en la columna 'gender'\n",
        "num_other = (train_df_filt['gender'] == 'Other').sum()\n",
        "\n",
        "print(f\"El número de casos 'Other' en la columna 'gender' es: {num_other}\")\n",
        "\n",
        "# Calcular el porcentaje de 'Other' en la columna 'gender'\n",
        "porcentaje_other = (train_df_filt['gender'] == 'Other').sum() / len(train_df_filt) * 100\n",
        "\n",
        "print(f\"El porcentaje de datos en la categoría 'Other' de la variable 'gender' es: {porcentaje_other:.2f}%\")\n"
      ],
      "metadata": {
        "colab": {
          "base_uri": "https://localhost:8080/"
        },
        "id": "7lXwMfUq7rom",
        "outputId": "fcad17ea-855a-4cb4-e80c-f20282951655"
      },
      "execution_count": null,
      "outputs": [
        {
          "output_type": "stream",
          "name": "stdout",
          "text": [
            "El número de casos 'Other' en la columna 'gender' es: 15\n",
            "El porcentaje de datos en la categoría 'Other' de la variable 'gender' es: 0.02%\n"
          ]
        }
      ]
    },
    {
      "cell_type": "markdown",
      "source": [
        "Dado que la variable Gender contiene valores faltantes o NaN, los cuales representan únicamente el 0.02% del total de los datos, hemos optado por eliminar estos registros de la base de datos. Esta decisión se basa en la mínima proporción de datos faltantes, lo que minimiza su impacto en el análisis. De este modo, aseguramos que los análisis predictivos futuros se realicen con un conjunto de datos completo y consistente, sin comprometer la integridad del modelo."
      ],
      "metadata": {
        "id": "OnDxXxPRUN8i"
      }
    },
    {
      "cell_type": "code",
      "source": [
        "# Filtrar el DataFrame para eliminar las filas con 'Other' en la columna 'gender'\n",
        "train_df_filt = train_df_filt[train_df_filt['gender'] != 'Other']\n",
        "# Verificar la cantidad de filas restantes\n",
        "print(train_df_filt.shape)"
      ],
      "metadata": {
        "colab": {
          "base_uri": "https://localhost:8080/"
        },
        "id": "twUetxKevpzU",
        "outputId": "4480c6b3-dc32-4899-da10-6a7bddc74083"
      },
      "execution_count": null,
      "outputs": [
        {
          "output_type": "stream",
          "name": "stdout",
          "text": [
            "(86756, 10)\n"
          ]
        }
      ]
    },
    {
      "cell_type": "markdown",
      "source": [
        "\n",
        "*   **Smoking_history**\n"
      ],
      "metadata": {
        "id": "CW9OUj3U7bRD"
      }
    },
    {
      "cell_type": "code",
      "execution_count": null,
      "metadata": {
        "colab": {
          "base_uri": "https://localhost:8080/"
        },
        "id": "YlsTX6lfP1Dw",
        "outputId": "362a9c79-4fbb-4aed-b221-925af5b5c48a"
      },
      "outputs": [
        {
          "output_type": "stream",
          "name": "stdout",
          "text": [
            "El porcentaje de datos en la categoría 'No Info' de la variable 'smoking_history' es: 34.29%\n",
            "El número de casos 'Other' en la columna 'gender' es: 29749\n"
          ]
        }
      ],
      "source": [
        "# Calcular el porcentaje de No Info' de la variable 'smoking_history'\n",
        "porcentaje_NoInfo = (train_df_filt['smoking_history'] == 'No Info').sum() / len(train_df_filt) * 100\n",
        "print(f\"El porcentaje de datos en la categoría 'No Info' de la variable 'smoking_history' es: {porcentaje_NoInfo:.2f}%\")\n",
        "\n",
        "# Contar el número de casos 'Other' en la columna 'gender'\n",
        "num_other = (train_df_filt['smoking_history'] == 'No Info').sum()\n",
        "\n",
        "print(f\"El número de casos 'Other' en la columna 'gender' es: {num_other}\")"
      ]
    },
    {
      "cell_type": "code",
      "execution_count": null,
      "metadata": {
        "colab": {
          "base_uri": "https://localhost:8080/"
        },
        "id": "bxIUqeATQH0Y",
        "outputId": "06cba26e-1b8a-4d00-dc7a-b1d6d654e689"
      },
      "outputs": [
        {
          "output_type": "stream",
          "name": "stdout",
          "text": [
            "La moda de 'smoking_history' es: never\n"
          ]
        }
      ],
      "source": [
        "# Calculamos la moda de la variable 'smoking_history'\n",
        "moda_smoking = train_df_filt['smoking_history'].mode()[0]\n",
        "print(\"La moda de 'smoking_history' es:\", moda_smoking)"
      ]
    },
    {
      "cell_type": "code",
      "source": [
        "# Evalemos si hay una asociación significativa entre las dos variables categóricas Diabetes y smoking_history.\n",
        "# Crear la tabla de contingencia\n",
        "contingency_table = pd.crosstab( train_df_filt['diabetes'], train_df_filt['smoking_history'], margins=True, margins_name=\"Total\")\n",
        "\n",
        "# Mostrar la tabla de contingencia\n",
        "print('Tabla de contingencia:')\n",
        "print(contingency_table)\n",
        "\n",
        "\n",
        "# Realizar la prueba de chi-cuadrado\n",
        "from scipy.stats import chi2_contingency # Import the chi2_contingency function\n",
        "chi2_stat, p_value, dof, expected = chi2_contingency(contingency_table)\n",
        "print()\n",
        "# Mostrar los resultados de la prueba de chi-cuadrado\n",
        "print(f'Estadístico de chi-cuadrado: {chi2_stat:.4f}')\n",
        "print(f'Valor p: {p_value:.4f}')\n",
        "print(f'Grados de libertad: {dof}')\n",
        "print('Tabla de frecuencias esperadas:')\n",
        "print(expected)"
      ],
      "metadata": {
        "id": "E7_-BQ7kKbGU",
        "colab": {
          "base_uri": "https://localhost:8080/"
        },
        "outputId": "3bc7eb9f-1029-47f0-afd5-1ad0c7a0f3a9"
      },
      "execution_count": null,
      "outputs": [
        {
          "output_type": "stream",
          "name": "stdout",
          "text": [
            "Tabla de contingencia:\n",
            "smoking_history  No Info  current  ever  former  never  not current  Total\n",
            "diabetes                                                                  \n",
            "0                  28556     7796  3194    6658  28444         5042  79690\n",
            "1                   1193      872   408    1311   2712          570   7066\n",
            "Total              29749     8668  3602    7969  31156         5612  86756\n",
            "\n",
            "Estadístico de chi-cuadrado: 1549.3799\n",
            "Valor p: 0.0000\n",
            "Grados de libertad: 12\n",
            "Tabla de frecuencias esperadas:\n",
            "[[27326.03866015  7962.0189958   3308.62856748  7319.95032044\n",
            "  28618.44298953  5154.9204666  79690.        ]\n",
            " [ 2422.96133985   705.9810042    293.37143252   649.04967956\n",
            "   2537.55701047   457.0795334   7066.        ]\n",
            " [29749.          8668.          3602.          7969.\n",
            "  31156.          5612.         86756.        ]]\n"
          ]
        }
      ]
    },
    {
      "cell_type": "markdown",
      "source": [
        "En relación con la variable smoking_history, observamos que el 34.74% de los datos están clasificados como \"No info\". Para manejar esta situación, reemplazaremos la categoría \"No info\" mediante una imputación ponderada. Esto implica sustituir los valores faltantes de manera que se respeten las proporciones originales de las categorías en el conjunto de datos. Este enfoque permite mantener la distribución inherente de la variable y conservar la integridad de la información para el análisis predictivo."
      ],
      "metadata": {
        "id": "QqAsQIjdczML"
      }
    },
    {
      "cell_type": "code",
      "source": [
        "#Reemplazamos  la categoría  \"No info\"  en la variable 'smoking_history' de manera ponderada, es decir que se respetan las proporciones que originalmente hay en el data set\n",
        "# Calcular las proporciones de cada categoría (excluyendo 'No Info')\n",
        "proporciones = train_df_filt[train_df_filt['smoking_history'] != 'No Info']['smoking_history'].value_counts(normalize=True)\n",
        "\n",
        "# Reemplazar 'No Info' de manera ponderada\n",
        "for index, row in train_df_filt.iterrows():\n",
        "    if row['smoking_history'] == 'No Info':\n",
        "        # Elegir una categoría al azar según las proporciones calculadas\n",
        "        nueva_categoria = np.random.choice(proporciones.index, p=proporciones.values)\n",
        "        # Fix the indentation here\n",
        "        train_df_filt.at[index, 'smoking_history'] = nueva_categoria\n",
        "\n",
        "# Verificar los cambios\n",
        "print(train_df_filt['smoking_history'].value_counts())\n",
        "print(train_df_filt['smoking_history'].unique())"
      ],
      "metadata": {
        "id": "wRSdVN5iDU4A",
        "colab": {
          "base_uri": "https://localhost:8080/"
        },
        "outputId": "b6a09256-3c11-4fe2-aea0-bdc714af9543"
      },
      "execution_count": null,
      "outputs": [
        {
          "output_type": "stream",
          "name": "stdout",
          "text": [
            "smoking_history\n",
            "never          47550\n",
            "current        13083\n",
            "former         12040\n",
            "not current     8525\n",
            "ever            5558\n",
            "Name: count, dtype: int64\n",
            "['never' 'former' 'current' 'not current' 'ever']\n"
          ]
        }
      ]
    },
    {
      "cell_type": "markdown",
      "metadata": {
        "id": "92zyZHQd6wNQ"
      },
      "source": [
        "A continuación, procedemos a la codificación de las variables categóricas 'gender' y 'smoking_history'. Esta transformación convierte las categorías en variables numéricas, permitiendo su inclusión en los modelos predictivos. Posteriormente, estandarizaremos las variables 'age', 'bmi', 'HbA1c_level', 'blood_glucose_level' para asegurar que todas las características del modelo tengan una escala comparable."
      ]
    },
    {
      "cell_type": "code",
      "execution_count": null,
      "metadata": {
        "colab": {
          "base_uri": "https://localhost:8080/"
        },
        "id": "KX5Y_artvsMC",
        "outputId": "1b43c95e-18fb-4667-ef1d-5b3484123ab7",
        "collapsed": true
      },
      "outputs": [
        {
          "output_type": "stream",
          "name": "stdout",
          "text": [
            "\n",
            "DataFrame después de One-Hot Encoding y transformación de True/False a 1/0:\n",
            "       patient   age  hypertension  heart_disease    bmi  HbA1c_level  \\\n",
            "0        20432   4.0             0              0  19.28          3.5   \n",
            "1        49682  50.0             0              0  27.32          5.7   \n",
            "2        73886  43.0             0              0  21.54          4.5   \n",
            "3        53144  64.0             0              0  28.22          6.0   \n",
            "4        98507  10.0             0              0  15.46          6.1   \n",
            "...        ...   ...           ...            ...    ...          ...   \n",
            "94995    81090  56.0             0              0  22.30          6.2   \n",
            "94996    90924  24.0             0              0  22.50          6.1   \n",
            "94997    64600  32.0             0              0  24.92          6.6   \n",
            "94998    96132  21.0             0              0  20.59          4.5   \n",
            "94999    47868  53.0             0              0  27.32          6.2   \n",
            "\n",
            "       blood_glucose_level  diabetes  gender_Female  gender_Male  \\\n",
            "0                    155.0         0            0.0          1.0   \n",
            "1                    159.0         0            1.0          0.0   \n",
            "2                    145.0         0            1.0          0.0   \n",
            "3                    130.0         0            0.0          1.0   \n",
            "4                    140.0         0            0.0          1.0   \n",
            "...                    ...       ...            ...          ...   \n",
            "94995                158.0         0            1.0          0.0   \n",
            "94996                126.0         0            1.0          0.0   \n",
            "94997                145.0         0            1.0          0.0   \n",
            "94998                155.0         0            1.0          0.0   \n",
            "94999                155.0         0            1.0          0.0   \n",
            "\n",
            "       smoking_history_current  smoking_history_ever  smoking_history_former  \\\n",
            "0                          0.0                   0.0                     0.0   \n",
            "1                          0.0                   0.0                     1.0   \n",
            "2                          0.0                   0.0                     0.0   \n",
            "3                          1.0                   0.0                     0.0   \n",
            "4                          0.0                   0.0                     1.0   \n",
            "...                        ...                   ...                     ...   \n",
            "94995                      0.0                   0.0                     0.0   \n",
            "94996                      0.0                   0.0                     0.0   \n",
            "94997                      0.0                   0.0                     0.0   \n",
            "94998                      1.0                   0.0                     0.0   \n",
            "94999                      0.0                   0.0                     0.0   \n",
            "\n",
            "       smoking_history_never  smoking_history_not current  \n",
            "0                        1.0                          0.0  \n",
            "1                        0.0                          0.0  \n",
            "2                        1.0                          0.0  \n",
            "3                        0.0                          0.0  \n",
            "4                        0.0                          0.0  \n",
            "...                      ...                          ...  \n",
            "94995                    1.0                          0.0  \n",
            "94996                    1.0                          0.0  \n",
            "94997                    1.0                          0.0  \n",
            "94998                    0.0                          0.0  \n",
            "94999                    0.0                          1.0  \n",
            "\n",
            "[86756 rows x 15 columns]\n",
            "['patient', 'age', 'hypertension', 'heart_disease', 'bmi', 'HbA1c_level', 'blood_glucose_level', 'diabetes', 'gender_Female', 'gender_Male', 'smoking_history_current', 'smoking_history_ever', 'smoking_history_former', 'smoking_history_never', 'smoking_history_not current']\n"
          ]
        }
      ],
      "source": [
        "# Codificar las variables categóricas utilizando One-Hot Encoding\n",
        "train_df_encoded = pd.get_dummies(train_df_filt, columns=['gender', 'smoking_history'], dtype=float)\n",
        "# Transformar valores True y False en 1 y 0\n",
        "#train_df_encoded = train_df_encoded.astype(int)\n",
        "print(\"\\nDataFrame después de One-Hot Encoding y transformación de True/False a 1/0:\")\n",
        "print(train_df_encoded)\n",
        "print(list(train_df_encoded.columns))"
      ]
    },
    {
      "cell_type": "code",
      "source": [
        "# Definimos las variables a estandsarizar\n",
        "columnas_std= ['age', 'bmi', 'HbA1c_level', 'blood_glucose_level']"
      ],
      "metadata": {
        "id": "x_ll398uf9sj"
      },
      "execution_count": null,
      "outputs": []
    },
    {
      "cell_type": "code",
      "execution_count": null,
      "metadata": {
        "colab": {
          "base_uri": "https://localhost:8080/"
        },
        "id": "tSDrlTYM9OUI",
        "outputId": "fc34db3b-2b38-434b-ebb7-49344e0c1e1a"
      },
      "outputs": [
        {
          "output_type": "stream",
          "name": "stdout",
          "text": [
            "\n",
            "DataFrame después de estandarizar:\n",
            "   patient       age  hypertension  heart_disease       bmi  HbA1c_level  \\\n",
            "0    20432 -1.808736             0              0 -1.307539    -1.898261   \n",
            "1    49682  0.450054             0              0 -0.052529     0.166069   \n",
            "2    73886  0.106325             0              0 -0.954763    -0.959929   \n",
            "3    53144  1.137512             0              0  0.087957     0.447569   \n",
            "4    98507 -1.514111             0              0 -1.903825     0.541402   \n",
            "\n",
            "   blood_glucose_level  diabetes  gender_Female  gender_Male  \\\n",
            "0             0.423894         0            0.0          1.0   \n",
            "1             0.522747         0            1.0          0.0   \n",
            "2             0.176760         0            1.0          0.0   \n",
            "3            -0.193940         0            0.0          1.0   \n",
            "4             0.053193         0            0.0          1.0   \n",
            "\n",
            "   smoking_history_current  smoking_history_ever  smoking_history_former  \\\n",
            "0                      0.0                   0.0                     0.0   \n",
            "1                      0.0                   0.0                     1.0   \n",
            "2                      0.0                   0.0                     0.0   \n",
            "3                      1.0                   0.0                     0.0   \n",
            "4                      0.0                   0.0                     1.0   \n",
            "\n",
            "   smoking_history_never  smoking_history_not current  \n",
            "0                    1.0                          0.0  \n",
            "1                    0.0                          0.0  \n",
            "2                    1.0                          0.0  \n",
            "3                    0.0                          0.0  \n",
            "4                    0.0                          0.0  \n"
          ]
        }
      ],
      "source": [
        "# Verifica que todas las columnas existan en el DataFrame\n",
        "missing_columns = [col for col in columnas_std if col not in train_df_encoded.columns]\n",
        "if missing_columns:\n",
        "    print(f\"Las siguientes columnas no se encuentran en el DataFrame: {missing_columns}\")\n",
        "else:\n",
        "    # Crear un DataFrame de copia para estandarizar\n",
        "    train_df_std = train_df_encoded.copy()\n",
        "\n",
        "    # Crear un objeto StandardScaler\n",
        "    scaler = StandardScaler()\n",
        "\n",
        "    # Ajustar el scaler a los datos y transformar las columnas seleccionadas\n",
        "    train_df_std[columnas_std] = scaler.fit_transform(train_df_encoded[columnas_std])\n",
        "\n",
        "    # Mostrar el DataFrame después de la estandarización\n",
        "    print(\"\\nDataFrame después de estandarizar:\")\n",
        "    print(train_df_std.head())\n"
      ]
    },
    {
      "cell_type": "code",
      "source": [
        "train_df_std"
      ],
      "metadata": {
        "colab": {
          "base_uri": "https://localhost:8080/",
          "height": 461
        },
        "id": "fdyk6JXoHYFE",
        "outputId": "a84b07bc-43c9-4c81-d286-1eb18ae39b13"
      },
      "execution_count": null,
      "outputs": [
        {
          "output_type": "execute_result",
          "data": {
            "text/plain": [
              "       patient       age  hypertension  heart_disease       bmi  HbA1c_level  \\\n",
              "0        20432 -1.808736             0              0 -1.307539    -1.898261   \n",
              "1        49682  0.450054             0              0 -0.052529     0.166069   \n",
              "2        73886  0.106325             0              0 -0.954763    -0.959929   \n",
              "3        53144  1.137512             0              0  0.087957     0.447569   \n",
              "4        98507 -1.514111             0              0 -1.903825     0.541402   \n",
              "...        ...       ...           ...            ...       ...          ...   \n",
              "94995    81090  0.744679             0              0 -0.836130     0.635235   \n",
              "94996    90924 -0.826653             0              0 -0.804911     0.541402   \n",
              "94997    64600 -0.433820             0              0 -0.427159     1.010568   \n",
              "94998    96132 -0.973966             0              0 -1.103054    -0.959929   \n",
              "94999    47868  0.597366             0              0 -0.052529     0.635235   \n",
              "\n",
              "       blood_glucose_level  diabetes  gender_Female  gender_Male  \\\n",
              "0                 0.423894         0            0.0          1.0   \n",
              "1                 0.522747         0            1.0          0.0   \n",
              "2                 0.176760         0            1.0          0.0   \n",
              "3                -0.193940         0            0.0          1.0   \n",
              "4                 0.053193         0            0.0          1.0   \n",
              "...                    ...       ...            ...          ...   \n",
              "94995             0.498034         0            1.0          0.0   \n",
              "94996            -0.292794         0            1.0          0.0   \n",
              "94997             0.176760         0            1.0          0.0   \n",
              "94998             0.423894         0            1.0          0.0   \n",
              "94999             0.423894         0            1.0          0.0   \n",
              "\n",
              "       smoking_history_current  smoking_history_ever  smoking_history_former  \\\n",
              "0                          0.0                   0.0                     0.0   \n",
              "1                          0.0                   0.0                     1.0   \n",
              "2                          0.0                   0.0                     0.0   \n",
              "3                          1.0                   0.0                     0.0   \n",
              "4                          0.0                   0.0                     1.0   \n",
              "...                        ...                   ...                     ...   \n",
              "94995                      0.0                   0.0                     0.0   \n",
              "94996                      0.0                   0.0                     0.0   \n",
              "94997                      0.0                   0.0                     0.0   \n",
              "94998                      1.0                   0.0                     0.0   \n",
              "94999                      0.0                   0.0                     0.0   \n",
              "\n",
              "       smoking_history_never  smoking_history_not current  \n",
              "0                        1.0                          0.0  \n",
              "1                        0.0                          0.0  \n",
              "2                        1.0                          0.0  \n",
              "3                        0.0                          0.0  \n",
              "4                        0.0                          0.0  \n",
              "...                      ...                          ...  \n",
              "94995                    1.0                          0.0  \n",
              "94996                    1.0                          0.0  \n",
              "94997                    1.0                          0.0  \n",
              "94998                    0.0                          0.0  \n",
              "94999                    0.0                          1.0  \n",
              "\n",
              "[86756 rows x 15 columns]"
            ],
            "text/html": [
              "\n",
              "  <div id=\"df-55032188-fcea-4114-ae10-ab14654f0452\" class=\"colab-df-container\">\n",
              "    <div>\n",
              "<style scoped>\n",
              "    .dataframe tbody tr th:only-of-type {\n",
              "        vertical-align: middle;\n",
              "    }\n",
              "\n",
              "    .dataframe tbody tr th {\n",
              "        vertical-align: top;\n",
              "    }\n",
              "\n",
              "    .dataframe thead th {\n",
              "        text-align: right;\n",
              "    }\n",
              "</style>\n",
              "<table border=\"1\" class=\"dataframe\">\n",
              "  <thead>\n",
              "    <tr style=\"text-align: right;\">\n",
              "      <th></th>\n",
              "      <th>patient</th>\n",
              "      <th>age</th>\n",
              "      <th>hypertension</th>\n",
              "      <th>heart_disease</th>\n",
              "      <th>bmi</th>\n",
              "      <th>HbA1c_level</th>\n",
              "      <th>blood_glucose_level</th>\n",
              "      <th>diabetes</th>\n",
              "      <th>gender_Female</th>\n",
              "      <th>gender_Male</th>\n",
              "      <th>smoking_history_current</th>\n",
              "      <th>smoking_history_ever</th>\n",
              "      <th>smoking_history_former</th>\n",
              "      <th>smoking_history_never</th>\n",
              "      <th>smoking_history_not current</th>\n",
              "    </tr>\n",
              "  </thead>\n",
              "  <tbody>\n",
              "    <tr>\n",
              "      <th>0</th>\n",
              "      <td>20432</td>\n",
              "      <td>-1.808736</td>\n",
              "      <td>0</td>\n",
              "      <td>0</td>\n",
              "      <td>-1.307539</td>\n",
              "      <td>-1.898261</td>\n",
              "      <td>0.423894</td>\n",
              "      <td>0</td>\n",
              "      <td>0.0</td>\n",
              "      <td>1.0</td>\n",
              "      <td>0.0</td>\n",
              "      <td>0.0</td>\n",
              "      <td>0.0</td>\n",
              "      <td>1.0</td>\n",
              "      <td>0.0</td>\n",
              "    </tr>\n",
              "    <tr>\n",
              "      <th>1</th>\n",
              "      <td>49682</td>\n",
              "      <td>0.450054</td>\n",
              "      <td>0</td>\n",
              "      <td>0</td>\n",
              "      <td>-0.052529</td>\n",
              "      <td>0.166069</td>\n",
              "      <td>0.522747</td>\n",
              "      <td>0</td>\n",
              "      <td>1.0</td>\n",
              "      <td>0.0</td>\n",
              "      <td>0.0</td>\n",
              "      <td>0.0</td>\n",
              "      <td>1.0</td>\n",
              "      <td>0.0</td>\n",
              "      <td>0.0</td>\n",
              "    </tr>\n",
              "    <tr>\n",
              "      <th>2</th>\n",
              "      <td>73886</td>\n",
              "      <td>0.106325</td>\n",
              "      <td>0</td>\n",
              "      <td>0</td>\n",
              "      <td>-0.954763</td>\n",
              "      <td>-0.959929</td>\n",
              "      <td>0.176760</td>\n",
              "      <td>0</td>\n",
              "      <td>1.0</td>\n",
              "      <td>0.0</td>\n",
              "      <td>0.0</td>\n",
              "      <td>0.0</td>\n",
              "      <td>0.0</td>\n",
              "      <td>1.0</td>\n",
              "      <td>0.0</td>\n",
              "    </tr>\n",
              "    <tr>\n",
              "      <th>3</th>\n",
              "      <td>53144</td>\n",
              "      <td>1.137512</td>\n",
              "      <td>0</td>\n",
              "      <td>0</td>\n",
              "      <td>0.087957</td>\n",
              "      <td>0.447569</td>\n",
              "      <td>-0.193940</td>\n",
              "      <td>0</td>\n",
              "      <td>0.0</td>\n",
              "      <td>1.0</td>\n",
              "      <td>1.0</td>\n",
              "      <td>0.0</td>\n",
              "      <td>0.0</td>\n",
              "      <td>0.0</td>\n",
              "      <td>0.0</td>\n",
              "    </tr>\n",
              "    <tr>\n",
              "      <th>4</th>\n",
              "      <td>98507</td>\n",
              "      <td>-1.514111</td>\n",
              "      <td>0</td>\n",
              "      <td>0</td>\n",
              "      <td>-1.903825</td>\n",
              "      <td>0.541402</td>\n",
              "      <td>0.053193</td>\n",
              "      <td>0</td>\n",
              "      <td>0.0</td>\n",
              "      <td>1.0</td>\n",
              "      <td>0.0</td>\n",
              "      <td>0.0</td>\n",
              "      <td>1.0</td>\n",
              "      <td>0.0</td>\n",
              "      <td>0.0</td>\n",
              "    </tr>\n",
              "    <tr>\n",
              "      <th>...</th>\n",
              "      <td>...</td>\n",
              "      <td>...</td>\n",
              "      <td>...</td>\n",
              "      <td>...</td>\n",
              "      <td>...</td>\n",
              "      <td>...</td>\n",
              "      <td>...</td>\n",
              "      <td>...</td>\n",
              "      <td>...</td>\n",
              "      <td>...</td>\n",
              "      <td>...</td>\n",
              "      <td>...</td>\n",
              "      <td>...</td>\n",
              "      <td>...</td>\n",
              "      <td>...</td>\n",
              "    </tr>\n",
              "    <tr>\n",
              "      <th>94995</th>\n",
              "      <td>81090</td>\n",
              "      <td>0.744679</td>\n",
              "      <td>0</td>\n",
              "      <td>0</td>\n",
              "      <td>-0.836130</td>\n",
              "      <td>0.635235</td>\n",
              "      <td>0.498034</td>\n",
              "      <td>0</td>\n",
              "      <td>1.0</td>\n",
              "      <td>0.0</td>\n",
              "      <td>0.0</td>\n",
              "      <td>0.0</td>\n",
              "      <td>0.0</td>\n",
              "      <td>1.0</td>\n",
              "      <td>0.0</td>\n",
              "    </tr>\n",
              "    <tr>\n",
              "      <th>94996</th>\n",
              "      <td>90924</td>\n",
              "      <td>-0.826653</td>\n",
              "      <td>0</td>\n",
              "      <td>0</td>\n",
              "      <td>-0.804911</td>\n",
              "      <td>0.541402</td>\n",
              "      <td>-0.292794</td>\n",
              "      <td>0</td>\n",
              "      <td>1.0</td>\n",
              "      <td>0.0</td>\n",
              "      <td>0.0</td>\n",
              "      <td>0.0</td>\n",
              "      <td>0.0</td>\n",
              "      <td>1.0</td>\n",
              "      <td>0.0</td>\n",
              "    </tr>\n",
              "    <tr>\n",
              "      <th>94997</th>\n",
              "      <td>64600</td>\n",
              "      <td>-0.433820</td>\n",
              "      <td>0</td>\n",
              "      <td>0</td>\n",
              "      <td>-0.427159</td>\n",
              "      <td>1.010568</td>\n",
              "      <td>0.176760</td>\n",
              "      <td>0</td>\n",
              "      <td>1.0</td>\n",
              "      <td>0.0</td>\n",
              "      <td>0.0</td>\n",
              "      <td>0.0</td>\n",
              "      <td>0.0</td>\n",
              "      <td>1.0</td>\n",
              "      <td>0.0</td>\n",
              "    </tr>\n",
              "    <tr>\n",
              "      <th>94998</th>\n",
              "      <td>96132</td>\n",
              "      <td>-0.973966</td>\n",
              "      <td>0</td>\n",
              "      <td>0</td>\n",
              "      <td>-1.103054</td>\n",
              "      <td>-0.959929</td>\n",
              "      <td>0.423894</td>\n",
              "      <td>0</td>\n",
              "      <td>1.0</td>\n",
              "      <td>0.0</td>\n",
              "      <td>1.0</td>\n",
              "      <td>0.0</td>\n",
              "      <td>0.0</td>\n",
              "      <td>0.0</td>\n",
              "      <td>0.0</td>\n",
              "    </tr>\n",
              "    <tr>\n",
              "      <th>94999</th>\n",
              "      <td>47868</td>\n",
              "      <td>0.597366</td>\n",
              "      <td>0</td>\n",
              "      <td>0</td>\n",
              "      <td>-0.052529</td>\n",
              "      <td>0.635235</td>\n",
              "      <td>0.423894</td>\n",
              "      <td>0</td>\n",
              "      <td>1.0</td>\n",
              "      <td>0.0</td>\n",
              "      <td>0.0</td>\n",
              "      <td>0.0</td>\n",
              "      <td>0.0</td>\n",
              "      <td>0.0</td>\n",
              "      <td>1.0</td>\n",
              "    </tr>\n",
              "  </tbody>\n",
              "</table>\n",
              "<p>86756 rows × 15 columns</p>\n",
              "</div>\n",
              "    <div class=\"colab-df-buttons\">\n",
              "\n",
              "  <div class=\"colab-df-container\">\n",
              "    <button class=\"colab-df-convert\" onclick=\"convertToInteractive('df-55032188-fcea-4114-ae10-ab14654f0452')\"\n",
              "            title=\"Convert this dataframe to an interactive table.\"\n",
              "            style=\"display:none;\">\n",
              "\n",
              "  <svg xmlns=\"http://www.w3.org/2000/svg\" height=\"24px\" viewBox=\"0 -960 960 960\">\n",
              "    <path d=\"M120-120v-720h720v720H120Zm60-500h600v-160H180v160Zm220 220h160v-160H400v160Zm0 220h160v-160H400v160ZM180-400h160v-160H180v160Zm440 0h160v-160H620v160ZM180-180h160v-160H180v160Zm440 0h160v-160H620v160Z\"/>\n",
              "  </svg>\n",
              "    </button>\n",
              "\n",
              "  <style>\n",
              "    .colab-df-container {\n",
              "      display:flex;\n",
              "      gap: 12px;\n",
              "    }\n",
              "\n",
              "    .colab-df-convert {\n",
              "      background-color: #E8F0FE;\n",
              "      border: none;\n",
              "      border-radius: 50%;\n",
              "      cursor: pointer;\n",
              "      display: none;\n",
              "      fill: #1967D2;\n",
              "      height: 32px;\n",
              "      padding: 0 0 0 0;\n",
              "      width: 32px;\n",
              "    }\n",
              "\n",
              "    .colab-df-convert:hover {\n",
              "      background-color: #E2EBFA;\n",
              "      box-shadow: 0px 1px 2px rgba(60, 64, 67, 0.3), 0px 1px 3px 1px rgba(60, 64, 67, 0.15);\n",
              "      fill: #174EA6;\n",
              "    }\n",
              "\n",
              "    .colab-df-buttons div {\n",
              "      margin-bottom: 4px;\n",
              "    }\n",
              "\n",
              "    [theme=dark] .colab-df-convert {\n",
              "      background-color: #3B4455;\n",
              "      fill: #D2E3FC;\n",
              "    }\n",
              "\n",
              "    [theme=dark] .colab-df-convert:hover {\n",
              "      background-color: #434B5C;\n",
              "      box-shadow: 0px 1px 3px 1px rgba(0, 0, 0, 0.15);\n",
              "      filter: drop-shadow(0px 1px 2px rgba(0, 0, 0, 0.3));\n",
              "      fill: #FFFFFF;\n",
              "    }\n",
              "  </style>\n",
              "\n",
              "    <script>\n",
              "      const buttonEl =\n",
              "        document.querySelector('#df-55032188-fcea-4114-ae10-ab14654f0452 button.colab-df-convert');\n",
              "      buttonEl.style.display =\n",
              "        google.colab.kernel.accessAllowed ? 'block' : 'none';\n",
              "\n",
              "      async function convertToInteractive(key) {\n",
              "        const element = document.querySelector('#df-55032188-fcea-4114-ae10-ab14654f0452');\n",
              "        const dataTable =\n",
              "          await google.colab.kernel.invokeFunction('convertToInteractive',\n",
              "                                                    [key], {});\n",
              "        if (!dataTable) return;\n",
              "\n",
              "        const docLinkHtml = 'Like what you see? Visit the ' +\n",
              "          '<a target=\"_blank\" href=https://colab.research.google.com/notebooks/data_table.ipynb>data table notebook</a>'\n",
              "          + ' to learn more about interactive tables.';\n",
              "        element.innerHTML = '';\n",
              "        dataTable['output_type'] = 'display_data';\n",
              "        await google.colab.output.renderOutput(dataTable, element);\n",
              "        const docLink = document.createElement('div');\n",
              "        docLink.innerHTML = docLinkHtml;\n",
              "        element.appendChild(docLink);\n",
              "      }\n",
              "    </script>\n",
              "  </div>\n",
              "\n",
              "\n",
              "<div id=\"df-c49af514-c6c1-4190-a0bf-54f2c9fc7574\">\n",
              "  <button class=\"colab-df-quickchart\" onclick=\"quickchart('df-c49af514-c6c1-4190-a0bf-54f2c9fc7574')\"\n",
              "            title=\"Suggest charts\"\n",
              "            style=\"display:none;\">\n",
              "\n",
              "<svg xmlns=\"http://www.w3.org/2000/svg\" height=\"24px\"viewBox=\"0 0 24 24\"\n",
              "     width=\"24px\">\n",
              "    <g>\n",
              "        <path d=\"M19 3H5c-1.1 0-2 .9-2 2v14c0 1.1.9 2 2 2h14c1.1 0 2-.9 2-2V5c0-1.1-.9-2-2-2zM9 17H7v-7h2v7zm4 0h-2V7h2v10zm4 0h-2v-4h2v4z\"/>\n",
              "    </g>\n",
              "</svg>\n",
              "  </button>\n",
              "\n",
              "<style>\n",
              "  .colab-df-quickchart {\n",
              "      --bg-color: #E8F0FE;\n",
              "      --fill-color: #1967D2;\n",
              "      --hover-bg-color: #E2EBFA;\n",
              "      --hover-fill-color: #174EA6;\n",
              "      --disabled-fill-color: #AAA;\n",
              "      --disabled-bg-color: #DDD;\n",
              "  }\n",
              "\n",
              "  [theme=dark] .colab-df-quickchart {\n",
              "      --bg-color: #3B4455;\n",
              "      --fill-color: #D2E3FC;\n",
              "      --hover-bg-color: #434B5C;\n",
              "      --hover-fill-color: #FFFFFF;\n",
              "      --disabled-bg-color: #3B4455;\n",
              "      --disabled-fill-color: #666;\n",
              "  }\n",
              "\n",
              "  .colab-df-quickchart {\n",
              "    background-color: var(--bg-color);\n",
              "    border: none;\n",
              "    border-radius: 50%;\n",
              "    cursor: pointer;\n",
              "    display: none;\n",
              "    fill: var(--fill-color);\n",
              "    height: 32px;\n",
              "    padding: 0;\n",
              "    width: 32px;\n",
              "  }\n",
              "\n",
              "  .colab-df-quickchart:hover {\n",
              "    background-color: var(--hover-bg-color);\n",
              "    box-shadow: 0 1px 2px rgba(60, 64, 67, 0.3), 0 1px 3px 1px rgba(60, 64, 67, 0.15);\n",
              "    fill: var(--button-hover-fill-color);\n",
              "  }\n",
              "\n",
              "  .colab-df-quickchart-complete:disabled,\n",
              "  .colab-df-quickchart-complete:disabled:hover {\n",
              "    background-color: var(--disabled-bg-color);\n",
              "    fill: var(--disabled-fill-color);\n",
              "    box-shadow: none;\n",
              "  }\n",
              "\n",
              "  .colab-df-spinner {\n",
              "    border: 2px solid var(--fill-color);\n",
              "    border-color: transparent;\n",
              "    border-bottom-color: var(--fill-color);\n",
              "    animation:\n",
              "      spin 1s steps(1) infinite;\n",
              "  }\n",
              "\n",
              "  @keyframes spin {\n",
              "    0% {\n",
              "      border-color: transparent;\n",
              "      border-bottom-color: var(--fill-color);\n",
              "      border-left-color: var(--fill-color);\n",
              "    }\n",
              "    20% {\n",
              "      border-color: transparent;\n",
              "      border-left-color: var(--fill-color);\n",
              "      border-top-color: var(--fill-color);\n",
              "    }\n",
              "    30% {\n",
              "      border-color: transparent;\n",
              "      border-left-color: var(--fill-color);\n",
              "      border-top-color: var(--fill-color);\n",
              "      border-right-color: var(--fill-color);\n",
              "    }\n",
              "    40% {\n",
              "      border-color: transparent;\n",
              "      border-right-color: var(--fill-color);\n",
              "      border-top-color: var(--fill-color);\n",
              "    }\n",
              "    60% {\n",
              "      border-color: transparent;\n",
              "      border-right-color: var(--fill-color);\n",
              "    }\n",
              "    80% {\n",
              "      border-color: transparent;\n",
              "      border-right-color: var(--fill-color);\n",
              "      border-bottom-color: var(--fill-color);\n",
              "    }\n",
              "    90% {\n",
              "      border-color: transparent;\n",
              "      border-bottom-color: var(--fill-color);\n",
              "    }\n",
              "  }\n",
              "</style>\n",
              "\n",
              "  <script>\n",
              "    async function quickchart(key) {\n",
              "      const quickchartButtonEl =\n",
              "        document.querySelector('#' + key + ' button');\n",
              "      quickchartButtonEl.disabled = true;  // To prevent multiple clicks.\n",
              "      quickchartButtonEl.classList.add('colab-df-spinner');\n",
              "      try {\n",
              "        const charts = await google.colab.kernel.invokeFunction(\n",
              "            'suggestCharts', [key], {});\n",
              "      } catch (error) {\n",
              "        console.error('Error during call to suggestCharts:', error);\n",
              "      }\n",
              "      quickchartButtonEl.classList.remove('colab-df-spinner');\n",
              "      quickchartButtonEl.classList.add('colab-df-quickchart-complete');\n",
              "    }\n",
              "    (() => {\n",
              "      let quickchartButtonEl =\n",
              "        document.querySelector('#df-c49af514-c6c1-4190-a0bf-54f2c9fc7574 button');\n",
              "      quickchartButtonEl.style.display =\n",
              "        google.colab.kernel.accessAllowed ? 'block' : 'none';\n",
              "    })();\n",
              "  </script>\n",
              "</div>\n",
              "\n",
              "  <div id=\"id_d7b72984-f4b8-42d9-9c5c-e0abd2ac578f\">\n",
              "    <style>\n",
              "      .colab-df-generate {\n",
              "        background-color: #E8F0FE;\n",
              "        border: none;\n",
              "        border-radius: 50%;\n",
              "        cursor: pointer;\n",
              "        display: none;\n",
              "        fill: #1967D2;\n",
              "        height: 32px;\n",
              "        padding: 0 0 0 0;\n",
              "        width: 32px;\n",
              "      }\n",
              "\n",
              "      .colab-df-generate:hover {\n",
              "        background-color: #E2EBFA;\n",
              "        box-shadow: 0px 1px 2px rgba(60, 64, 67, 0.3), 0px 1px 3px 1px rgba(60, 64, 67, 0.15);\n",
              "        fill: #174EA6;\n",
              "      }\n",
              "\n",
              "      [theme=dark] .colab-df-generate {\n",
              "        background-color: #3B4455;\n",
              "        fill: #D2E3FC;\n",
              "      }\n",
              "\n",
              "      [theme=dark] .colab-df-generate:hover {\n",
              "        background-color: #434B5C;\n",
              "        box-shadow: 0px 1px 3px 1px rgba(0, 0, 0, 0.15);\n",
              "        filter: drop-shadow(0px 1px 2px rgba(0, 0, 0, 0.3));\n",
              "        fill: #FFFFFF;\n",
              "      }\n",
              "    </style>\n",
              "    <button class=\"colab-df-generate\" onclick=\"generateWithVariable('train_df_std')\"\n",
              "            title=\"Generate code using this dataframe.\"\n",
              "            style=\"display:none;\">\n",
              "\n",
              "  <svg xmlns=\"http://www.w3.org/2000/svg\" height=\"24px\"viewBox=\"0 0 24 24\"\n",
              "       width=\"24px\">\n",
              "    <path d=\"M7,19H8.4L18.45,9,17,7.55,7,17.6ZM5,21V16.75L18.45,3.32a2,2,0,0,1,2.83,0l1.4,1.43a1.91,1.91,0,0,1,.58,1.4,1.91,1.91,0,0,1-.58,1.4L9.25,21ZM18.45,9,17,7.55Zm-12,3A5.31,5.31,0,0,0,4.9,8.1,5.31,5.31,0,0,0,1,6.5,5.31,5.31,0,0,0,4.9,4.9,5.31,5.31,0,0,0,6.5,1,5.31,5.31,0,0,0,8.1,4.9,5.31,5.31,0,0,0,12,6.5,5.46,5.46,0,0,0,6.5,12Z\"/>\n",
              "  </svg>\n",
              "    </button>\n",
              "    <script>\n",
              "      (() => {\n",
              "      const buttonEl =\n",
              "        document.querySelector('#id_d7b72984-f4b8-42d9-9c5c-e0abd2ac578f button.colab-df-generate');\n",
              "      buttonEl.style.display =\n",
              "        google.colab.kernel.accessAllowed ? 'block' : 'none';\n",
              "\n",
              "      buttonEl.onclick = () => {\n",
              "        google.colab.notebook.generateWithVariable('train_df_std');\n",
              "      }\n",
              "      })();\n",
              "    </script>\n",
              "  </div>\n",
              "\n",
              "    </div>\n",
              "  </div>\n"
            ],
            "application/vnd.google.colaboratory.intrinsic+json": {
              "type": "dataframe",
              "variable_name": "train_df_std",
              "summary": "{\n  \"name\": \"train_df_std\",\n  \"rows\": 86756,\n  \"fields\": [\n    {\n      \"column\": \"patient\",\n      \"properties\": {\n        \"dtype\": \"number\",\n        \"std\": 28866,\n        \"min\": 2,\n        \"max\": 100000,\n        \"num_unique_values\": 86756,\n        \"samples\": [\n          92229,\n          63989,\n          76030\n        ],\n        \"semantic_type\": \"\",\n        \"description\": \"\"\n      }\n    },\n    {\n      \"column\": \"age\",\n      \"properties\": {\n        \"dtype\": \"number\",\n        \"std\": 1.0000057633399708,\n        \"min\": -1.912836666010701,\n        \"max\": 1.8740738579035991,\n        \"num_unique_values\": 79,\n        \"samples\": [\n          -0.532028523732821,\n          -1.808735909907248,\n          0.05722103911691457\n        ],\n        \"semantic_type\": \"\",\n        \"description\": \"\"\n      }\n    },\n    {\n      \"column\": \"hypertension\",\n      \"properties\": {\n        \"dtype\": \"number\",\n        \"std\": 0,\n        \"min\": 0,\n        \"max\": 1,\n        \"num_unique_values\": 2,\n        \"samples\": [\n          1,\n          0\n        ],\n        \"semantic_type\": \"\",\n        \"description\": \"\"\n      }\n    },\n    {\n      \"column\": \"heart_disease\",\n      \"properties\": {\n        \"dtype\": \"number\",\n        \"std\": 0,\n        \"min\": 0,\n        \"max\": 1,\n        \"num_unique_values\": 2,\n        \"samples\": [\n          1,\n          0\n        ],\n        \"semantic_type\": \"\",\n        \"description\": \"\"\n      }\n    },\n    {\n      \"column\": \"bmi\",\n      \"properties\": {\n        \"dtype\": \"number\",\n        \"std\": 1.0000057633399708,\n        \"min\": -1.9959214252455686,\n        \"max\": 5.211020891164286,\n        \"num_unique_values\": 3821,\n        \"samples\": [\n          0.8934115242182918,\n          -0.21174662176788497\n        ],\n        \"semantic_type\": \"\",\n        \"description\": \"\"\n      }\n    },\n    {\n      \"column\": \"HbA1c_level\",\n      \"properties\": {\n        \"dtype\": \"number\",\n        \"std\": 1.000005763339971,\n        \"min\": -1.8982607032564904,\n        \"max\": 3.262564740507357,\n        \"num_unique_values\": 18,\n        \"samples\": [\n          -1.8982607032564904,\n          0.16606947424904867\n        ],\n        \"semantic_type\": \"\",\n        \"description\": \"\"\n      }\n    },\n    {\n      \"column\": \"blood_glucose_level\",\n      \"properties\": {\n        \"dtype\": \"number\",\n        \"std\": 1.000005763339971,\n        \"min\": -1.4296084604597115,\n        \"max\": 4.007331847102899,\n        \"num_unique_values\": 18,\n        \"samples\": [\n          0.4238939171184509,\n          0.5227473772559529\n        ],\n        \"semantic_type\": \"\",\n        \"description\": \"\"\n      }\n    },\n    {\n      \"column\": \"diabetes\",\n      \"properties\": {\n        \"dtype\": \"number\",\n        \"std\": 0,\n        \"min\": 0,\n        \"max\": 1,\n        \"num_unique_values\": 2,\n        \"samples\": [\n          1,\n          0\n        ],\n        \"semantic_type\": \"\",\n        \"description\": \"\"\n      }\n    },\n    {\n      \"column\": \"gender_Female\",\n      \"properties\": {\n        \"dtype\": \"number\",\n        \"std\": 0.4927273761511644,\n        \"min\": 0.0,\n        \"max\": 1.0,\n        \"num_unique_values\": 2,\n        \"samples\": [\n          1.0,\n          0.0\n        ],\n        \"semantic_type\": \"\",\n        \"description\": \"\"\n      }\n    },\n    {\n      \"column\": \"gender_Male\",\n      \"properties\": {\n        \"dtype\": \"number\",\n        \"std\": 0.4927273761511644,\n        \"min\": 0.0,\n        \"max\": 1.0,\n        \"num_unique_values\": 2,\n        \"samples\": [\n          0.0,\n          1.0\n        ],\n        \"semantic_type\": \"\",\n        \"description\": \"\"\n      }\n    },\n    {\n      \"column\": \"smoking_history_current\",\n      \"properties\": {\n        \"dtype\": \"number\",\n        \"std\": 0.35785808291627313,\n        \"min\": 0.0,\n        \"max\": 1.0,\n        \"num_unique_values\": 2,\n        \"samples\": [\n          1.0,\n          0.0\n        ],\n        \"semantic_type\": \"\",\n        \"description\": \"\"\n      }\n    },\n    {\n      \"column\": \"smoking_history_ever\",\n      \"properties\": {\n        \"dtype\": \"number\",\n        \"std\": 0.24486962729618736,\n        \"min\": 0.0,\n        \"max\": 1.0,\n        \"num_unique_values\": 2,\n        \"samples\": [\n          1.0,\n          0.0\n        ],\n        \"semantic_type\": \"\",\n        \"description\": \"\"\n      }\n    },\n    {\n      \"column\": \"smoking_history_former\",\n      \"properties\": {\n        \"dtype\": \"number\",\n        \"std\": 0.3457188288096475,\n        \"min\": 0.0,\n        \"max\": 1.0,\n        \"num_unique_values\": 2,\n        \"samples\": [\n          1.0,\n          0.0\n        ],\n        \"semantic_type\": \"\",\n        \"description\": \"\"\n      }\n    },\n    {\n      \"column\": \"smoking_history_never\",\n      \"properties\": {\n        \"dtype\": \"number\",\n        \"std\": 0.4976849539553595,\n        \"min\": 0.0,\n        \"max\": 1.0,\n        \"num_unique_values\": 2,\n        \"samples\": [\n          0.0,\n          1.0\n        ],\n        \"semantic_type\": \"\",\n        \"description\": \"\"\n      }\n    },\n    {\n      \"column\": \"smoking_history_not current\",\n      \"properties\": {\n        \"dtype\": \"number\",\n        \"std\": 0.2976731187208655,\n        \"min\": 0.0,\n        \"max\": 1.0,\n        \"num_unique_values\": 2,\n        \"samples\": [\n          1.0,\n          0.0\n        ],\n        \"semantic_type\": \"\",\n        \"description\": \"\"\n      }\n    }\n  ]\n}"
            }
          },
          "metadata": {},
          "execution_count": 32
        }
      ]
    },
    {
      "cell_type": "code",
      "execution_count": null,
      "metadata": {
        "id": "KagYqms1_AZW"
      },
      "outputs": [],
      "source": [
        "train_df_final=train_df_std.copy()"
      ]
    },
    {
      "cell_type": "markdown",
      "source": [
        "Dividimos el DataFrame en conjuntos de entrenamiento y prueba (75/25)"
      ],
      "metadata": {
        "id": "zfLBfZx4Xp8R"
      }
    },
    {
      "cell_type": "code",
      "source": [
        "# Dividir el DataFrame en conjuntos de entrenamiento y prueba (75/25)\n",
        "train_df_train, test_df_test = train_test_split(train_df_final, test_size=0.25, random_state=42)\n",
        "\n",
        "# Verificar las dimensiones de los conjuntos de datos\n",
        "print(f\"Tamaño del conjunto de entrenamiento: {train_df_train.shape}\")\n",
        "print(f\"Tamaño del conjunto de prueba: {test_df_test.shape}\")\n"
      ],
      "metadata": {
        "colab": {
          "base_uri": "https://localhost:8080/"
        },
        "id": "22VZr9k_GJEo",
        "outputId": "97aebdb8-7ed0-45f0-abc0-02f75626a900"
      },
      "execution_count": null,
      "outputs": [
        {
          "output_type": "stream",
          "name": "stdout",
          "text": [
            "Tamaño del conjunto de entrenamiento: (65067, 15)\n",
            "Tamaño del conjunto de prueba: (21689, 15)\n"
          ]
        }
      ]
    },
    {
      "cell_type": "code",
      "source": [
        "list(train_df_train.columns)"
      ],
      "metadata": {
        "colab": {
          "base_uri": "https://localhost:8080/"
        },
        "id": "U4wdo06cKqYw",
        "outputId": "b2dff115-4cd6-4fd2-e00a-f0a6c2074193"
      },
      "execution_count": null,
      "outputs": [
        {
          "output_type": "execute_result",
          "data": {
            "text/plain": [
              "['patient',\n",
              " 'age',\n",
              " 'hypertension',\n",
              " 'heart_disease',\n",
              " 'bmi',\n",
              " 'HbA1c_level',\n",
              " 'blood_glucose_level',\n",
              " 'diabetes',\n",
              " 'gender_Female',\n",
              " 'gender_Male',\n",
              " 'smoking_history_current',\n",
              " 'smoking_history_ever',\n",
              " 'smoking_history_former',\n",
              " 'smoking_history_never',\n",
              " 'smoking_history_not current']"
            ]
          },
          "metadata": {},
          "execution_count": 35
        }
      ]
    },
    {
      "cell_type": "markdown",
      "metadata": {
        "id": "Jo_ZiQzlIwcH"
      },
      "source": [
        "# **Evaluemos modelos**\n",
        "'Árbol de decisión',\n",
        "         'Random Forest',\n",
        "         'Regresión Logística',\n",
        "         'Perceptrón multicapa',\n",
        "         'XGBoost',\n",
        "         'Naive Bayes',\n",
        "         'SVM',\n",
        "         'K-Nearest Neighbors',\n",
        "         'AdaBoost',\n",
        "         'Gradient Boosting',\n",
        "         'HistGradientBoosting',\n",
        "         'CatBoost',\n",
        "         'LightGBM',\n",
        "         'Extra Trees',\n",
        "         'Quadratic Discriminant Analysis',\n",
        "         'Ridge Classifier',\n",
        "         'Nearest Centroid'"
      ]
    },
    {
      "cell_type": "code",
      "source": [
        "!pip install xgboost\n",
        "\n",
        "from sklearn.tree import DecisionTreeClassifier\n",
        "from sklearn.ensemble import RandomForestClassifier, AdaBoostClassifier, GradientBoostingClassifier, ExtraTreesClassifier\n",
        "from sklearn.linear_model import LogisticRegression, RidgeClassifier, SGDClassifier\n",
        "from sklearn.neural_network import MLPClassifier\n",
        "from sklearn.naive_bayes import GaussianNB\n",
        "from sklearn.svm import LinearSVC, SVC\n",
        "from sklearn.neighbors import KNeighborsClassifier, NearestCentroid\n",
        "from sklearn.discriminant_analysis import QuadraticDiscriminantAnalysis\n",
        "from sklearn.experimental import enable_hist_gradient_boosting\n",
        "from sklearn.ensemble import HistGradientBoostingClassifier\n",
        "import xgboost as xgb\n",
        "from xgboost import XGBClassifier\n",
        "from sklearn.metrics import accuracy_score"
      ],
      "metadata": {
        "id": "NgUJJ9DclTnn"
      },
      "execution_count": null,
      "outputs": []
    },
    {
      "cell_type": "code",
      "source": [
        "# Suponiendo que train_df_train y test_df_test ya están definidos\n",
        "# Seleccionar características y la variable objetivo para el conjunto de entrenamiento\n",
        "X_train = train_df_train[['patient', 'age', 'hypertension', 'heart_disease',\n",
        "                            'bmi', 'HbA1c_level', 'blood_glucose_level', 'gender_Female',\n",
        "                            'gender_Male', 'smoking_history_current', 'smoking_history_ever',\n",
        "                            'smoking_history_former', 'smoking_history_never', 'smoking_history_not current']].values  # Características\n",
        "\n",
        "y_train = train_df_train['diabetes'].values  # Variable objetivo\n",
        "\n",
        "# Seleccionar características y la variable objetivo para el conjunto de prueba\n",
        "X_test = test_df_test[['patient', 'age', 'hypertension', 'heart_disease',\n",
        "                            'bmi', 'HbA1c_level', 'blood_glucose_level', 'gender_Female',\n",
        "                            'gender_Male', 'smoking_history_current', 'smoking_history_ever',\n",
        "                            'smoking_history_former', 'smoking_history_never', 'smoking_history_not current']].values  # Características\n",
        "y_test = test_df_test['diabetes'].values  # Variable objetivo\n",
        "\n",
        "# Definir los clasificadores y sus nombres\n",
        "clfs = [DecisionTreeClassifier(random_state=8),\n",
        "        RandomForestClassifier(random_state=8),\n",
        "        LogisticRegression(random_state=8, max_iter=500),\n",
        "        MLPClassifier(random_state=8, max_iter=1000),\n",
        "        XGBClassifier(random_state=8),\n",
        "        GaussianNB(),\n",
        "        LinearSVC(random_state=8, max_iter=10000),\n",
        "        KNeighborsClassifier(),\n",
        "        AdaBoostClassifier(random_state=8),\n",
        "        GradientBoostingClassifier(random_state=8),\n",
        "        HistGradientBoostingClassifier(),\n",
        "        SGDClassifier(random_state=8),\n",
        "        SVC(random_state=8),\n",
        "        ExtraTreesClassifier(random_state=8),\n",
        "        QuadraticDiscriminantAnalysis(),\n",
        "        RidgeClassifier(),\n",
        "        NearestCentroid()]\n",
        "\n",
        "names = ['Árbol de decisión',\n",
        "         'Random Forest',\n",
        "         'Regresión Logística',\n",
        "         'Perceptrón multicapa',\n",
        "         'XGBoost',\n",
        "         'Naive Bayes',\n",
        "         'SVM Lineal',\n",
        "         'K-Nearest Neighbors',\n",
        "         'AdaBoost',\n",
        "         'Gradient Boosting',\n",
        "         'HistGradientBoosting',\n",
        "         'SGD Classifier',\n",
        "         'SVM RBF',\n",
        "         'Extra Trees',\n",
        "         'Quadratic Discriminant Analysis',\n",
        "         'Ridge Classifier',\n",
        "         'Nearest Centroid']\n",
        "\n",
        "# Inicializar listas para almacenar los modelos entrenados y sus precisiones\n",
        "trained_models = []\n",
        "accuracy_models = []\n",
        "\n",
        "# Entrenar y evaluar cada modelo\n",
        "for clf, name in zip(clfs, names):\n",
        "    print(name)\n",
        "    clf.fit(X_train, y_train)\n",
        "\n",
        "    # Evaluar en el conjunto de entrenamiento\n",
        "    train_predictions = clf.predict(X_train)\n",
        "    train_accuracy = accuracy_score(y_train, train_predictions)\n",
        "    print(f\"Accuracy train {name}: {train_accuracy:.4f}\")\n",
        "\n",
        "    # Evaluar en el conjunto de prueba\n",
        "    test_predictions = clf.predict(X_test)\n",
        "    test_accuracy = accuracy_score(y_test, test_predictions)\n",
        "    print(f\"Accuracy test {name}: {test_accuracy:.4f}\")\n",
        "\n",
        "    # Almacenar el modelo entrenado y su precisión\n",
        "    trained_models.append(clf)\n",
        "    accuracy_models.append(test_accuracy * 100)\n"
      ],
      "metadata": {
        "colab": {
          "base_uri": "https://localhost:8080/"
        },
        "collapsed": true,
        "id": "Utvx3i7-3BtD",
        "outputId": "67e215f1-c643-4b48-91a5-4f3cae8c33f7"
      },
      "execution_count": null,
      "outputs": [
        {
          "output_type": "stream",
          "name": "stdout",
          "text": [
            "Árbol de decisión\n",
            "Accuracy train Árbol de decisión: 1.0000\n",
            "Accuracy test Árbol de decisión: 0.9502\n",
            "Random Forest\n",
            "Accuracy train Random Forest: 1.0000\n",
            "Accuracy test Random Forest: 0.9717\n",
            "Regresión Logística\n",
            "Accuracy train Regresión Logística: 0.9627\n",
            "Accuracy test Regresión Logística: 0.9597\n",
            "Perceptrón multicapa\n",
            "Accuracy train Perceptrón multicapa: 0.9385\n",
            "Accuracy test Perceptrón multicapa: 0.9345\n",
            "XGBoost\n",
            "Accuracy train XGBoost: 0.9789\n",
            "Accuracy test XGBoost: 0.9712\n",
            "Naive Bayes\n",
            "Accuracy train Naive Bayes: 0.9466\n",
            "Accuracy test Naive Bayes: 0.9444\n",
            "SVM Lineal\n",
            "Accuracy train SVM Lineal: 0.9337\n",
            "Accuracy test SVM Lineal: 0.9310\n",
            "K-Nearest Neighbors\n",
            "Accuracy train K-Nearest Neighbors: 0.9221\n",
            "Accuracy test K-Nearest Neighbors: 0.9163\n",
            "AdaBoost\n",
            "Accuracy train AdaBoost: 0.9730\n",
            "Accuracy test AdaBoost: 0.9723\n",
            "Gradient Boosting\n",
            "Accuracy train Gradient Boosting: 0.9735\n",
            "Accuracy test Gradient Boosting: 0.9723\n",
            "HistGradientBoosting\n",
            "Accuracy train HistGradientBoosting: 0.9745\n",
            "Accuracy test HistGradientBoosting: 0.9719\n",
            "SGD Classifier\n",
            "Accuracy train SGD Classifier: 0.0814\n",
            "Accuracy test SGD Classifier: 0.0828\n",
            "SVM RBF\n",
            "Accuracy train SVM RBF: 0.9189\n",
            "Accuracy test SVM RBF: 0.9174\n",
            "Extra Trees\n",
            "Accuracy train Extra Trees: 1.0000\n",
            "Accuracy test Extra Trees: 0.9693\n",
            "Quadratic Discriminant Analysis\n",
            "Accuracy train Quadratic Discriminant Analysis: 0.9087\n",
            "Accuracy test Quadratic Discriminant Analysis: 0.9032\n",
            "Ridge Classifier\n",
            "Accuracy train Ridge Classifier: 0.9412\n",
            "Accuracy test Ridge Classifier: 0.9395\n",
            "Nearest Centroid\n",
            "Accuracy train Nearest Centroid: 0.5043\n",
            "Accuracy test Nearest Centroid: 0.5027\n"
          ]
        }
      ]
    },
    {
      "cell_type": "code",
      "source": [
        "# Lista de los modelos en orden de mejor Accuracy test\n",
        "# Crear un DataFrame con los nombres de los modelos y sus precisiones\n",
        "model_df = pd.DataFrame({'Modelo': names, 'Accuracy': accuracy_models})\n",
        "# Ordenar el DataFrame por precisión descendente\n",
        "model_df_sorted = model_df.sort_values('Accuracy', ascending=False)\n",
        "# Imprimir la lista de modelos ordenados\n",
        "print(model_df_sorted)"
      ],
      "metadata": {
        "colab": {
          "base_uri": "https://localhost:8080/"
        },
        "id": "nTHm8Qka3EP3",
        "outputId": "84061419-3bb2-4179-db55-5dfc69fc5fc0"
      },
      "execution_count": null,
      "outputs": [
        {
          "output_type": "stream",
          "name": "stdout",
          "text": [
            "                             Modelo   Accuracy\n",
            "8                          AdaBoost  97.233621\n",
            "9                 Gradient Boosting  97.233621\n",
            "10             HistGradientBoosting  97.187514\n",
            "1                     Random Forest  97.169072\n",
            "4                           XGBoost  97.122966\n",
            "13                      Extra Trees  96.929319\n",
            "2               Regresión Logística  95.970308\n",
            "0                 Árbol de decisión  95.015907\n",
            "5                       Naive Bayes  94.439578\n",
            "15                 Ridge Classifier  93.946240\n",
            "3              Perceptrón multicapa  93.452902\n",
            "6                        SVM Lineal  93.102494\n",
            "12                          SVM RBF  91.737747\n",
            "7               K-Nearest Neighbors  91.627092\n",
            "14  Quadratic Discriminant Analysis  90.317673\n",
            "16                 Nearest Centroid  50.269722\n",
            "11                   SGD Classifier   8.280695\n"
          ]
        }
      ]
    },
    {
      "cell_type": "markdown",
      "source": [
        "# **Optimizacion hiperparámetros Gradient Boosting**"
      ],
      "metadata": {
        "id": "qUhCi8kEN3l5"
      }
    },
    {
      "cell_type": "markdown",
      "source": [
        "Gradient Boosting, también conocido como Gradient Boosting Machine (GBM), es un algoritmo de ensamble que se utiliza tanto para tareas de clasificación como de regresión. Al igual que AdaBoost, se basa en la combinación de múltiples modelos débiles para construir un modelo robusto, pero utiliza un enfoque diferente para combinar estos modelos.\n",
        "\n",
        "Principio de Funcionamiento:\n",
        "\n",
        "Inicialización: Comienza con un modelo base sencillo, como la predicción de la media en problemas de regresión.\n",
        "\n",
        "Cálculo del Error Residual: Tras entrenar el primer modelo, se calcula el error residual, que es la diferencia entre las predicciones del modelo y los valores reales.\n",
        "\n",
        "Entrenamiento sobre el Error Residual: En cada iteración subsiguiente, se entrena un nuevo modelo para predecir estos errores residuales. Este modelo intenta corregir las deficiencias del conjunto de modelos anteriores.\n",
        "\n",
        "Combinación de Modelos: Los modelos se combinan aditivamente. La predicción final se obtiene sumando las predicciones ponderadas de todos los modelos, ajustadas por un parámetro de aprendizaje (learning rate) para controlar la contribución de cada modelo y evitar el sobreajuste.\n",
        "\n",
        "Optimización del Error: Utiliza técnicas de optimización numérica, como el descenso de gradiente, para minimizar una función de pérdida (por ejemplo, error cuadrático medio para regresión o entropía cruzada para clasificación).\n",
        "\n",
        "Ventajas de Gradient Boosting:\n",
        "\n",
        "Alta Precisión: Suele ofrecer alta precisión y es muy valorado en competiciones de ciencia de datos.\n",
        "Flexibilidad: Admite diferentes funciones de pérdida y se adapta a una amplia variedad de problemas.\n",
        "Control sobre el Ajuste: Permite un ajuste detallado mediante parámetros como la tasa de aprendizaje, la profundidad de los árboles y el número de estimadores.\n",
        "Desventajas de Gradient Boosting:\n",
        "Costoso en Cómputo: Puede ser lento de entrenar, especialmente con grandes conjuntos de datos.\n",
        "Complejidad: Requiere ajuste meticuloso de hiperparámetros para evitar sobreajuste y asegurar un rendimiento óptimo.\n",
        "Sensibilidad al Ruido: Puede ser sensible al ruido en los datos de entrenamiento."
      ],
      "metadata": {
        "id": "s5ZiYPuCtEae"
      }
    },
    {
      "cell_type": "code",
      "source": [
        "from sklearn.model_selection import RandomizedSearchCV\n",
        "\n",
        "# Crear una instancia del clasificador GradientBoostingClassifier\n",
        "gb_clf = GradientBoostingClassifier(random_state=8)\n",
        "\n",
        "# Definir la grilla de hiperparámetros a explorar\n",
        "param_distributions = {\n",
        "    'n_estimators': [50, 100],\n",
        "    'learning_rate': [0.01, 0.1],\n",
        "    'max_depth': [3, 5],\n",
        "    'min_samples_split': [2, 5],\n",
        "    'subsample': [0.8, 1.0]  # Añadir subsample para optimización\n",
        "}\n",
        "\n",
        "# Realizar búsqueda aleatoria con validación cruzada\n",
        "random_search = RandomizedSearchCV(gb_clf, param_distributions, n_iter=10, cv=3, scoring='accuracy', n_jobs=-1, random_state=8)\n",
        "random_search.fit(X_train, y_train)\n",
        "\n",
        "# Imprimir los mejores hiperparámetros encontrados\n",
        "print(\"Mejores hiperparámetros:\", random_search.best_params_)\n",
        "\n",
        "# Obtener el mejor modelo\n",
        "best_gb_clf = random_search.best_estimator_\n",
        "\n",
        "# Predecir en el conjunto de prueba con el mejor modelo\n",
        "y_pred = best_gb_clf.predict(X_test)\n",
        "\n",
        "# Calcular métricas en el conjunto de prueba\n",
        "accuracy = accuracy_score(y_test, y_pred)\n",
        "precision = precision_score(y_test, y_pred)\n",
        "recall = recall_score(y_test, y_pred)\n",
        "f1 = f1_score(y_test, y_pred)\n",
        "\n",
        "# Imprimir métricas en el conjunto de prueba\n",
        "print(\"\\n--- Métricas en el conjunto de prueba con Gradient Boosting ---\")\n",
        "print(\"Accuracy:\", accuracy)\n",
        "print(\"Precision:\", precision)\n",
        "print(\"Recall:\", recall)\n",
        "print(\"F1 Score:\", f1)\n"
      ],
      "metadata": {
        "colab": {
          "base_uri": "https://localhost:8080/"
        },
        "id": "7z7n-q0p8k89",
        "outputId": "339854d7-e8e3-423d-ba6d-e5b31a2a6732"
      },
      "execution_count": null,
      "outputs": [
        {
          "output_type": "stream",
          "name": "stdout",
          "text": [
            "Mejores hiperparámetros: {'subsample': 1.0, 'n_estimators': 100, 'min_samples_split': 5, 'max_depth': 3, 'learning_rate': 0.1}\n",
            "\n",
            "--- Métricas en el conjunto de prueba con Gradient Boosting ---\n",
            "Accuracy: 0.974784551548037\n",
            "Precision: 0.9792332268370607\n",
            "Recall: 0.6993725042783799\n",
            "F1 Score: 0.8159733777038269\n"
          ]
        }
      ]
    },
    {
      "cell_type": "markdown",
      "source": [
        "#  **Optimizacion hiperparámetros RandomForest**"
      ],
      "metadata": {
        "id": "0OCAN49ft3gr"
      }
    },
    {
      "cell_type": "markdown",
      "source": [
        "Random Forest es un algoritmo de aprendizaje automático basado en ensamblaje que se utiliza tanto para tareas de clasificación como de regresión.\n",
        "Principio de Funcionamiento:\n",
        "\n",
        "Creación de Múltiples Árboles de Decisión:\n",
        "\n",
        "*Generación de Muestras Aleatorias*: Random Forest construye múltiples árboles de decisión utilizando diferentes subconjuntos aleatorios del conjunto de datos de entrenamiento. Cada árbol se entrena con una muestra bootstrap (muestra con reemplazo) del conjunto de datos original, lo que introduce variabilidad entre los árboles.\n",
        "*Selección Aleatoria de Características*: Para cada nodo en cada árbol, se selecciona aleatoriamente un subconjunto de características para determinar la mejor división. Esto asegura que los árboles sean menos correlacionados entre sí, promoviendo la diversidad en el bosque.\n",
        "\n",
        "Predicción Através del Bosque:\n",
        "\n",
        "*Predicción de Cada Árbol*: Cada árbol en el bosque realiza una predicción por separado para una instancia de entrada.\n",
        "*Promedio:* Para tareas de clasificación, las predicciones de los árboles se combinan mediante un voto mayoritario, donde la clase más frecuente entre los árboles es la predicción final. Para tareas de regresión, se calcula el promedio de las predicciones de todos los árboles.\n",
        "\n",
        "Promedio de Resultados:\n",
        "\n",
        "Clasificación: La clase que recibe la mayoría de los votos de los árboles es la clase final predicha para una instancia.\n",
        "Regresión: Se promedia la salida de todos los árboles para obtener la predicción final.\n",
        "\n",
        "\n",
        "Ventajas de Random Forest:\n",
        "Robustez y Precisión: La combinación de múltiples árboles de decisión reduce el riesgo de sobreajuste y mejora la precisión del modelo en comparación con un solo árbol de decisión.\n",
        "Manejo de Datos Faltantes: Puede manejar datos faltantes y proporciona estimaciones de la importancia de las características.\n",
        "Versatilidad: Funciona bien con datos tanto estructurados como no estructurados y no requiere una preparación de datos extensa.\n",
        "Desventajas de Random Forest:\n",
        "Complejidad Computacional: La construcción y evaluación de múltiples árboles puede ser computacionalmente costosa, especialmente con grandes conjuntos de datos.\n",
        "Menos Interpretabilidad: Aunque los modelos individuales de árboles de decisión son interpretables, un modelo de Random Forest, con su conjunto de árboles, es más difícil de interpretar en su conjunto."
      ],
      "metadata": {
        "id": "1QO6ymid6UfW"
      }
    },
    {
      "cell_type": "code",
      "source": [
        "from sklearn.ensemble import RandomForestClassifier\n",
        "from sklearn.model_selection import RandomizedSearchCV\n",
        "from sklearn.metrics import accuracy_score, precision_score, recall_score, f1_score\n",
        "from scipy.stats import randint\n",
        "# Crear una instancia del clasificador RandomForestClassifier\n",
        "rf_clf = RandomForestClassifier(random_state=8)\n",
        "\n",
        "# Definir la grilla de hiperparámetros a explorar\n",
        "param_distributions = {\n",
        "    'n_estimators': randint(10, 50),  # Número de árboles en el bosque\n",
        "    'max_depth': randint(3, 10),       # Profundidad máxima de los árboles\n",
        "    'min_samples_split': randint(2, 20),  # Número mínimo de muestras requeridas para dividir un nodo\n",
        "    'min_samples_leaf': randint(1, 20),   # Número mínimo de muestras en un nodo hoja\n",
        "    'bootstrap': [True, False]          # Si usar bootstrap para la construcción de árboles\n",
        "}\n",
        "\n",
        "# Realizar búsqueda aleatoria con validación cruzada\n",
        "random_search = RandomizedSearchCV(rf_clf, param_distributions, n_iter=10, cv=3, scoring='accuracy', n_jobs=-1, random_state=8)\n",
        "random_search.fit(X_train, y_train)\n",
        "\n",
        "# Imprimir los mejores hiperparámetros encontrados\n",
        "print(\"Mejores hiperparámetros:\", random_search.best_params_)\n",
        "\n",
        "# Obtener el mejor modelo\n",
        "best_rf_clf = random_search.best_estimator_\n",
        "\n",
        "# Predecir en el conjunto de prueba con el mejor modelo\n",
        "y_pred = best_rf_clf.predict(X_test)\n",
        "\n",
        "# Calcular métricas en el conjunto de prueba\n",
        "accuracy = accuracy_score(y_test, y_pred)\n",
        "precision = precision_score(y_test, y_pred)\n",
        "recall = recall_score(y_test, y_pred)\n",
        "f1 = f1_score(y_test, y_pred)\n",
        "\n",
        "# Imprimir métricas en el conjunto de prueba\n",
        "print(\"\\n--- Métricas en el conjunto de prueba con RandomForest ---\")\n",
        "print(\"Accuracy:\", accuracy)\n",
        "print(\"Precision:\", precision)\n",
        "print(\"Recall:\", recall)\n",
        "print(\"F1 Score:\", f1)\n"
      ],
      "metadata": {
        "colab": {
          "base_uri": "https://localhost:8080/"
        },
        "id": "BvdOb42I6wbq",
        "outputId": "e69e8e32-b8e3-4a74-f29a-75b879cefac2"
      },
      "execution_count": null,
      "outputs": [
        {
          "output_type": "stream",
          "name": "stdout",
          "text": [
            "Mejores hiperparámetros: {'bootstrap': False, 'max_depth': 7, 'min_samples_leaf': 18, 'min_samples_split': 11, 'n_estimators': 15}\n",
            "\n",
            "--- Métricas en el conjunto de prueba con RandomForest ---\n",
            "Accuracy: 0.974875746659979\n",
            "Precision: 1.0\n",
            "Recall: 0.6856816885339418\n",
            "F1 Score: 0.8135363790186125\n"
          ]
        }
      ]
    },
    {
      "cell_type": "markdown",
      "source": [
        "#  **Optimizacion hiperparámetros AdaBoost**"
      ],
      "metadata": {
        "id": "_fIuMIcqmzZ0"
      }
    },
    {
      "cell_type": "markdown",
      "source": [
        "\n",
        "AdaBoost, que significa Adaptive Boosting, es un algoritmo de ensamblaje en aprendizaje automático diseñado para mejorar la precisión de modelos débiles, como árboles de decisión de poca profundidad.\n",
        "\n",
        "Principio de Funcionamiento:\n",
        "\n",
        "Inicialización: Se entrena un primer clasificador débil en el conjunto de datos original, que puede ser un árbol de decisión simple u otro modelo básico con rendimiento ligeramente superior al azar.\n",
        "\n",
        "Pesado de Ejemplares: Inicialmente, todos los ejemplos tienen el mismo peso. Después de entrenar el primer clasificador, AdaBoost ajusta los pesos de los ejemplos según si fueron correctamente clasificados o no. Los ejemplos mal clasificados obtienen más peso para las siguientes iteraciones.\n",
        "\n",
        "Entrenamiento Iterativo: En cada iteración, se entrena un nuevo clasificador en el conjunto de datos ponderado. Este enfoque permite que los clasificadores sucesivos se concentren en ejemplos difíciles de clasificar correctamente.\n",
        "\n",
        "Combinación de Clasificadores: Los clasificadores son ponderados según su precisión y sus predicciones se combinan mediante un voto ponderado para generar la predicción final. Los clasificadores más precisos tienen mayor influencia en la decisión final.\n",
        "\n",
        "Ventajas de AdaBoost:\n",
        "\n",
        "Mejora de Precisión: Aumenta significativamente la precisión de modelos débiles, generando un modelo robusto y potente.\n",
        "Simplicidad: Relativamente sencillo de implementar, con pocos parámetros a ajustar.\n",
        "Versatilidad: Compatible con varios tipos de clasificadores débiles.\n",
        "Desventajas de AdaBoost:\n",
        "Sensibilidad a Datos Ruidosos y Atípicos: Puede ser afectado por datos ruidosos y valores atípicos debido a su enfoque en ajustar los ejemplos difíciles.\n",
        "Problemas de Sobreajuste: Existe riesgo de sobreajuste si el número de iteraciones es excesivo.\n",
        "AdaBoost es una técnica eficaz para mejorar el rendimiento de modelos simples, pero es importante considerar sus limitaciones y ajustar los parámetros cuidadosamente para evitar problemas de sobreajuste y sensibilidad a datos ruidosos."
      ],
      "metadata": {
        "id": "k4cNMl6osdtA"
      }
    },
    {
      "cell_type": "code",
      "source": [
        "from sklearn.ensemble import AdaBoostClassifier\n",
        "from sklearn.model_selection import RandomizedSearchCV\n",
        "from sklearn.tree import DecisionTreeClassifier\n",
        "from scipy.stats import randint\n",
        "\n",
        "# Definir el clasificador base y el modelo AdaBoost\n",
        "base_estimator = DecisionTreeClassifier()\n",
        "\n",
        "# Definir el modelo AdaBoost\n",
        "adaboost = AdaBoostClassifier(estimator=base_estimator)\n",
        "\n",
        "# Definir los hiperparámetros a buscar con un rango reducido\n",
        "param_dist = {\n",
        "    'n_estimators': randint(10, 200),  # Rango de 50 a 150 árboles\n",
        "    'learning_rate': [0.01, 0.1, 0.5, 1.0, 1.5],  # Menor cantidad de tasas de aprendizaje\n",
        "    'estimator__max_depth': randint(1, 10),  # Profundidad máxima del estimador base de 1 a 3\n",
        "}\n",
        "\n",
        "# Configurar RandomizedSearchCV\n",
        "random_search = RandomizedSearchCV(estimator=adaboost, param_distributions=param_dist, n_iter=30,\n",
        "                                   cv=3, scoring='accuracy', n_jobs=-1, random_state=42)\n",
        "\n",
        "# Entrenar el modelo en el conjunto de entrenamiento\n",
        "random_search.fit(X_train, y_train)\n",
        "\n",
        "# Obtener los mejores parámetros\n",
        "best_params = random_search.best_params_\n",
        "best_score = random_search.best_score_\n",
        "\n",
        "print(f\"Mejores hiperparámetros: {best_params}\")\n",
        "print(f\"Mejor puntuación en la validación cruzada: {best_score}\")\n",
        "\n",
        "# Evaluar el modelo en el conjunto de prueba\n",
        "best_modelAda = random_search.best_estimator_\n",
        "test_scoreAda = best_modelAda.score(X_test, y_test)\n",
        "\n",
        "print(f\"Puntuación en el conjunto de prueba: {test_scoreAda}\")\n",
        "\n"
      ],
      "metadata": {
        "colab": {
          "base_uri": "https://localhost:8080/"
        },
        "id": "k3muQAdcmxHE",
        "outputId": "7e320280-922b-4146-b799-ac4f4c6d919e"
      },
      "execution_count": null,
      "outputs": [
        {
          "output_type": "stream",
          "name": "stdout",
          "text": [
            "Mejores hiperparámetros: {'estimator__max_depth': 2, 'learning_rate': 0.1, 'n_estimators': 199}\n",
            "Mejor puntuación en la validación cruzada: 0.9726562331224846\n",
            "Puntuación en el conjunto de prueba: 0.974647758880124\n"
          ]
        }
      ]
    },
    {
      "cell_type": "markdown",
      "source": [
        "# **Staking**"
      ],
      "metadata": {
        "id": "ch-3cFQNIea3"
      }
    },
    {
      "cell_type": "markdown",
      "source": [
        "tacking (también conocido como Stacked Generalization) es un método de aprendizaje automático en el que se combinan múltiples modelos para mejorar el rendimiento predictivo. A diferencia de otros enfoques de ensamblaje como Bagging y Boosting, que combinan modelos similares de diferentes maneras, el Stacking combina diversos tipos de modelos para aprovechar las fortalezas de cada uno y reducir los errores generales. Aquí te explico cómo funciona y sus principales características:\n",
        "\n",
        "Principio de Funcionamiento:\n",
        "Entrenamiento de Modelos Base:\n",
        "\n",
        "Modelos Diversos: Se entrenan varios modelos base, que pueden ser diferentes tipos de algoritmos de aprendizaje automático (por ejemplo, árboles de decisión, máquinas de soporte vectorial, redes neuronales, etc.). Cada modelo base se entrena en el conjunto de datos original.\n",
        "Generación de Predicciones: Cada modelo base realiza predicciones para el conjunto de datos de entrenamiento.\n",
        "Creación de un Conjunto de Datos de Segundo Nivel:\n",
        "\n",
        "Predicciones como Nuevas Características: Las predicciones realizadas por los modelos base se utilizan como nuevas características en un segundo conjunto de datos, denominado conjunto de datos de segundo nivel o metadatos.\n",
        "Datos de Entrenamiento del Meta-Modelo: El conjunto de datos de segundo nivel se utiliza para entrenar un meta-modelo, que es el modelo que aprenderá a combinar las predicciones de los modelos base.\n",
        "Entrenamiento del Meta-Modelo:\n",
        "\n",
        "Meta-Aprendizaje: El meta-modelo (también conocido como modelo de nivel 1 o modelo de combinación) se entrena utilizando las predicciones de los modelos base como entradas y las verdaderas etiquetas de los datos como salida. Este meta-modelo aprende a combinar las predicciones de los modelos base para mejorar la precisión general.\n",
        "Predicción Final:\n",
        "\n",
        "Aplicación del Meta-Modelo: Para hacer predicciones en nuevos datos, los modelos base generan predicciones para esos datos, y el meta-modelo combina estas predicciones para producir la predicción final."
      ],
      "metadata": {
        "id": "tTNY6IBX-y2U"
      }
    },
    {
      "cell_type": "code",
      "source": [
        "# Definir los modelos base\n",
        "base_learners = [\n",
        "    ('gb',  best_gb_clf),\n",
        "    ('rf', best_rf_clf),\n",
        "    ('ada', best_modelAda)\n",
        "]\n",
        "\n",
        "# Modelo meta\n",
        "meta_model = LogisticRegression(random_state=8)\n",
        "\n",
        "# Inicializar y entrenar el StackingClassifier\n",
        "stacking_clf = StackingClassifier(estimators=base_learners, final_estimator=meta_model)\n",
        "stacking_clf.fit(X_train, y_train)\n",
        "\n",
        "# Evaluar el modelo en el conjunto de prueba\n",
        "stacking_predictions = stacking_clf.predict(X_test)\n",
        "stacking_accuracy = accuracy_score(y_test, stacking_predictions)\n",
        "print(f\"Accuracy del Stacking Classifier: {stacking_accuracy:.4f}\")\n"
      ],
      "metadata": {
        "colab": {
          "base_uri": "https://localhost:8080/"
        },
        "id": "7THzy1dlInnr",
        "outputId": "29c7f56a-1197-48e5-b2c3-0c3b20d7299d"
      },
      "execution_count": null,
      "outputs": [
        {
          "output_type": "stream",
          "name": "stdout",
          "text": [
            "Accuracy del Stacking Classifier: 0.9730\n"
          ]
        }
      ]
    },
    {
      "cell_type": "markdown",
      "metadata": {
        "id": "gHQ8oCbjdqR4"
      },
      "source": [
        "# **Predicción con datos Test**"
      ]
    },
    {
      "cell_type": "markdown",
      "metadata": {
        "id": "mKTqruALdqR4"
      },
      "source": [
        "Cargamos los datos de test. Estos datos son los que van a utilizar para predecir si las personas tienen diabetes y generar alrchivo `submision.csv` para utilizar en la competencia de Kaggle."
      ]
    },
    {
      "cell_type": "markdown",
      "source": [
        "Se deben realizar las mismas transformaciones que se le realizó al data set Train"
      ],
      "metadata": {
        "id": "TPsiWhXA5LcX"
      }
    },
    {
      "cell_type": "code",
      "execution_count": null,
      "metadata": {
        "id": "tNgP4mp5MWWI",
        "collapsed": true,
        "colab": {
          "base_uri": "https://localhost:8080/",
          "height": 332
        },
        "outputId": "ce163632-1a4f-4b1a-99e0-2270b7e2277e"
      },
      "outputs": [
        {
          "output_type": "error",
          "ename": "FileNotFoundError",
          "evalue": "[Errno 2] No such file or directory: '/content/drive/MyDrive/DiploDatos/Colab Notebooks//diabetes_prediction_dataset_test.csv'",
          "traceback": [
            "\u001b[0;31m---------------------------------------------------------------------------\u001b[0m",
            "\u001b[0;31mFileNotFoundError\u001b[0m                         Traceback (most recent call last)",
            "\u001b[0;32m<ipython-input-47-bc30da1a7113>\u001b[0m in \u001b[0;36m<cell line: 4>\u001b[0;34m()\u001b[0m\n\u001b[1;32m      2\u001b[0m \u001b[0;31m#my_path='/content/drive/MyDrive/DiploDatos/Colab\\ Notebooks/'\u001b[0m\u001b[0;34m\u001b[0m\u001b[0;34m\u001b[0m\u001b[0m\n\u001b[1;32m      3\u001b[0m \u001b[0mmy_path\u001b[0m\u001b[0;34m=\u001b[0m\u001b[0;34m'/content/drive/MyDrive/DiploDatos/Colab Notebooks/'\u001b[0m\u001b[0;34m\u001b[0m\u001b[0;34m\u001b[0m\u001b[0m\n\u001b[0;32m----> 4\u001b[0;31m \u001b[0mtest_df\u001b[0m \u001b[0;34m=\u001b[0m \u001b[0mpd\u001b[0m\u001b[0;34m.\u001b[0m\u001b[0mread_csv\u001b[0m\u001b[0;34m(\u001b[0m\u001b[0;34mf\"{my_path}/diabetes_prediction_dataset_test.csv\"\u001b[0m\u001b[0;34m)\u001b[0m\u001b[0;34m\u001b[0m\u001b[0;34m\u001b[0m\u001b[0m\n\u001b[0m",
            "\u001b[0;32m/usr/local/lib/python3.10/dist-packages/pandas/io/parsers/readers.py\u001b[0m in \u001b[0;36mread_csv\u001b[0;34m(filepath_or_buffer, sep, delimiter, header, names, index_col, usecols, dtype, engine, converters, true_values, false_values, skipinitialspace, skiprows, skipfooter, nrows, na_values, keep_default_na, na_filter, verbose, skip_blank_lines, parse_dates, infer_datetime_format, keep_date_col, date_parser, date_format, dayfirst, cache_dates, iterator, chunksize, compression, thousands, decimal, lineterminator, quotechar, quoting, doublequote, escapechar, comment, encoding, encoding_errors, dialect, on_bad_lines, delim_whitespace, low_memory, memory_map, float_precision, storage_options, dtype_backend)\u001b[0m\n\u001b[1;32m    946\u001b[0m     \u001b[0mkwds\u001b[0m\u001b[0;34m.\u001b[0m\u001b[0mupdate\u001b[0m\u001b[0;34m(\u001b[0m\u001b[0mkwds_defaults\u001b[0m\u001b[0;34m)\u001b[0m\u001b[0;34m\u001b[0m\u001b[0;34m\u001b[0m\u001b[0m\n\u001b[1;32m    947\u001b[0m \u001b[0;34m\u001b[0m\u001b[0m\n\u001b[0;32m--> 948\u001b[0;31m     \u001b[0;32mreturn\u001b[0m \u001b[0m_read\u001b[0m\u001b[0;34m(\u001b[0m\u001b[0mfilepath_or_buffer\u001b[0m\u001b[0;34m,\u001b[0m \u001b[0mkwds\u001b[0m\u001b[0;34m)\u001b[0m\u001b[0;34m\u001b[0m\u001b[0;34m\u001b[0m\u001b[0m\n\u001b[0m\u001b[1;32m    949\u001b[0m \u001b[0;34m\u001b[0m\u001b[0m\n\u001b[1;32m    950\u001b[0m \u001b[0;34m\u001b[0m\u001b[0m\n",
            "\u001b[0;32m/usr/local/lib/python3.10/dist-packages/pandas/io/parsers/readers.py\u001b[0m in \u001b[0;36m_read\u001b[0;34m(filepath_or_buffer, kwds)\u001b[0m\n\u001b[1;32m    609\u001b[0m \u001b[0;34m\u001b[0m\u001b[0m\n\u001b[1;32m    610\u001b[0m     \u001b[0;31m# Create the parser.\u001b[0m\u001b[0;34m\u001b[0m\u001b[0;34m\u001b[0m\u001b[0m\n\u001b[0;32m--> 611\u001b[0;31m     \u001b[0mparser\u001b[0m \u001b[0;34m=\u001b[0m \u001b[0mTextFileReader\u001b[0m\u001b[0;34m(\u001b[0m\u001b[0mfilepath_or_buffer\u001b[0m\u001b[0;34m,\u001b[0m \u001b[0;34m**\u001b[0m\u001b[0mkwds\u001b[0m\u001b[0;34m)\u001b[0m\u001b[0;34m\u001b[0m\u001b[0;34m\u001b[0m\u001b[0m\n\u001b[0m\u001b[1;32m    612\u001b[0m \u001b[0;34m\u001b[0m\u001b[0m\n\u001b[1;32m    613\u001b[0m     \u001b[0;32mif\u001b[0m \u001b[0mchunksize\u001b[0m \u001b[0;32mor\u001b[0m \u001b[0miterator\u001b[0m\u001b[0;34m:\u001b[0m\u001b[0;34m\u001b[0m\u001b[0;34m\u001b[0m\u001b[0m\n",
            "\u001b[0;32m/usr/local/lib/python3.10/dist-packages/pandas/io/parsers/readers.py\u001b[0m in \u001b[0;36m__init__\u001b[0;34m(self, f, engine, **kwds)\u001b[0m\n\u001b[1;32m   1446\u001b[0m \u001b[0;34m\u001b[0m\u001b[0m\n\u001b[1;32m   1447\u001b[0m         \u001b[0mself\u001b[0m\u001b[0;34m.\u001b[0m\u001b[0mhandles\u001b[0m\u001b[0;34m:\u001b[0m \u001b[0mIOHandles\u001b[0m \u001b[0;34m|\u001b[0m \u001b[0;32mNone\u001b[0m \u001b[0;34m=\u001b[0m \u001b[0;32mNone\u001b[0m\u001b[0;34m\u001b[0m\u001b[0;34m\u001b[0m\u001b[0m\n\u001b[0;32m-> 1448\u001b[0;31m         \u001b[0mself\u001b[0m\u001b[0;34m.\u001b[0m\u001b[0m_engine\u001b[0m \u001b[0;34m=\u001b[0m \u001b[0mself\u001b[0m\u001b[0;34m.\u001b[0m\u001b[0m_make_engine\u001b[0m\u001b[0;34m(\u001b[0m\u001b[0mf\u001b[0m\u001b[0;34m,\u001b[0m \u001b[0mself\u001b[0m\u001b[0;34m.\u001b[0m\u001b[0mengine\u001b[0m\u001b[0;34m)\u001b[0m\u001b[0;34m\u001b[0m\u001b[0;34m\u001b[0m\u001b[0m\n\u001b[0m\u001b[1;32m   1449\u001b[0m \u001b[0;34m\u001b[0m\u001b[0m\n\u001b[1;32m   1450\u001b[0m     \u001b[0;32mdef\u001b[0m \u001b[0mclose\u001b[0m\u001b[0;34m(\u001b[0m\u001b[0mself\u001b[0m\u001b[0;34m)\u001b[0m \u001b[0;34m->\u001b[0m \u001b[0;32mNone\u001b[0m\u001b[0;34m:\u001b[0m\u001b[0;34m\u001b[0m\u001b[0;34m\u001b[0m\u001b[0m\n",
            "\u001b[0;32m/usr/local/lib/python3.10/dist-packages/pandas/io/parsers/readers.py\u001b[0m in \u001b[0;36m_make_engine\u001b[0;34m(self, f, engine)\u001b[0m\n\u001b[1;32m   1703\u001b[0m                 \u001b[0;32mif\u001b[0m \u001b[0;34m\"b\"\u001b[0m \u001b[0;32mnot\u001b[0m \u001b[0;32min\u001b[0m \u001b[0mmode\u001b[0m\u001b[0;34m:\u001b[0m\u001b[0;34m\u001b[0m\u001b[0;34m\u001b[0m\u001b[0m\n\u001b[1;32m   1704\u001b[0m                     \u001b[0mmode\u001b[0m \u001b[0;34m+=\u001b[0m \u001b[0;34m\"b\"\u001b[0m\u001b[0;34m\u001b[0m\u001b[0;34m\u001b[0m\u001b[0m\n\u001b[0;32m-> 1705\u001b[0;31m             self.handles = get_handle(\n\u001b[0m\u001b[1;32m   1706\u001b[0m                 \u001b[0mf\u001b[0m\u001b[0;34m,\u001b[0m\u001b[0;34m\u001b[0m\u001b[0;34m\u001b[0m\u001b[0m\n\u001b[1;32m   1707\u001b[0m                 \u001b[0mmode\u001b[0m\u001b[0;34m,\u001b[0m\u001b[0;34m\u001b[0m\u001b[0;34m\u001b[0m\u001b[0m\n",
            "\u001b[0;32m/usr/local/lib/python3.10/dist-packages/pandas/io/common.py\u001b[0m in \u001b[0;36mget_handle\u001b[0;34m(path_or_buf, mode, encoding, compression, memory_map, is_text, errors, storage_options)\u001b[0m\n\u001b[1;32m    861\u001b[0m         \u001b[0;32mif\u001b[0m \u001b[0mioargs\u001b[0m\u001b[0;34m.\u001b[0m\u001b[0mencoding\u001b[0m \u001b[0;32mand\u001b[0m \u001b[0;34m\"b\"\u001b[0m \u001b[0;32mnot\u001b[0m \u001b[0;32min\u001b[0m \u001b[0mioargs\u001b[0m\u001b[0;34m.\u001b[0m\u001b[0mmode\u001b[0m\u001b[0;34m:\u001b[0m\u001b[0;34m\u001b[0m\u001b[0;34m\u001b[0m\u001b[0m\n\u001b[1;32m    862\u001b[0m             \u001b[0;31m# Encoding\u001b[0m\u001b[0;34m\u001b[0m\u001b[0;34m\u001b[0m\u001b[0m\n\u001b[0;32m--> 863\u001b[0;31m             handle = open(\n\u001b[0m\u001b[1;32m    864\u001b[0m                 \u001b[0mhandle\u001b[0m\u001b[0;34m,\u001b[0m\u001b[0;34m\u001b[0m\u001b[0;34m\u001b[0m\u001b[0m\n\u001b[1;32m    865\u001b[0m                 \u001b[0mioargs\u001b[0m\u001b[0;34m.\u001b[0m\u001b[0mmode\u001b[0m\u001b[0;34m,\u001b[0m\u001b[0;34m\u001b[0m\u001b[0;34m\u001b[0m\u001b[0m\n",
            "\u001b[0;31mFileNotFoundError\u001b[0m: [Errno 2] No such file or directory: '/content/drive/MyDrive/DiploDatos/Colab Notebooks//diabetes_prediction_dataset_test.csv'"
          ]
        }
      ],
      "source": [
        "## Cargamos el pkl (path = Mi unidad/DIPLODATOS2023/my_df.pkl)\n",
        "#my_path='/content/drive/MyDrive/DiploDatos/Colab\\ Notebooks/'\n",
        "my_path='/content/drive/MyDrive/DiploDatos/Colab Notebooks/'\n",
        "test_df = pd.read_csv(f\"{my_path}/diabetes_prediction_dataset_test.csv\")"
      ]
    },
    {
      "cell_type": "code",
      "execution_count": null,
      "metadata": {
        "id": "p5_C4bivuOT7"
      },
      "outputs": [],
      "source": [
        "#Ruta Mara\n",
        "test_df = pd.read_csv('/content/drive/MyDrive/Colab Notebooks/AS/diabetes_prediction_dataset_test.csv')"
      ]
    },
    {
      "cell_type": "code",
      "execution_count": null,
      "metadata": {
        "collapsed": true,
        "id": "bRnuaeBBdqR4"
      },
      "outputs": [],
      "source": [
        "print(test_df.shape)\n",
        "print(test_df.describe())"
      ]
    },
    {
      "cell_type": "code",
      "execution_count": null,
      "metadata": {
        "id": "8mT_ztyEdqR4",
        "collapsed": true
      },
      "outputs": [],
      "source": [
        "test_df.head()"
      ]
    },
    {
      "cell_type": "code",
      "execution_count": null,
      "metadata": {
        "collapsed": true,
        "id": "4M3psQFcdqR5"
      },
      "outputs": [],
      "source": [
        "test_df.info()"
      ]
    },
    {
      "cell_type": "code",
      "execution_count": null,
      "metadata": {
        "id": "MyZbFEjf8c8l"
      },
      "outputs": [],
      "source": [
        "#Convertir la variable blood_glucose_level a float64\n",
        "test_df['blood_glucose_level'] = test_df['blood_glucose_level'].astype('float64')"
      ]
    },
    {
      "cell_type": "code",
      "execution_count": null,
      "metadata": {
        "id": "MSHPQC988iGc",
        "collapsed": true
      },
      "outputs": [],
      "source": [
        "import missingno as msno\n",
        "msno.matrix(test_df,figsize=(6, 3), fontsize=12, color=[0,0,0.2])"
      ]
    },
    {
      "cell_type": "code",
      "source": [
        "# Calcular el porcentaje de 'Other' en la columna 'gender'\n",
        "porcentaje_other_test = (test_df['gender'] == 'Other').sum() / len(train_df) * 100\n",
        "\n",
        "print(f\"El porcentaje de datos en la categoría 'Other' de la variable 'gender' es: {porcentaje_other_test:.5f}%\")\n"
      ],
      "metadata": {
        "id": "0qAsJaOnAdwC",
        "colab": {
          "base_uri": "https://localhost:8080/"
        },
        "outputId": "35cfaafb-bf86-4c05-f721-9a62a2c4ba23"
      },
      "execution_count": null,
      "outputs": [
        {
          "output_type": "stream",
          "name": "stdout",
          "text": [
            "El porcentaje de datos en la categoría 'Other' de la variable 'gender' es: 0.00211%\n"
          ]
        }
      ]
    },
    {
      "cell_type": "code",
      "source": [
        "# Calcular el número de casos 'Other' en la variable 'gender'\n",
        "num_other_gender = (test_df['gender'] == 'Other').sum()\n",
        "\n",
        "print(f\"El número de casos 'Other' en la variable 'gender' es: {num_other_gender}\")\n"
      ],
      "metadata": {
        "id": "SQBy-JPoMUHk",
        "colab": {
          "base_uri": "https://localhost:8080/"
        },
        "outputId": "1f3f729c-27fa-426a-fa6e-3ea876dd31b9"
      },
      "execution_count": null,
      "outputs": [
        {
          "output_type": "stream",
          "name": "stdout",
          "text": [
            "El número de casos 'Other' en la variable 'gender' es: 2\n"
          ]
        }
      ]
    },
    {
      "cell_type": "code",
      "source": [
        "# Calcular el número de casos 'Male' en la variable 'gender'\n",
        "num_male_gender = (test_df['gender'] == 'Male').sum()\n",
        "\n",
        "# Calcular el número de casos 'Female' en la variable 'gender'\n",
        "num_female_gender = (test_df['gender'] == 'Female').sum()\n",
        "\n",
        "# Calcular la proporción de 'Male'\n",
        "proporcion_male = num_male_gender / (num_male_gender + num_female_gender)\n",
        "\n",
        "# Calcular la proporción de 'Female'\n",
        "proporcion_female = num_female_gender / (num_male_gender + num_female_gender)\n",
        "\n",
        "print(f\"La proporción de 'Male' en la variable 'gender' es: {proporcion_male:.2f}\")\n",
        "print(f\"La proporción de 'Female' en la variable 'gender' es: {proporcion_female:.2f}\")\n"
      ],
      "metadata": {
        "id": "KzyCVHjGjozR",
        "colab": {
          "base_uri": "https://localhost:8080/"
        },
        "outputId": "386436c8-8c00-4e88-ced0-e12f5db8804a"
      },
      "execution_count": null,
      "outputs": [
        {
          "output_type": "stream",
          "name": "stdout",
          "text": [
            "La proporción de 'Male' en la variable 'gender' es: 0.40\n",
            "La proporción de 'Female' en la variable 'gender' es: 0.60\n"
          ]
        }
      ]
    },
    {
      "cell_type": "code",
      "source": [
        "# Reemplazar 'Other' por 'Female' en la columna 'gender'\n",
        "#test_df['gender'] = test_df['gender'].replace('Other', 'Female')\n",
        "\n",
        "# Verificar que los cambios se hayan aplicado\n",
        "#print(test_df['gender'].unique())\n"
      ],
      "metadata": {
        "id": "INcMpNi9j6VR",
        "colab": {
          "base_uri": "https://localhost:8080/"
        },
        "outputId": "e76d5911-6ef1-49ca-abdc-28b17ff189ed",
        "collapsed": true
      },
      "execution_count": null,
      "outputs": [
        {
          "output_type": "stream",
          "name": "stdout",
          "text": [
            "['Male' 'Female']\n"
          ]
        }
      ]
    },
    {
      "cell_type": "code",
      "source": [
        "# Eliminar filas con 'Other' en la columna 'gender'\n",
        "#test_df = test_df[test_df['gender'] != 'Other']\n",
        "# Verificar la cantidad de filas restantes\n",
        "#print(test_df.shape)"
      ],
      "metadata": {
        "id": "x058RhHKMkDF",
        "colab": {
          "base_uri": "https://localhost:8080/"
        },
        "outputId": "9dcde6e4-eddd-483b-c704-ba7151a0544f",
        "collapsed": true
      },
      "execution_count": null,
      "outputs": [
        {
          "output_type": "stream",
          "name": "stdout",
          "text": [
            "(5000, 10)\n"
          ]
        }
      ]
    },
    {
      "cell_type": "code",
      "source": [
        "# Calcular el porcentaje de 'No_Info' de la columna 'smoking_history'\n",
        "porcentaje_NoInfo_test = (test_df['smoking_history'] == 'No_Info').sum() / len(test_df) * 100\n",
        "\n",
        "print(f\"El porcentaje de datos en la categoría 'No_Info' de la variable 'smoking_history' es: {porcentaje_NoInfo_test :.7f}%\")"
      ],
      "metadata": {
        "id": "7UQoZdC6BAyY",
        "colab": {
          "base_uri": "https://localhost:8080/"
        },
        "outputId": "bb3b2b38-cb8c-4450-cd0b-422c43ad85d4"
      },
      "execution_count": null,
      "outputs": [
        {
          "output_type": "stream",
          "name": "stdout",
          "text": [
            "El porcentaje de datos en la categoría 'No_Info' de la variable 'smoking_history' es: 0.0000000%\n"
          ]
        }
      ]
    },
    {
      "cell_type": "code",
      "source": [
        "# Calcular el número de casos 'No_Info en la variable 'smoking_history'\n",
        "No_Info_smoking_history = (test_df['smoking_history'] == 'No_Info').sum()\n",
        "\n",
        "print(f\"El número de casos 'No_Info' en la variable 'smoking_history' es: {No_Info_smoking_history}\")"
      ],
      "metadata": {
        "id": "6WdjesmBNIfc",
        "colab": {
          "base_uri": "https://localhost:8080/"
        },
        "outputId": "8e183008-6199-423d-fbdd-2648027fd828"
      },
      "execution_count": null,
      "outputs": [
        {
          "output_type": "stream",
          "name": "stdout",
          "text": [
            "El número de casos 'No_Info' en la variable 'smoking_history' es: 0\n"
          ]
        }
      ]
    },
    {
      "cell_type": "code",
      "source": [
        "# Aplicamos One-Hot Encoding a 'gender' y 'smoking_history'\n",
        "test_df_encoded = pd.get_dummies(test_df, columns=['gender', 'smoking_history'], dtype=float)\n",
        "# Reemplaza True por 1 y False por 0 en las columnas codificadas\n",
        "#test_df_encoded = test_df_encoded.replace({True: 1, False: 0})\n",
        "# Verifica el resultado\n",
        "print(test_df_encoded.head())\n"
      ],
      "metadata": {
        "id": "C-Tcl8xaDI2l",
        "colab": {
          "base_uri": "https://localhost:8080/"
        },
        "outputId": "e92eaa80-e9f6-4453-f1cb-cd53fcf6718b",
        "collapsed": true
      },
      "execution_count": null,
      "outputs": [
        {
          "output_type": "stream",
          "name": "stdout",
          "text": [
            "   patient   age  hypertension  heart_disease    bmi  HbA1c_level  \\\n",
            "0    49267  53.0             0              0  31.99          4.5   \n",
            "1    82280  22.0             0              0  25.96          6.6   \n",
            "2    33216  37.0             0              0  22.24          6.2   \n",
            "3    94551  29.0             0              0  31.01          5.0   \n",
            "4    43760  30.0             0              0  28.66          6.6   \n",
            "\n",
            "   blood_glucose_level  diabetes  gender_Female  gender_Male  gender_Other  \\\n",
            "0                126.0       NaN            0.0          1.0           0.0   \n",
            "1                130.0       NaN            1.0          0.0           0.0   \n",
            "2                126.0       NaN            1.0          0.0           0.0   \n",
            "3                 80.0       NaN            1.0          0.0           0.0   \n",
            "4                100.0       NaN            0.0          1.0           0.0   \n",
            "\n",
            "   smoking_history_No Info  smoking_history_current  smoking_history_ever  \\\n",
            "0                      0.0                      0.0                   0.0   \n",
            "1                      0.0                      0.0                   0.0   \n",
            "2                      0.0                      0.0                   0.0   \n",
            "3                      0.0                      0.0                   0.0   \n",
            "4                      0.0                      0.0                   1.0   \n",
            "\n",
            "   smoking_history_former  smoking_history_never  smoking_history_not current  \n",
            "0                     0.0                    1.0                          0.0  \n",
            "1                     0.0                    1.0                          0.0  \n",
            "2                     0.0                    1.0                          0.0  \n",
            "3                     0.0                    0.0                          1.0  \n",
            "4                     0.0                    0.0                          0.0  \n"
          ]
        }
      ]
    },
    {
      "cell_type": "code",
      "source": [
        "# Eliminar las columnas 'smoking_history_No_Info', 'gender_Other' y 'diabetes'\n",
        "test_df_encoded = test_df_encoded.drop(['smoking_history_No Info', 'gender_Other', 'diabetes'], axis=1)\n",
        "# Verificar el resultado\n",
        "print(test_df_encoded.head())"
      ],
      "metadata": {
        "id": "2Dc9BfNIPdUM",
        "colab": {
          "base_uri": "https://localhost:8080/"
        },
        "outputId": "5b026352-9e76-40aa-db48-b265041cb0f7",
        "collapsed": true
      },
      "execution_count": null,
      "outputs": [
        {
          "output_type": "stream",
          "name": "stdout",
          "text": [
            "   patient   age  hypertension  heart_disease    bmi  HbA1c_level  \\\n",
            "0    49267  53.0             0              0  31.99          4.5   \n",
            "1    82280  22.0             0              0  25.96          6.6   \n",
            "2    33216  37.0             0              0  22.24          6.2   \n",
            "3    94551  29.0             0              0  31.01          5.0   \n",
            "4    43760  30.0             0              0  28.66          6.6   \n",
            "\n",
            "   blood_glucose_level  gender_Female  gender_Male  smoking_history_current  \\\n",
            "0                126.0            0.0          1.0                      0.0   \n",
            "1                130.0            1.0          0.0                      0.0   \n",
            "2                126.0            1.0          0.0                      0.0   \n",
            "3                 80.0            1.0          0.0                      0.0   \n",
            "4                100.0            0.0          1.0                      0.0   \n",
            "\n",
            "   smoking_history_ever  smoking_history_former  smoking_history_never  \\\n",
            "0                   0.0                     0.0                    1.0   \n",
            "1                   0.0                     0.0                    1.0   \n",
            "2                   0.0                     0.0                    1.0   \n",
            "3                   0.0                     0.0                    0.0   \n",
            "4                   1.0                     0.0                    0.0   \n",
            "\n",
            "   smoking_history_not current  \n",
            "0                          0.0  \n",
            "1                          0.0  \n",
            "2                          0.0  \n",
            "3                          1.0  \n",
            "4                          0.0  \n"
          ]
        }
      ]
    },
    {
      "cell_type": "code",
      "source": [
        "list(test_df_encoded.columns)"
      ],
      "metadata": {
        "id": "eR5xdBwAJds2",
        "colab": {
          "base_uri": "https://localhost:8080/"
        },
        "outputId": "04e9c76e-a52b-4331-d74c-b2107bdcb443",
        "collapsed": true
      },
      "execution_count": null,
      "outputs": [
        {
          "output_type": "execute_result",
          "data": {
            "text/plain": [
              "['patient',\n",
              " 'age',\n",
              " 'hypertension',\n",
              " 'heart_disease',\n",
              " 'bmi',\n",
              " 'HbA1c_level',\n",
              " 'blood_glucose_level',\n",
              " 'gender_Female',\n",
              " 'gender_Male',\n",
              " 'smoking_history_current',\n",
              " 'smoking_history_ever',\n",
              " 'smoking_history_former',\n",
              " 'smoking_history_never',\n",
              " 'smoking_history_not current']"
            ]
          },
          "metadata": {},
          "execution_count": 59
        }
      ]
    },
    {
      "cell_type": "code",
      "source": [
        "# Verifica que todas las columnas existan en el DataFrame\n",
        "missing_columns = [col for col in columnas_std if col not in test_df_encoded.columns]\n",
        "if missing_columns:\n",
        "    print(f\"Las siguientes columnas no se encuentran en el DataFrame: {missing_columns}\")\n",
        "else:\n",
        "    # Crear un DataFrame de copia para estandarizar\n",
        "    test_df_std = test_df_encoded.copy()\n",
        "\n",
        "    # Crear un objeto StandardScaler\n",
        "    scaler = StandardScaler()\n",
        "\n",
        "    # Ajustar el scaler a los datos y transformar las columnas seleccionadas\n",
        "    test_df_std[columnas_std] = scaler.fit_transform(test_df_encoded[columnas_std])\n",
        "\n",
        "    # Mostrar el DataFrame después de la estandarización\n",
        "    print(\"\\nDataFrame después de estandarizar:\")\n",
        "    print(test_df_std.head(3))"
      ],
      "metadata": {
        "id": "f8qaydNuI0jm",
        "colab": {
          "base_uri": "https://localhost:8080/"
        },
        "outputId": "758cfe6d-5c1b-4af1-c10a-267d87531053",
        "collapsed": true
      },
      "execution_count": null,
      "outputs": [
        {
          "output_type": "stream",
          "name": "stdout",
          "text": [
            "\n",
            "DataFrame después de estandarizar:\n",
            "   patient       age  hypertension  heart_disease       bmi  HbA1c_level  \\\n",
            "0    49267  0.534851             0              0  0.683720    -0.950085   \n",
            "1    82280 -0.840774             0              0 -0.198857     0.997153   \n",
            "2    33216 -0.175149             0              0 -0.743333     0.626250   \n",
            "\n",
            "   blood_glucose_level  gender_Female  gender_Male  smoking_history_current  \\\n",
            "0            -0.294803            0.0          1.0                      0.0   \n",
            "1            -0.195048            1.0          0.0                      0.0   \n",
            "2            -0.294803            1.0          0.0                      0.0   \n",
            "\n",
            "   smoking_history_ever  smoking_history_former  smoking_history_never  \\\n",
            "0                   0.0                     0.0                    1.0   \n",
            "1                   0.0                     0.0                    1.0   \n",
            "2                   0.0                     0.0                    1.0   \n",
            "\n",
            "   smoking_history_not current  \n",
            "0                          0.0  \n",
            "1                          0.0  \n",
            "2                          0.0  \n"
          ]
        }
      ]
    },
    {
      "cell_type": "markdown",
      "source": [
        "Aplicamnos los modelos a Test:"
      ],
      "metadata": {
        "id": "2yGLkdjj-ygA"
      }
    },
    {
      "cell_type": "code",
      "source": [
        "from google.colab import files\n",
        "#GBoost\n",
        "# Seleccionar las características del conjunto de datos de prueba\n",
        "X_test_std = test_df_std[['patient', 'age', 'hypertension', 'heart_disease',\n",
        "                            'bmi', 'HbA1c_level', 'blood_glucose_level', 'gender_Female',\n",
        "                            'gender_Male', 'smoking_history_current', 'smoking_history_ever',\n",
        "                            'smoking_history_former', 'smoking_history_never', 'smoking_history_not current']].values\n",
        "\n",
        "# Realizar predicciones en el conjunto de prueba con el mejor modelo Gradient Boosting\n",
        "y_pred_test_gb = best_gb_clf.predict(X_test_std)\n",
        "\n",
        "# Crear un DataFrame solo con las predicciones\n",
        "predictions_gb_df = pd.DataFrame({\n",
        "    'patient': test_df_std['patient'],\n",
        "    'diabetes': y_pred_test_gb\n",
        "})\n",
        "\n",
        "# Guardar las predicciones en un archivo CSV\n",
        "predictions_gb_df.to_csv('submission_GB.csv', index=False)\n",
        "\n",
        "# Descargar el archivo de predicciones\n",
        "files.download('submission_GB.csv')\n",
        "\n",
        "print(\"Archivo 'submission_GB.csv' creado con las predicciones.\")\n"
      ],
      "metadata": {
        "colab": {
          "base_uri": "https://localhost:8080/",
          "height": 34
        },
        "id": "LA2tvUYp-839",
        "outputId": "8621c2ab-cf51-44f4-bbb5-6a08083f8524"
      },
      "execution_count": null,
      "outputs": [
        {
          "output_type": "display_data",
          "data": {
            "text/plain": [
              "<IPython.core.display.Javascript object>"
            ],
            "application/javascript": [
              "\n",
              "    async function download(id, filename, size) {\n",
              "      if (!google.colab.kernel.accessAllowed) {\n",
              "        return;\n",
              "      }\n",
              "      const div = document.createElement('div');\n",
              "      const label = document.createElement('label');\n",
              "      label.textContent = `Downloading \"${filename}\": `;\n",
              "      div.appendChild(label);\n",
              "      const progress = document.createElement('progress');\n",
              "      progress.max = size;\n",
              "      div.appendChild(progress);\n",
              "      document.body.appendChild(div);\n",
              "\n",
              "      const buffers = [];\n",
              "      let downloaded = 0;\n",
              "\n",
              "      const channel = await google.colab.kernel.comms.open(id);\n",
              "      // Send a message to notify the kernel that we're ready.\n",
              "      channel.send({})\n",
              "\n",
              "      for await (const message of channel.messages) {\n",
              "        // Send a message to notify the kernel that we're ready.\n",
              "        channel.send({})\n",
              "        if (message.buffers) {\n",
              "          for (const buffer of message.buffers) {\n",
              "            buffers.push(buffer);\n",
              "            downloaded += buffer.byteLength;\n",
              "            progress.value = downloaded;\n",
              "          }\n",
              "        }\n",
              "      }\n",
              "      const blob = new Blob(buffers, {type: 'application/binary'});\n",
              "      const a = document.createElement('a');\n",
              "      a.href = window.URL.createObjectURL(blob);\n",
              "      a.download = filename;\n",
              "      div.appendChild(a);\n",
              "      a.click();\n",
              "      div.remove();\n",
              "    }\n",
              "  "
            ]
          },
          "metadata": {}
        },
        {
          "output_type": "display_data",
          "data": {
            "text/plain": [
              "<IPython.core.display.Javascript object>"
            ],
            "application/javascript": [
              "download(\"download_745ef9c5-e98f-4c15-9a47-c02900492553\", \"submission_GB.csv\", 39433)"
            ]
          },
          "metadata": {}
        },
        {
          "output_type": "stream",
          "name": "stdout",
          "text": [
            "Archivo 'submission_GB.csv' creado con las predicciones.\n"
          ]
        }
      ]
    },
    {
      "cell_type": "code",
      "source": [
        "# RForest\n",
        "# Seleccionar las características del conjunto de datos de prueba\n",
        "X_test_std = test_df_std[['patient', 'age', 'hypertension', 'heart_disease',\n",
        "                            'bmi', 'HbA1c_level', 'blood_glucose_level', 'gender_Female',\n",
        "                            'gender_Male', 'smoking_history_current', 'smoking_history_ever',\n",
        "                            'smoking_history_former', 'smoking_history_never', 'smoking_history_not current']].values\n",
        "\n",
        "# Realizar predicciones en el conjunto de prueba con el mejor modelo RandomForest\n",
        "y_pred_test_rf = best_rf_clf.predict(X_test_std)\n",
        "\n",
        "# Crear un DataFrame solo con las predicciones\n",
        "predictions_rf_df = pd.DataFrame({\n",
        "    'patient': test_df_std['patient'],\n",
        "    'diabetes': y_pred_test_rf\n",
        "})\n",
        "\n",
        "# Guardar las predicciones en un archivo CSV\n",
        "predictions_rf_df.to_csv('submission_RF.csv', index=False)\n",
        "\n",
        "# Descargar el archivo de predicciones\n",
        "files.download('submission_RF.csv')\n",
        "\n",
        "print(\"Archivo 'submission_RF.csv' creado con las predicciones.\")\n"
      ],
      "metadata": {
        "colab": {
          "base_uri": "https://localhost:8080/",
          "height": 34
        },
        "id": "dFyHvbDZ95TQ",
        "outputId": "c4456824-c7d2-4ab2-ac74-c6761b4f0a2d"
      },
      "execution_count": null,
      "outputs": [
        {
          "output_type": "display_data",
          "data": {
            "text/plain": [
              "<IPython.core.display.Javascript object>"
            ],
            "application/javascript": [
              "\n",
              "    async function download(id, filename, size) {\n",
              "      if (!google.colab.kernel.accessAllowed) {\n",
              "        return;\n",
              "      }\n",
              "      const div = document.createElement('div');\n",
              "      const label = document.createElement('label');\n",
              "      label.textContent = `Downloading \"${filename}\": `;\n",
              "      div.appendChild(label);\n",
              "      const progress = document.createElement('progress');\n",
              "      progress.max = size;\n",
              "      div.appendChild(progress);\n",
              "      document.body.appendChild(div);\n",
              "\n",
              "      const buffers = [];\n",
              "      let downloaded = 0;\n",
              "\n",
              "      const channel = await google.colab.kernel.comms.open(id);\n",
              "      // Send a message to notify the kernel that we're ready.\n",
              "      channel.send({})\n",
              "\n",
              "      for await (const message of channel.messages) {\n",
              "        // Send a message to notify the kernel that we're ready.\n",
              "        channel.send({})\n",
              "        if (message.buffers) {\n",
              "          for (const buffer of message.buffers) {\n",
              "            buffers.push(buffer);\n",
              "            downloaded += buffer.byteLength;\n",
              "            progress.value = downloaded;\n",
              "          }\n",
              "        }\n",
              "      }\n",
              "      const blob = new Blob(buffers, {type: 'application/binary'});\n",
              "      const a = document.createElement('a');\n",
              "      a.href = window.URL.createObjectURL(blob);\n",
              "      a.download = filename;\n",
              "      div.appendChild(a);\n",
              "      a.click();\n",
              "      div.remove();\n",
              "    }\n",
              "  "
            ]
          },
          "metadata": {}
        },
        {
          "output_type": "display_data",
          "data": {
            "text/plain": [
              "<IPython.core.display.Javascript object>"
            ],
            "application/javascript": [
              "download(\"download_3b515933-1ddf-4167-b087-ca8f6f716e28\", \"submission_RF.csv\", 39433)"
            ]
          },
          "metadata": {}
        },
        {
          "output_type": "stream",
          "name": "stdout",
          "text": [
            "Archivo 'submission_RF.csv' creado con las predicciones.\n"
          ]
        }
      ]
    },
    {
      "cell_type": "code",
      "source": [
        "#ABoost\n",
        "# Seleccionar las características del conjunto de datos de prueba\n",
        "X_test_std = test_df_std[['patient', 'age', 'hypertension', 'heart_disease',\n",
        "                            'bmi', 'HbA1c_level', 'blood_glucose_level', 'gender_Female',\n",
        "                            'gender_Male', 'smoking_history_current', 'smoking_history_ever',\n",
        "                            'smoking_history_former', 'smoking_history_never', 'smoking_history_not current']].values\n",
        "\n",
        "# Realizar predicciones en el conjunto de prueba\n",
        "y_pred_testAda = best_modelAda.predict(X_test_std)\n",
        "\n",
        "# Crear un DataFrame solo con las predicciones\n",
        "predictions_Ada_df = pd.DataFrame({\n",
        "    'patient': test_df_std['patient'],\n",
        "    'diabetes': y_pred_testAda\n",
        "})\n",
        "\n",
        "# Guardar las predicciones en un archivo CSV\n",
        "predictions_Ada_df.to_csv('submission_Ada.csv', index=False)\n",
        "\n",
        "# Descargar el archivo de predicciones de la regresión logística\n",
        "files.download('submission_Ada.csv')\n",
        "\n",
        "print(\"Archivo 'submission_Ada.csv' creado con las predicciones.\")\n",
        "\n"
      ],
      "metadata": {
        "colab": {
          "base_uri": "https://localhost:8080/",
          "height": 34
        },
        "id": "fJi6r0XWy1Pl",
        "outputId": "57245831-3173-4ff5-c3cd-1859fb3bdfd6"
      },
      "execution_count": null,
      "outputs": [
        {
          "output_type": "display_data",
          "data": {
            "text/plain": [
              "<IPython.core.display.Javascript object>"
            ],
            "application/javascript": [
              "\n",
              "    async function download(id, filename, size) {\n",
              "      if (!google.colab.kernel.accessAllowed) {\n",
              "        return;\n",
              "      }\n",
              "      const div = document.createElement('div');\n",
              "      const label = document.createElement('label');\n",
              "      label.textContent = `Downloading \"${filename}\": `;\n",
              "      div.appendChild(label);\n",
              "      const progress = document.createElement('progress');\n",
              "      progress.max = size;\n",
              "      div.appendChild(progress);\n",
              "      document.body.appendChild(div);\n",
              "\n",
              "      const buffers = [];\n",
              "      let downloaded = 0;\n",
              "\n",
              "      const channel = await google.colab.kernel.comms.open(id);\n",
              "      // Send a message to notify the kernel that we're ready.\n",
              "      channel.send({})\n",
              "\n",
              "      for await (const message of channel.messages) {\n",
              "        // Send a message to notify the kernel that we're ready.\n",
              "        channel.send({})\n",
              "        if (message.buffers) {\n",
              "          for (const buffer of message.buffers) {\n",
              "            buffers.push(buffer);\n",
              "            downloaded += buffer.byteLength;\n",
              "            progress.value = downloaded;\n",
              "          }\n",
              "        }\n",
              "      }\n",
              "      const blob = new Blob(buffers, {type: 'application/binary'});\n",
              "      const a = document.createElement('a');\n",
              "      a.href = window.URL.createObjectURL(blob);\n",
              "      a.download = filename;\n",
              "      div.appendChild(a);\n",
              "      a.click();\n",
              "      div.remove();\n",
              "    }\n",
              "  "
            ]
          },
          "metadata": {}
        },
        {
          "output_type": "display_data",
          "data": {
            "text/plain": [
              "<IPython.core.display.Javascript object>"
            ],
            "application/javascript": [
              "download(\"download_b1bde174-ee68-43c4-b260-5f70d78d9d75\", \"submission_Ada.csv\", 39433)"
            ]
          },
          "metadata": {}
        },
        {
          "output_type": "stream",
          "name": "stdout",
          "text": [
            "Archivo 'submission_Ada.csv' creado con las predicciones.\n"
          ]
        }
      ]
    },
    {
      "cell_type": "code",
      "source": [
        "# Seleccionar las características del conjunto de datos de prueba\n",
        "X_test_std = test_df_std[['patient', 'age', 'hypertension', 'heart_disease',\n",
        "                            'bmi', 'HbA1c_level', 'blood_glucose_level', 'gender_Female',\n",
        "                            'gender_Male', 'smoking_history_current', 'smoking_history_ever',\n",
        "                            'smoking_history_former', 'smoking_history_never', 'smoking_history_not current']].values\n",
        "\n",
        "# Realizar predicciones en el conjunto de prueba con el modelo de stacking\n",
        "y_pred_test_stack = stacking_clf.predict(X_test_std)\n",
        "\n",
        "# Crear un DataFrame solo con las predicciones\n",
        "predictions_stack_df = pd.DataFrame({\n",
        "    'patient': test_df_std['patient'],\n",
        "    'diabetes': y_pred_test_stack\n",
        "})\n",
        "\n",
        "# Guardar las predicciones en un archivo CSV\n",
        "predictions_stack_df.to_csv('submission_stacking.csv', index=False)\n",
        "\n",
        "# Para descargar el archivo en un entorno Jupyter Notebook o Google Colab (opcional)\n",
        "# from google.colab import files\n",
        "files.download('submission_stacking.csv')\n",
        "print(\"Archivo 'submission_stacking.csv' creado con las predicciones.\")\n"
      ],
      "metadata": {
        "colab": {
          "base_uri": "https://localhost:8080/",
          "height": 34
        },
        "id": "II3mGdBjIrOe",
        "outputId": "084f5adf-d656-4eda-9ff4-4c0501c1b369"
      },
      "execution_count": null,
      "outputs": [
        {
          "output_type": "display_data",
          "data": {
            "text/plain": [
              "<IPython.core.display.Javascript object>"
            ],
            "application/javascript": [
              "\n",
              "    async function download(id, filename, size) {\n",
              "      if (!google.colab.kernel.accessAllowed) {\n",
              "        return;\n",
              "      }\n",
              "      const div = document.createElement('div');\n",
              "      const label = document.createElement('label');\n",
              "      label.textContent = `Downloading \"${filename}\": `;\n",
              "      div.appendChild(label);\n",
              "      const progress = document.createElement('progress');\n",
              "      progress.max = size;\n",
              "      div.appendChild(progress);\n",
              "      document.body.appendChild(div);\n",
              "\n",
              "      const buffers = [];\n",
              "      let downloaded = 0;\n",
              "\n",
              "      const channel = await google.colab.kernel.comms.open(id);\n",
              "      // Send a message to notify the kernel that we're ready.\n",
              "      channel.send({})\n",
              "\n",
              "      for await (const message of channel.messages) {\n",
              "        // Send a message to notify the kernel that we're ready.\n",
              "        channel.send({})\n",
              "        if (message.buffers) {\n",
              "          for (const buffer of message.buffers) {\n",
              "            buffers.push(buffer);\n",
              "            downloaded += buffer.byteLength;\n",
              "            progress.value = downloaded;\n",
              "          }\n",
              "        }\n",
              "      }\n",
              "      const blob = new Blob(buffers, {type: 'application/binary'});\n",
              "      const a = document.createElement('a');\n",
              "      a.href = window.URL.createObjectURL(blob);\n",
              "      a.download = filename;\n",
              "      div.appendChild(a);\n",
              "      a.click();\n",
              "      div.remove();\n",
              "    }\n",
              "  "
            ]
          },
          "metadata": {}
        },
        {
          "output_type": "display_data",
          "data": {
            "text/plain": [
              "<IPython.core.display.Javascript object>"
            ],
            "application/javascript": [
              "download(\"download_956d9309-7326-44d2-84dc-c176b54869a5\", \"submission_stacking.csv\", 39433)"
            ]
          },
          "metadata": {}
        },
        {
          "output_type": "stream",
          "name": "stdout",
          "text": [
            "Archivo 'submission_stacking.csv' creado con las predicciones.\n"
          ]
        }
      ]
    },
    {
      "cell_type": "markdown",
      "source": [
        "## Resultados\n",
        "\n",
        "De los modelos estudiados, el que presentó mejor Acurracy (Private Score) en Kaggle fuel el modelo AdaBoost. El Accuracy logrado con AdaBoost fue de 0.97400. Mientras que GradientBoost mostró un Accuracy del 0.97371, RandomForest 0.9725 y Stacking 0,97228"
      ],
      "metadata": {
        "id": "FW3qh_KF7JOG"
      }
    }
  ],
  "metadata": {
    "colab": {
      "provenance": [],
      "collapsed_sections": [
        "Jo_ZiQzlIwcH",
        "ch-3cFQNIea3"
      ],
      "gpuType": "T4"
    },
    "kernelspec": {
      "display_name": "Python 3",
      "name": "python3"
    },
    "language_info": {
      "codemirror_mode": {
        "name": "ipython",
        "version": 3
      },
      "file_extension": ".py",
      "mimetype": "text/x-python",
      "name": "python",
      "nbconvert_exporter": "python",
      "pygments_lexer": "ipython3",
      "version": "3.11.4"
    },
    "vscode": {
      "interpreter": {
        "hash": "e6b65fc4380ac725e50a330b268a227bbdbe91bddfffbf68e5f7ce9848a2b8d5"
      }
    },
    "accelerator": "GPU"
  },
  "nbformat": 4,
  "nbformat_minor": 0
}