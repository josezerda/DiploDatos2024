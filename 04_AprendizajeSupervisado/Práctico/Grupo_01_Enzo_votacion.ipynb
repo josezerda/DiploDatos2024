{
  "cells": [
    {
      "cell_type": "markdown",
      "metadata": {
        "id": "OmBqT8dRQX4k"
      },
      "source": [
        "Cosas para probar:\n",
        "\n",
        "- En `train_test_split` utilizar `stratify=y`"
      ]
    },
    {
      "cell_type": "markdown",
      "metadata": {
        "id": "NMEtjNDCvPAn"
      },
      "source": [
        "# DiploDatos Kaggle Competition"
      ]
    },
    {
      "cell_type": "markdown",
      "metadata": {
        "id": "5zUIYFDDvPAp"
      },
      "source": [
        "Presentamos un código creado como ejemplo de base para la competición.\n",
        "\n",
        "Deben:\n",
        "\n",
        "- Explorar los datos y aprender de ellos.\n",
        "- Probar diferentes modelos y ver cuáles ajustan mejor dado los datos.\n",
        "- **Obtener una accuracy mejor que la que se presenta en este ejemplo.**\n",
        "- Tratar de obtener la accuracy más alta posible!\n",
        "- Discutir la elección de modelo.\n",
        "\n",
        "El análisis exploratorio y el preprocesamiento de los datos queda a libertad de cada grupo y no deben quedarse con este simple ejemplo."
      ]
    },
    {
      "cell_type": "code",
      "execution_count": 41,
      "metadata": {
        "id": "mfXomyLDvPAp"
      },
      "outputs": [],
      "source": [
        "import pandas as pd\n",
        "import numpy as np\n",
        "import seaborn as sns\n",
        "import matplotlib.pyplot as plt\n",
        "\n",
        "from sklearn.model_selection import train_test_split, GridSearchCV\n",
        "from sklearn.preprocessing import StandardScaler\n",
        "from sklearn.metrics import accuracy_score, ConfusionMatrixDisplay\n",
        "from sklearn.ensemble import RandomForestClassifier\n",
        "from sklearn.ensemble import VotingClassifier\n",
        "from sklearn.ensemble import AdaBoostClassifier\n",
        "from xgboost import XGBClassifier\n",
        "\n",
        "from imblearn.combine import SMOTETomek\n",
        "from lightgbm import LGBMClassifier"
      ]
    },
    {
      "cell_type": "markdown",
      "metadata": {
        "id": "OTwArNHkvPAq"
      },
      "source": [
        "## Leer el dataset"
      ]
    },
    {
      "cell_type": "code",
      "execution_count": 42,
      "metadata": {
        "id": "1mhGq32DvPAq"
      },
      "outputs": [],
      "source": [
        "train_df = pd.read_csv('https://raw.githubusercontent.com/DiploDatos/AprendizajeSupervisado/master/Pr%C3%A1ctico/diabetes_prediction_dataset_train-labeled.csv')"
      ]
    },
    {
      "cell_type": "code",
      "execution_count": 4,
      "metadata": {
        "id": "A0GExoHdvPAr"
      },
      "outputs": [],
      "source": [
        "test_df = pd.read_csv('https://raw.githubusercontent.com/DiploDatos/AprendizajeSupervisado/master/Pr%C3%A1ctico/diabetes_prediction_dataset_test.csv')"
      ]
    },
    {
      "cell_type": "code",
      "execution_count": 5,
      "metadata": {
        "colab": {
          "base_uri": "https://localhost:8080/"
        },
        "id": "EmUeHaTjNDC0",
        "outputId": "722de95d-c529-4b15-beab-0af864939b26"
      },
      "outputs": [
        {
          "name": "stdout",
          "output_type": "stream",
          "text": [
            "Train shape:\t95000\n",
            "Test shape:\t5000\n"
          ]
        }
      ],
      "source": [
        "print(f'Train shape:\\t{train_df.shape[0]}')\n",
        "print(f'Test shape:\\t{test_df.shape[0]}')"
      ]
    },
    {
      "cell_type": "markdown",
      "metadata": {
        "id": "YT0bO8Y5vPAs"
      },
      "source": [
        "## Analisis de los datos\n"
      ]
    },
    {
      "cell_type": "markdown",
      "metadata": {
        "id": "hqPK10yyOgQs"
      },
      "source": [
        "Es necesario conocer la variable objetivo del dataset"
      ]
    },
    {
      "cell_type": "code",
      "execution_count": 6,
      "metadata": {
        "colab": {
          "base_uri": "https://localhost:8080/",
          "height": 428
        },
        "id": "RIxIwPdzP_lo",
        "outputId": "a86a5995-e545-48e6-df55-fee331e62242"
      },
      "outputs": [
        {
          "data": {
            "image/png": "[encoded data removed]",
            "text/plain": [
              "<Figure size 640x480 with 1 Axes>"
            ]
          },
          "metadata": {},
          "output_type": "display_data"
        }
      ],
      "source": [
        "plt.pie(train_df.diabetes.value_counts(), labels=['No','Si'], autopct='%1.1f%%')\n",
        "plt.title('Pacientes con diabetes')\n",
        "plt.show()"
      ]
    },
    {
      "cell_type": "markdown",
      "metadata": {
        "id": "Vapa1psPQwQ-"
      },
      "source": [
        "Se puede observar que la variable objetivo esta muy desbalanceada. Hay que tener en cuenta esto a la hora de entrenar el modelo. Se crear un histograma por cada variable para ver su compartamiento con respecto a la variable objetivo"
      ]
    },
    {
      "cell_type": "markdown",
      "metadata": {
        "id": "bMmQ4K9BwZBi"
      },
      "source": [
        "### Histogramas"
      ]
    },
    {
      "cell_type": "code",
      "execution_count": 7,
      "metadata": {
        "colab": {
          "base_uri": "https://localhost:8080/",
          "height": 234
        },
        "id": "YNT6srlqPH2_",
        "outputId": "32bb2d10-d19d-4e11-a84f-a26a1a01ba3f"
      },
      "outputs": [
        {
          "data": {
            "image/png": "[encoded data removed]",
            "text/plain": [
              "<Figure size 600x200 with 1 Axes>"
            ]
          },
          "metadata": {},
          "output_type": "display_data"
        }
      ],
      "source": [
        "fig = plt.figure(figsize=(6,2))\n",
        "sns.histplot(data=train_df, x=\"gender\", hue=\"diabetes\", multiple=\"stack\", bins=50, legend=False)\n",
        "plt.show()"
      ]
    },
    {
      "cell_type": "code",
      "execution_count": 8,
      "metadata": {
        "colab": {
          "base_uri": "https://localhost:8080/",
          "height": 234
        },
        "id": "8qpUv2rFPYey",
        "outputId": "bea83a68-cf03-4c5a-d878-f41a9f74f1ad"
      },
      "outputs": [
        {
          "data": {
            "image/png": "[encoded data removed]",
            "text/plain": [
              "<Figure size 600x200 with 1 Axes>"
            ]
          },
          "metadata": {},
          "output_type": "display_data"
        }
      ],
      "source": [
        "fig = plt.figure(figsize=(6,2))\n",
        "sns.histplot(data=train_df, x=\"age\", hue=\"diabetes\", multiple=\"stack\", bins=50, legend=False)\n",
        "plt.show()"
      ]
    },
    {
      "cell_type": "code",
      "execution_count": 9,
      "metadata": {
        "colab": {
          "base_uri": "https://localhost:8080/",
          "height": 234
        },
        "id": "ldMInw3KPa7Y",
        "outputId": "2d4bcd9a-db6c-476b-ff9a-300cd8fe5f0d"
      },
      "outputs": [
        {
          "data": {
            "image/png": "[encoded data removed]",
            "text/plain": [
              "<Figure size 600x200 with 1 Axes>"
            ]
          },
          "metadata": {},
          "output_type": "display_data"
        }
      ],
      "source": [
        "fig = plt.figure(figsize=(6,2))\n",
        "sns.histplot(data=train_df, x=\"hypertension\", hue=\"diabetes\", multiple=\"stack\", bins=50, legend=False)\n",
        "plt.show()"
      ]
    },
    {
      "cell_type": "code",
      "execution_count": 10,
      "metadata": {
        "colab": {
          "base_uri": "https://localhost:8080/",
          "height": 234
        },
        "id": "_CmfaqVlPgVi",
        "outputId": "90c8cec7-0bb3-4edc-ad23-d86a3f027f05"
      },
      "outputs": [
        {
          "data": {
            "image/png": "[encoded data removed]",
            "text/plain": [
              "<Figure size 600x200 with 1 Axes>"
            ]
          },
          "metadata": {},
          "output_type": "display_data"
        }
      ],
      "source": [
        "fig = plt.figure(figsize=(6,2))\n",
        "sns.histplot(data=train_df, x=\"heart_disease\", hue=\"diabetes\", multiple=\"stack\", bins=50, legend=False)\n",
        "plt.show()"
      ]
    },
    {
      "cell_type": "code",
      "execution_count": 11,
      "metadata": {
        "colab": {
          "base_uri": "https://localhost:8080/",
          "height": 234
        },
        "id": "0p7wS7gYPmNw",
        "outputId": "78023266-3cfb-47b6-cd17-da9747b6695b"
      },
      "outputs": [
        {
          "data": {
            "image/png": "[encoded data removed]",
            "text/plain": [
              "<Figure size 600x200 with 1 Axes>"
            ]
          },
          "metadata": {},
          "output_type": "display_data"
        }
      ],
      "source": [
        "fig = plt.figure(figsize=(6,2))\n",
        "sns.histplot(data=train_df, x=\"smoking_history\", hue=\"diabetes\", multiple=\"stack\", bins=50, legend=False)\n",
        "plt.show()"
      ]
    },
    {
      "cell_type": "code",
      "execution_count": 12,
      "metadata": {
        "colab": {
          "base_uri": "https://localhost:8080/",
          "height": 234
        },
        "id": "y9ubO_pKPrJI",
        "outputId": "bb081423-7e42-4fd3-fa4b-13db16772fa4"
      },
      "outputs": [
        {
          "data": {
            "image/png": "[encoded data removed]",
            "text/plain": [
              "<Figure size 600x200 with 1 Axes>"
            ]
          },
          "metadata": {},
          "output_type": "display_data"
        }
      ],
      "source": [
        "fig = plt.figure(figsize=(6,2))\n",
        "sns.histplot(data=train_df, x=\"bmi\", hue=\"diabetes\", multiple=\"stack\", bins=50, legend=False)\n",
        "plt.show()"
      ]
    },
    {
      "cell_type": "code",
      "execution_count": 13,
      "metadata": {
        "colab": {
          "base_uri": "https://localhost:8080/",
          "height": 234
        },
        "id": "lzk07tPUPyWp",
        "outputId": "7debf74e-a4b8-48f3-8866-dbd802b1067c"
      },
      "outputs": [
        {
          "data": {
            "image/png": "[encoded data removed]",
            "text/plain": [
              "<Figure size 600x200 with 1 Axes>"
            ]
          },
          "metadata": {},
          "output_type": "display_data"
        }
      ],
      "source": [
        "fig = plt.figure(figsize=(6,2))\n",
        "sns.histplot(data=train_df, x=\"HbA1c_level\", hue=\"diabetes\", multiple=\"stack\", bins=50, legend=False)\n",
        "plt.show()"
      ]
    },
    {
      "cell_type": "code",
      "execution_count": 14,
      "metadata": {
        "colab": {
          "base_uri": "https://localhost:8080/",
          "height": 234
        },
        "id": "tSG9PHlMP19w",
        "outputId": "347466f3-75f8-4d32-e658-28dbb9537f38"
      },
      "outputs": [
        {
          "data": {
            "image/png": "[encoded data removed]",
            "text/plain": [
              "<Figure size 600x200 with 1 Axes>"
            ]
          },
          "metadata": {},
          "output_type": "display_data"
        }
      ],
      "source": [
        "fig = plt.figure(figsize=(6,2))\n",
        "sns.histplot(data=train_df, x=\"blood_glucose_level\", hue=\"diabetes\", multiple=\"stack\", bins=50, legend=False)\n",
        "plt.show()"
      ]
    },
    {
      "cell_type": "markdown",
      "metadata": {
        "id": "_tObVvU-OEp1"
      },
      "source": [
        "Luego de obserbar los histogramas se obtienen las siguientes conclusiones:\n",
        "- age: presenta cierta discrepancia, ya que muestra que la gran mayoria de pacientes tiene 80 años y viendo la distribucion de todas las edades, puede ser erroneo\n",
        "- bmi: presenta una gran cantidad de datos alrededor de 27, pero esto corresponde a un valor esperado para una persona \"saludable\"\n",
        "- smoke_history: se puede observar que la categoria **No_Info**, es decir, datos faltantes tiene una gran cantidad de valores"
      ]
    },
    {
      "cell_type": "markdown",
      "metadata": {
        "id": "Fe71Fb-nwdYY"
      },
      "source": [
        "### Boxplot"
      ]
    },
    {
      "cell_type": "code",
      "execution_count": 15,
      "metadata": {
        "colab": {
          "base_uri": "https://localhost:8080/",
          "height": 234
        },
        "id": "cVHyctC5wx-Q",
        "outputId": "f3cd1ec4-a600-4868-878f-1157fe1223e9"
      },
      "outputs": [
        {
          "data": {
            "image/png": "[encoded data removed]",
            "text/plain": [
              "<Figure size 600x200 with 1 Axes>"
            ]
          },
          "metadata": {},
          "output_type": "display_data"
        }
      ],
      "source": [
        "fig = plt.figure(figsize=(6,2))\n",
        "sns.boxplot(data=train_df, x=\"age\", legend=False)\n",
        "plt.show()"
      ]
    },
    {
      "cell_type": "code",
      "execution_count": 16,
      "metadata": {
        "colab": {
          "base_uri": "https://localhost:8080/",
          "height": 234
        },
        "id": "LBRinnKgxAEI",
        "outputId": "5d6a4492-20ae-496c-be02-a358c0d9eba2"
      },
      "outputs": [
        {
          "data": {
            "image/png": "[encoded data removed]",
            "text/plain": [
              "<Figure size 600x200 with 1 Axes>"
            ]
          },
          "metadata": {},
          "output_type": "display_data"
        }
      ],
      "source": [
        "fig = plt.figure(figsize=(6,2))\n",
        "sns.boxplot(data=train_df, x=\"bmi\", legend=False)\n",
        "plt.show()"
      ]
    },
    {
      "cell_type": "code",
      "execution_count": 17,
      "metadata": {
        "colab": {
          "base_uri": "https://localhost:8080/",
          "height": 234
        },
        "id": "_sWFToymxGpM",
        "outputId": "da801c13-b14e-4145-aca8-7a835892b20a"
      },
      "outputs": [
        {
          "data": {
            "image/png": "[encoded data removed]",
            "text/plain": [
              "<Figure size 600x200 with 1 Axes>"
            ]
          },
          "metadata": {},
          "output_type": "display_data"
        }
      ],
      "source": [
        "fig = plt.figure(figsize=(6,2))\n",
        "sns.boxplot(data=train_df, x=\"HbA1c_level\", legend=False)\n",
        "plt.show()"
      ]
    },
    {
      "cell_type": "code",
      "execution_count": 18,
      "metadata": {
        "colab": {
          "base_uri": "https://localhost:8080/",
          "height": 234
        },
        "id": "i15GeVLPxNAQ",
        "outputId": "327d248e-aa5a-4b9c-c78c-9eabc16c41c7"
      },
      "outputs": [
        {
          "data": {
            "image/png": "[encoded data removed]",
            "text/plain": [
              "<Figure size 600x200 with 1 Axes>"
            ]
          },
          "metadata": {},
          "output_type": "display_data"
        }
      ],
      "source": [
        "fig = plt.figure(figsize=(6,2))\n",
        "sns.boxplot(data=train_df, x=\"blood_glucose_level\", legend=False)\n",
        "plt.show()"
      ]
    },
    {
      "cell_type": "markdown",
      "metadata": {
        "id": "27w5yYBN_zlx"
      },
      "source": [
        "## Preprocesamiento de datos\n"
      ]
    },
    {
      "cell_type": "code",
      "execution_count": 19,
      "metadata": {
        "id": "GljfHXkBFzWZ"
      },
      "outputs": [],
      "source": [
        "def preprocess_data(df):\n",
        "    new_df = df.copy(deep=True)\n",
        "    new_df = new_df[new_df['smoking_history'] != 'No Info']\n",
        "    new_df = new_df[new_df['gender'] != 'Other']\n",
        "    #new_df = new_df[(new_df['age'] != 80) & (new_df['age'] >= 2)]\n",
        "    new_df = new_df[(new_df['age'] != 80)]\n",
        "\n",
        "    new_df = pd.get_dummies(new_df, columns=['gender', 'smoking_history'], dtype=float)\n",
        "    scaler = StandardScaler()\n",
        "    new_df[['age', 'bmi', 'HbA1c_level', 'blood_glucose_level']] = scaler.fit_transform(new_df[['age', 'bmi', 'HbA1c_level', 'blood_glucose_level']])\n",
        "\n",
        "    return new_df"
      ]
    },
    {
      "cell_type": "code",
      "execution_count": 20,
      "metadata": {
        "id": "BO69itxcGmrP"
      },
      "outputs": [],
      "source": [
        "df = preprocess_data(train_df)"
      ]
    },
    {
      "cell_type": "code",
      "execution_count": 21,
      "metadata": {
        "colab": {
          "base_uri": "https://localhost:8080/"
        },
        "id": "S8IP4hwV8u0B",
        "outputId": "0728cee4-cf6b-4561-9724-6e726f8fe69a"
      },
      "outputs": [
        {
          "data": {
            "text/plain": [
              "(57380, 15)"
            ]
          },
          "execution_count": 21,
          "metadata": {},
          "output_type": "execute_result"
        }
      ],
      "source": [
        "df.shape"
      ]
    },
    {
      "cell_type": "markdown",
      "metadata": {
        "id": "d5TyMi0lb1VK"
      },
      "source": [
        "## Entremiendo del modelo"
      ]
    },
    {
      "cell_type": "markdown",
      "metadata": {
        "id": "n7oohcoEHNVH"
      },
      "source": [
        "### Submuestreo"
      ]
    },
    {
      "cell_type": "markdown",
      "metadata": {
        "id": "1SmDqCDyXPoE"
      },
      "source": [
        "SMOTETomek es una técnica combinada de sobremuestreo y submuestreo para el balanceo de conjuntos de datos desequilibrados. Combina dos métodos:\n",
        "\n",
        "- SMOTE (Synthetic Minority Over-sampling Technique): Esta técnica genera nuevas muestras sintéticas de la clase minoritaria. Lo hace seleccionando aleatoriamente una muestra de la clase minoritaria y encontrando sus k vecinos más cercanos. Luego, crea un nuevo ejemplo sintético en el espacio entre la muestra seleccionada y uno de sus vecinos.\n",
        "\n",
        "- Tomek Links: Es una técnica de submuestreo que identifica y elimina parejas de ejemplos (un ejemplo de la clase mayoritaria y otro de la clase minoritaria) que son los vecinos más cercanos entre sí y pertenecen a diferentes clases. Si un par de ejemplos es un Tomek Link, significa que la frontera de decisión entre las clases es ruidosa en ese punto, y eliminando estos ejemplos se puede mejorar la separación entre clases.\n",
        "\n",
        "Ver [link](https://imbalanced-learn.org/stable/references/generated/imblearn.combine.SMOTETomek.html)"
      ]
    },
    {
      "cell_type": "code",
      "execution_count": 22,
      "metadata": {
        "id": "w2wVWAgpHbtm"
      },
      "outputs": [],
      "source": [
        "def smote_tomek(df):\n",
        "    X = df.drop('diabetes', axis=1)\n",
        "    y = df['diabetes']\n",
        "\n",
        "    smote_tomek = SMOTETomek(random_state=42)\n",
        "    X_resampled, y_resampled = smote_tomek.fit_resample(X, y)\n",
        "    resampled_df = pd.concat([pd.DataFrame(X_resampled, columns=X.columns), pd.DataFrame(y_resampled, columns=['diabetes'])], axis=1)\n",
        "\n",
        "    X = resampled_df.drop(columns= 'diabetes')\n",
        "    y = resampled_df['diabetes']\n",
        "\n",
        "    return X, y"
      ]
    },
    {
      "cell_type": "code",
      "execution_count": 85,
      "metadata": {
        "id": "Gs27M-KAHwze"
      },
      "outputs": [],
      "source": [
        "#X, y = smote_tomek(df)"
      ]
    },
    {
      "cell_type": "code",
      "execution_count": 23,
      "metadata": {
        "id": "oyeuCGZ2KqlG"
      },
      "outputs": [],
      "source": [
        "PatientId_train = df['patient']\n",
        "df = df.drop('patient', axis=1)"
      ]
    },
    {
      "cell_type": "code",
      "execution_count": 24,
      "metadata": {
        "id": "_RAXzvggPAqe"
      },
      "outputs": [],
      "source": [
        "X = df.drop(columns = 'diabetes')\n",
        "y = df['diabetes']"
      ]
    },
    {
      "cell_type": "markdown",
      "metadata": {
        "id": "AheYaHpZemzc"
      },
      "source": [
        "Primero se separan los datos"
      ]
    },
    {
      "cell_type": "code",
      "execution_count": 25,
      "metadata": {
        "id": "5Es44wiTHwJ_"
      },
      "outputs": [],
      "source": [
        "X_train, X_test, y_train, y_test = train_test_split(X, y, test_size=0.2, random_state=42)"
      ]
    },
    {
      "cell_type": "markdown",
      "metadata": {
        "id": "yT16V8gTc2yZ"
      },
      "source": [
        "### Clasificador por votación"
      ]
    },
    {
      "cell_type": "markdown",
      "metadata": {
        "id": "_Wo95l1SdEWl"
      },
      "source": [
        "Un clasificador de votación es un modelo de aprendizaje automático que adquiere experiencia entrenando en un conjunto de varios modelos y pronostica una salida (clase) basada en la clase con mayor probabilidad de convertirse en la salida.\n",
        "\n",
        "\n",
        "\n",
        "\n",
        "Se basa en construir un modelo único que aprenda de varios modelos y que pueda predecir en función de la mayoría de votos para cada modelo, en lugar de construir modelos especializados separados y determinar la precisión de cada uno de ellos. Existen principalmente dos tipos diferentes de clasificadores de votación:\n",
        "\n",
        "- `hard`: la salida prevista es la clase con la mayor cantidad de votos, es decir, la clase con la mayor probabilidad de ser predicha por cada modelo.\n",
        "- `soft`: las probabilidades promedio de los modelos determinan cuál será la predicción final"
      ]
    },
    {
      "cell_type": "markdown",
      "metadata": {
        "id": "p1IAMMjLZLtU"
      },
      "source": [
        "A partir de esto se plantean tres modelos:\n",
        "- AdaBoostClassifier: Un clasificador de boosting adaptativo que ajusta modelos base secuencialmente, ponderando los errores de predicción anteriores\n",
        "- XGBClassifier: Un clasificador basado en el algoritmo de Gradient Boosting de XGBoost, conocido por su eficiencia y flexibilidad\n",
        "- LGBMClassifier: Un clasificador basado en el algoritmo de Gradient Boosting de LightGBM, optimizado para velocidad y rendimiento en conjuntos de datos grandes"
      ]
    },
    {
      "cell_type": "markdown",
      "metadata": {
        "id": "gj_ttcA3dg1t"
      },
      "source": [
        "Se instancia el clasificador por votacíon mediante `VotingClassifier`"
      ]
    },
    {
      "cell_type": "markdown",
      "metadata": {
        "id": "mnpLEDSgZn9X"
      },
      "source": [
        "Una vez seleccionados los modelos, se crea un clasificador de votacion. El objetivo de este procedimiento es combinar las predicciones de tres clasificadores diferentes en un solo modelo usando un clasificador de votación. Al hacer esto, se espera mejorar la precisión del modelo final al aprovechar las fortalezas de cada clasificador individual."
      ]
    },
    {
      "cell_type": "code",
      "execution_count": 31,
      "metadata": {
        "id": "fa3G_nwbcqIr"
      },
      "outputs": [],
      "source": [
        "ada_boost = AdaBoostClassifier(random_state=6)\n",
        "xgb = XGBClassifier(random_state=6, booster='gbtree', colsample_bytree=0.7, learning_rate=0.1, n_estimators=100, subsample=0.7, max_depth=None)\n",
        "\n",
        "lgbm = LGBMClassifier(random_state=6, criterion = 'log_loss', max_depth=30, min_samples_leaf=10, min_samples_split=20)\n",
        "rf = RandomForestClassifier(random_state=6)"
      ]
    },
    {
      "cell_type": "code",
      "execution_count": 32,
      "metadata": {
        "colab": {
          "base_uri": "https://localhost:8080/",
          "height": 110
        },
        "id": "SuN32i2X_yZr",
        "outputId": "03431a1b-dfed-42ff-a32f-dea29a213028"
      },
      "outputs": [
        {
          "data": {
            "text/html": [
              "<style>#sk-container-id-2 {\n",
              "  /* Definition of color scheme common for light and dark mode */\n",
              "  --sklearn-color-text: black;\n",
              "  --sklearn-color-line: gray;\n",
              "  /* Definition of color scheme for unfitted estimators */\n",
              "  --sklearn-color-unfitted-level-0: #fff5e6;\n",
              "  --sklearn-color-unfitted-level-1: #f6e4d2;\n",
              "  --sklearn-color-unfitted-level-2: #ffe0b3;\n",
              "  --sklearn-color-unfitted-level-3: chocolate;\n",
              "  /* Definition of color scheme for fitted estimators */\n",
              "  --sklearn-color-fitted-level-0: #f0f8ff;\n",
              "  --sklearn-color-fitted-level-1: #d4ebff;\n",
              "  --sklearn-color-fitted-level-2: #b3dbfd;\n",
              "  --sklearn-color-fitted-level-3: cornflowerblue;\n",
              "\n",
              "  /* Specific color for light theme */\n",
              "  --sklearn-color-text-on-default-background: var(--sg-text-color, var(--theme-code-foreground, var(--jp-content-font-color1, black)));\n",
              "  --sklearn-color-background: var(--sg-background-color, var(--theme-background, var(--jp-layout-color0, white)));\n",
              "  --sklearn-color-border-box: var(--sg-text-color, var(--theme-code-foreground, var(--jp-content-font-color1, black)));\n",
              "  --sklearn-color-icon: #696969;\n",
              "\n",
              "  @media (prefers-color-scheme: dark) {\n",
              "    /* Redefinition of color scheme for dark theme */\n",
              "    --sklearn-color-text-on-default-background: var(--sg-text-color, var(--theme-code-foreground, var(--jp-content-font-color1, white)));\n",
              "    --sklearn-color-background: var(--sg-background-color, var(--theme-background, var(--jp-layout-color0, #111)));\n",
              "    --sklearn-color-border-box: var(--sg-text-color, var(--theme-code-foreground, var(--jp-content-font-color1, white)));\n",
              "    --sklearn-color-icon: #878787;\n",
              "  }\n",
              "}\n",
              "\n",
              "#sk-container-id-2 {\n",
              "  color: var(--sklearn-color-text);\n",
              "}\n",
              "\n",
              "#sk-container-id-2 pre {\n",
              "  padding: 0;\n",
              "}\n",
              "\n",
              "#sk-container-id-2 input.sk-hidden--visually {\n",
              "  border: 0;\n",
              "  clip: rect(1px 1px 1px 1px);\n",
              "  clip: rect(1px, 1px, 1px, 1px);\n",
              "  height: 1px;\n",
              "  margin: -1px;\n",
              "  overflow: hidden;\n",
              "  padding: 0;\n",
              "  position: absolute;\n",
              "  width: 1px;\n",
              "}\n",
              "\n",
              "#sk-container-id-2 div.sk-dashed-wrapped {\n",
              "  border: 1px dashed var(--sklearn-color-line);\n",
              "  margin: 0 0.4em 0.5em 0.4em;\n",
              "  box-sizing: border-box;\n",
              "  padding-bottom: 0.4em;\n",
              "  background-color: var(--sklearn-color-background);\n",
              "}\n",
              "\n",
              "#sk-container-id-2 div.sk-container {\n",
              "  /* jupyter's `normalize.less` sets `[hidden] { display: none; }`\n",
              "     but bootstrap.min.css set `[hidden] { display: none !important; }`\n",
              "     so we also need the `!important` here to be able to override the\n",
              "     default hidden behavior on the sphinx rendered scikit-learn.org.\n",
              "     See: https://github.com/scikit-learn/scikit-learn/issues/21755 */\n",
              "  display: inline-block !important;\n",
              "  position: relative;\n",
              "}\n",
              "\n",
              "#sk-container-id-2 div.sk-text-repr-fallback {\n",
              "  display: none;\n",
              "}\n",
              "\n",
              "div.sk-parallel-item,\n",
              "div.sk-serial,\n",
              "div.sk-item {\n",
              "  /* draw centered vertical line to link estimators */\n",
              "  background-image: linear-gradient(var(--sklearn-color-text-on-default-background), var(--sklearn-color-text-on-default-background));\n",
              "  background-size: 2px 100%;\n",
              "  background-repeat: no-repeat;\n",
              "  background-position: center center;\n",
              "}\n",
              "\n",
              "/* Parallel-specific style estimator block */\n",
              "\n",
              "#sk-container-id-2 div.sk-parallel-item::after {\n",
              "  content: \"\";\n",
              "  width: 100%;\n",
              "  border-bottom: 2px solid var(--sklearn-color-text-on-default-background);\n",
              "  flex-grow: 1;\n",
              "}\n",
              "\n",
              "#sk-container-id-2 div.sk-parallel {\n",
              "  display: flex;\n",
              "  align-items: stretch;\n",
              "  justify-content: center;\n",
              "  background-color: var(--sklearn-color-background);\n",
              "  position: relative;\n",
              "}\n",
              "\n",
              "#sk-container-id-2 div.sk-parallel-item {\n",
              "  display: flex;\n",
              "  flex-direction: column;\n",
              "}\n",
              "\n",
              "#sk-container-id-2 div.sk-parallel-item:first-child::after {\n",
              "  align-self: flex-end;\n",
              "  width: 50%;\n",
              "}\n",
              "\n",
              "#sk-container-id-2 div.sk-parallel-item:last-child::after {\n",
              "  align-self: flex-start;\n",
              "  width: 50%;\n",
              "}\n",
              "\n",
              "#sk-container-id-2 div.sk-parallel-item:only-child::after {\n",
              "  width: 0;\n",
              "}\n",
              "\n",
              "/* Serial-specific style estimator block */\n",
              "\n",
              "#sk-container-id-2 div.sk-serial {\n",
              "  display: flex;\n",
              "  flex-direction: column;\n",
              "  align-items: center;\n",
              "  background-color: var(--sklearn-color-background);\n",
              "  padding-right: 1em;\n",
              "  padding-left: 1em;\n",
              "}\n",
              "\n",
              "\n",
              "/* Toggleable style: style used for estimator/Pipeline/ColumnTransformer box that is\n",
              "clickable and can be expanded/collapsed.\n",
              "- Pipeline and ColumnTransformer use this feature and define the default style\n",
              "- Estimators will overwrite some part of the style using the `sk-estimator` class\n",
              "*/\n",
              "\n",
              "/* Pipeline and ColumnTransformer style (default) */\n",
              "\n",
              "#sk-container-id-2 div.sk-toggleable {\n",
              "  /* Default theme specific background. It is overwritten whether we have a\n",
              "  specific estimator or a Pipeline/ColumnTransformer */\n",
              "  background-color: var(--sklearn-color-background);\n",
              "}\n",
              "\n",
              "/* Toggleable label */\n",
              "#sk-container-id-2 label.sk-toggleable__label {\n",
              "  cursor: pointer;\n",
              "  display: block;\n",
              "  width: 100%;\n",
              "  margin-bottom: 0;\n",
              "  padding: 0.5em;\n",
              "  box-sizing: border-box;\n",
              "  text-align: center;\n",
              "}\n",
              "\n",
              "#sk-container-id-2 label.sk-toggleable__label-arrow:before {\n",
              "  /* Arrow on the left of the label */\n",
              "  content: \"▸\";\n",
              "  float: left;\n",
              "  margin-right: 0.25em;\n",
              "  color: var(--sklearn-color-icon);\n",
              "}\n",
              "\n",
              "#sk-container-id-2 label.sk-toggleable__label-arrow:hover:before {\n",
              "  color: var(--sklearn-color-text);\n",
              "}\n",
              "\n",
              "/* Toggleable content - dropdown */\n",
              "\n",
              "#sk-container-id-2 div.sk-toggleable__content {\n",
              "  max-height: 0;\n",
              "  max-width: 0;\n",
              "  overflow: hidden;\n",
              "  text-align: left;\n",
              "  /* unfitted */\n",
              "  background-color: var(--sklearn-color-unfitted-level-0);\n",
              "}\n",
              "\n",
              "#sk-container-id-2 div.sk-toggleable__content.fitted {\n",
              "  /* fitted */\n",
              "  background-color: var(--sklearn-color-fitted-level-0);\n",
              "}\n",
              "\n",
              "#sk-container-id-2 div.sk-toggleable__content pre {\n",
              "  margin: 0.2em;\n",
              "  border-radius: 0.25em;\n",
              "  color: var(--sklearn-color-text);\n",
              "  /* unfitted */\n",
              "  background-color: var(--sklearn-color-unfitted-level-0);\n",
              "}\n",
              "\n",
              "#sk-container-id-2 div.sk-toggleable__content.fitted pre {\n",
              "  /* unfitted */\n",
              "  background-color: var(--sklearn-color-fitted-level-0);\n",
              "}\n",
              "\n",
              "#sk-container-id-2 input.sk-toggleable__control:checked~div.sk-toggleable__content {\n",
              "  /* Expand drop-down */\n",
              "  max-height: 200px;\n",
              "  max-width: 100%;\n",
              "  overflow: auto;\n",
              "}\n",
              "\n",
              "#sk-container-id-2 input.sk-toggleable__control:checked~label.sk-toggleable__label-arrow:before {\n",
              "  content: \"▾\";\n",
              "}\n",
              "\n",
              "/* Pipeline/ColumnTransformer-specific style */\n",
              "\n",
              "#sk-container-id-2 div.sk-label input.sk-toggleable__control:checked~label.sk-toggleable__label {\n",
              "  color: var(--sklearn-color-text);\n",
              "  background-color: var(--sklearn-color-unfitted-level-2);\n",
              "}\n",
              "\n",
              "#sk-container-id-2 div.sk-label.fitted input.sk-toggleable__control:checked~label.sk-toggleable__label {\n",
              "  background-color: var(--sklearn-color-fitted-level-2);\n",
              "}\n",
              "\n",
              "/* Estimator-specific style */\n",
              "\n",
              "/* Colorize estimator box */\n",
              "#sk-container-id-2 div.sk-estimator input.sk-toggleable__control:checked~label.sk-toggleable__label {\n",
              "  /* unfitted */\n",
              "  background-color: var(--sklearn-color-unfitted-level-2);\n",
              "}\n",
              "\n",
              "#sk-container-id-2 div.sk-estimator.fitted input.sk-toggleable__control:checked~label.sk-toggleable__label {\n",
              "  /* fitted */\n",
              "  background-color: var(--sklearn-color-fitted-level-2);\n",
              "}\n",
              "\n",
              "#sk-container-id-2 div.sk-label label.sk-toggleable__label,\n",
              "#sk-container-id-2 div.sk-label label {\n",
              "  /* The background is the default theme color */\n",
              "  color: var(--sklearn-color-text-on-default-background);\n",
              "}\n",
              "\n",
              "/* On hover, darken the color of the background */\n",
              "#sk-container-id-2 div.sk-label:hover label.sk-toggleable__label {\n",
              "  color: var(--sklearn-color-text);\n",
              "  background-color: var(--sklearn-color-unfitted-level-2);\n",
              "}\n",
              "\n",
              "/* Label box, darken color on hover, fitted */\n",
              "#sk-container-id-2 div.sk-label.fitted:hover label.sk-toggleable__label.fitted {\n",
              "  color: var(--sklearn-color-text);\n",
              "  background-color: var(--sklearn-color-fitted-level-2);\n",
              "}\n",
              "\n",
              "/* Estimator label */\n",
              "\n",
              "#sk-container-id-2 div.sk-label label {\n",
              "  font-family: monospace;\n",
              "  font-weight: bold;\n",
              "  display: inline-block;\n",
              "  line-height: 1.2em;\n",
              "}\n",
              "\n",
              "#sk-container-id-2 div.sk-label-container {\n",
              "  text-align: center;\n",
              "}\n",
              "\n",
              "/* Estimator-specific */\n",
              "#sk-container-id-2 div.sk-estimator {\n",
              "  font-family: monospace;\n",
              "  border: 1px dotted var(--sklearn-color-border-box);\n",
              "  border-radius: 0.25em;\n",
              "  box-sizing: border-box;\n",
              "  margin-bottom: 0.5em;\n",
              "  /* unfitted */\n",
              "  background-color: var(--sklearn-color-unfitted-level-0);\n",
              "}\n",
              "\n",
              "#sk-container-id-2 div.sk-estimator.fitted {\n",
              "  /* fitted */\n",
              "  background-color: var(--sklearn-color-fitted-level-0);\n",
              "}\n",
              "\n",
              "/* on hover */\n",
              "#sk-container-id-2 div.sk-estimator:hover {\n",
              "  /* unfitted */\n",
              "  background-color: var(--sklearn-color-unfitted-level-2);\n",
              "}\n",
              "\n",
              "#sk-container-id-2 div.sk-estimator.fitted:hover {\n",
              "  /* fitted */\n",
              "  background-color: var(--sklearn-color-fitted-level-2);\n",
              "}\n",
              "\n",
              "/* Specification for estimator info (e.g. \"i\" and \"?\") */\n",
              "\n",
              "/* Common style for \"i\" and \"?\" */\n",
              "\n",
              ".sk-estimator-doc-link,\n",
              "a:link.sk-estimator-doc-link,\n",
              "a:visited.sk-estimator-doc-link {\n",
              "  float: right;\n",
              "  font-size: smaller;\n",
              "  line-height: 1em;\n",
              "  font-family: monospace;\n",
              "  background-color: var(--sklearn-color-background);\n",
              "  border-radius: 1em;\n",
              "  height: 1em;\n",
              "  width: 1em;\n",
              "  text-decoration: none !important;\n",
              "  margin-left: 1ex;\n",
              "  /* unfitted */\n",
              "  border: var(--sklearn-color-unfitted-level-1) 1pt solid;\n",
              "  color: var(--sklearn-color-unfitted-level-1);\n",
              "}\n",
              "\n",
              ".sk-estimator-doc-link.fitted,\n",
              "a:link.sk-estimator-doc-link.fitted,\n",
              "a:visited.sk-estimator-doc-link.fitted {\n",
              "  /* fitted */\n",
              "  border: var(--sklearn-color-fitted-level-1) 1pt solid;\n",
              "  color: var(--sklearn-color-fitted-level-1);\n",
              "}\n",
              "\n",
              "/* On hover */\n",
              "div.sk-estimator:hover .sk-estimator-doc-link:hover,\n",
              ".sk-estimator-doc-link:hover,\n",
              "div.sk-label-container:hover .sk-estimator-doc-link:hover,\n",
              ".sk-estimator-doc-link:hover {\n",
              "  /* unfitted */\n",
              "  background-color: var(--sklearn-color-unfitted-level-3);\n",
              "  color: var(--sklearn-color-background);\n",
              "  text-decoration: none;\n",
              "}\n",
              "\n",
              "div.sk-estimator.fitted:hover .sk-estimator-doc-link.fitted:hover,\n",
              ".sk-estimator-doc-link.fitted:hover,\n",
              "div.sk-label-container:hover .sk-estimator-doc-link.fitted:hover,\n",
              ".sk-estimator-doc-link.fitted:hover {\n",
              "  /* fitted */\n",
              "  background-color: var(--sklearn-color-fitted-level-3);\n",
              "  color: var(--sklearn-color-background);\n",
              "  text-decoration: none;\n",
              "}\n",
              "\n",
              "/* Span, style for the box shown on hovering the info icon */\n",
              ".sk-estimator-doc-link span {\n",
              "  display: none;\n",
              "  z-index: 9999;\n",
              "  position: relative;\n",
              "  font-weight: normal;\n",
              "  right: .2ex;\n",
              "  padding: .5ex;\n",
              "  margin: .5ex;\n",
              "  width: min-content;\n",
              "  min-width: 20ex;\n",
              "  max-width: 50ex;\n",
              "  color: var(--sklearn-color-text);\n",
              "  box-shadow: 2pt 2pt 4pt #999;\n",
              "  /* unfitted */\n",
              "  background: var(--sklearn-color-unfitted-level-0);\n",
              "  border: .5pt solid var(--sklearn-color-unfitted-level-3);\n",
              "}\n",
              "\n",
              ".sk-estimator-doc-link.fitted span {\n",
              "  /* fitted */\n",
              "  background: var(--sklearn-color-fitted-level-0);\n",
              "  border: var(--sklearn-color-fitted-level-3);\n",
              "}\n",
              "\n",
              ".sk-estimator-doc-link:hover span {\n",
              "  display: block;\n",
              "}\n",
              "\n",
              "/* \"?\"-specific style due to the `<a>` HTML tag */\n",
              "\n",
              "#sk-container-id-2 a.estimator_doc_link {\n",
              "  float: right;\n",
              "  font-size: 1rem;\n",
              "  line-height: 1em;\n",
              "  font-family: monospace;\n",
              "  background-color: var(--sklearn-color-background);\n",
              "  border-radius: 1rem;\n",
              "  height: 1rem;\n",
              "  width: 1rem;\n",
              "  text-decoration: none;\n",
              "  /* unfitted */\n",
              "  color: var(--sklearn-color-unfitted-level-1);\n",
              "  border: var(--sklearn-color-unfitted-level-1) 1pt solid;\n",
              "}\n",
              "\n",
              "#sk-container-id-2 a.estimator_doc_link.fitted {\n",
              "  /* fitted */\n",
              "  border: var(--sklearn-color-fitted-level-1) 1pt solid;\n",
              "  color: var(--sklearn-color-fitted-level-1);\n",
              "}\n",
              "\n",
              "/* On hover */\n",
              "#sk-container-id-2 a.estimator_doc_link:hover {\n",
              "  /* unfitted */\n",
              "  background-color: var(--sklearn-color-unfitted-level-3);\n",
              "  color: var(--sklearn-color-background);\n",
              "  text-decoration: none;\n",
              "}\n",
              "\n",
              "#sk-container-id-2 a.estimator_doc_link.fitted:hover {\n",
              "  /* fitted */\n",
              "  background-color: var(--sklearn-color-fitted-level-3);\n",
              "}\n",
              "</style><div id=\"sk-container-id-2\" class=\"sk-top-container\"><div class=\"sk-text-repr-fallback\"><pre>VotingClassifier(estimators=[(&#x27;rf&#x27;, RandomForestClassifier(random_state=6)),\n",
              "                             (&#x27;xgb&#x27;,\n",
              "                              XGBClassifier(base_score=None, booster=&#x27;gbtree&#x27;,\n",
              "                                            callbacks=None,\n",
              "                                            colsample_bylevel=None,\n",
              "                                            colsample_bynode=None,\n",
              "                                            colsample_bytree=0.7, device=None,\n",
              "                                            early_stopping_rounds=None,\n",
              "                                            enable_categorical=False,\n",
              "                                            eval_metric=None,\n",
              "                                            feature_types=None, gamma=None,\n",
              "                                            grow_policy=None,\n",
              "                                            importance_type=None,\n",
              "                                            interaction_constraints=None,\n",
              "                                            learning_rate=0.1, max_bin=None,\n",
              "                                            max_cat_threshold=None,\n",
              "                                            max_cat_to_onehot=None,\n",
              "                                            max_delta_step=None, max_depth=None,\n",
              "                                            max_leaves=None,\n",
              "                                            min_child_weight=None, missing=nan,\n",
              "                                            monotone_constraints=None,\n",
              "                                            multi_strategy=None,\n",
              "                                            n_estimators=100, n_jobs=None,\n",
              "                                            num_parallel_tree=None,\n",
              "                                            random_state=6, ...))],\n",
              "                 voting=&#x27;soft&#x27;)</pre><b>In a Jupyter environment, please rerun this cell to show the HTML representation or trust the notebook. <br />On GitHub, the HTML representation is unable to render, please try loading this page with nbviewer.org.</b></div><div class=\"sk-container\" hidden><div class=\"sk-item sk-dashed-wrapped\"><div class=\"sk-label-container\"><div class=\"sk-label fitted sk-toggleable\"><input class=\"sk-toggleable__control sk-hidden--visually\" id=\"sk-estimator-id-4\" type=\"checkbox\" ><label for=\"sk-estimator-id-4\" class=\"sk-toggleable__label fitted sk-toggleable__label-arrow fitted\">&nbsp;&nbsp;VotingClassifier<a class=\"sk-estimator-doc-link fitted\" rel=\"noreferrer\" target=\"_blank\" href=\"https://scikit-learn.org/1.5/modules/generated/sklearn.ensemble.VotingClassifier.html\">?<span>Documentation for VotingClassifier</span></a><span class=\"sk-estimator-doc-link fitted\">i<span>Fitted</span></span></label><div class=\"sk-toggleable__content fitted\"><pre>VotingClassifier(estimators=[(&#x27;rf&#x27;, RandomForestClassifier(random_state=6)),\n",
              "                             (&#x27;xgb&#x27;,\n",
              "                              XGBClassifier(base_score=None, booster=&#x27;gbtree&#x27;,\n",
              "                                            callbacks=None,\n",
              "                                            colsample_bylevel=None,\n",
              "                                            colsample_bynode=None,\n",
              "                                            colsample_bytree=0.7, device=None,\n",
              "                                            early_stopping_rounds=None,\n",
              "                                            enable_categorical=False,\n",
              "                                            eval_metric=None,\n",
              "                                            feature_types=None, gamma=None,\n",
              "                                            grow_policy=None,\n",
              "                                            importance_type=None,\n",
              "                                            interaction_constraints=None,\n",
              "                                            learning_rate=0.1, max_bin=None,\n",
              "                                            max_cat_threshold=None,\n",
              "                                            max_cat_to_onehot=None,\n",
              "                                            max_delta_step=None, max_depth=None,\n",
              "                                            max_leaves=None,\n",
              "                                            min_child_weight=None, missing=nan,\n",
              "                                            monotone_constraints=None,\n",
              "                                            multi_strategy=None,\n",
              "                                            n_estimators=100, n_jobs=None,\n",
              "                                            num_parallel_tree=None,\n",
              "                                            random_state=6, ...))],\n",
              "                 voting=&#x27;soft&#x27;)</pre></div> </div></div><div class=\"sk-parallel\"><div class=\"sk-parallel-item\"><div class=\"sk-item\"><div class=\"sk-label-container\"><div class=\"sk-label fitted sk-toggleable\"><label>rf</label></div></div><div class=\"sk-serial\"><div class=\"sk-item\"><div class=\"sk-estimator fitted sk-toggleable\"><input class=\"sk-toggleable__control sk-hidden--visually\" id=\"sk-estimator-id-5\" type=\"checkbox\" ><label for=\"sk-estimator-id-5\" class=\"sk-toggleable__label fitted sk-toggleable__label-arrow fitted\">&nbsp;RandomForestClassifier<a class=\"sk-estimator-doc-link fitted\" rel=\"noreferrer\" target=\"_blank\" href=\"https://scikit-learn.org/1.5/modules/generated/sklearn.ensemble.RandomForestClassifier.html\">?<span>Documentation for RandomForestClassifier</span></a></label><div class=\"sk-toggleable__content fitted\"><pre>RandomForestClassifier(random_state=6)</pre></div> </div></div></div></div></div><div class=\"sk-parallel-item\"><div class=\"sk-item\"><div class=\"sk-label-container\"><div class=\"sk-label fitted sk-toggleable\"><label>xgb</label></div></div><div class=\"sk-serial\"><div class=\"sk-item\"><div class=\"sk-estimator fitted sk-toggleable\"><input class=\"sk-toggleable__control sk-hidden--visually\" id=\"sk-estimator-id-6\" type=\"checkbox\" ><label for=\"sk-estimator-id-6\" class=\"sk-toggleable__label fitted sk-toggleable__label-arrow fitted\">XGBClassifier</label><div class=\"sk-toggleable__content fitted\"><pre>XGBClassifier(base_score=None, booster=&#x27;gbtree&#x27;, callbacks=None,\n",
              "              colsample_bylevel=None, colsample_bynode=None,\n",
              "              colsample_bytree=0.7, device=None, early_stopping_rounds=None,\n",
              "              enable_categorical=False, eval_metric=None, feature_types=None,\n",
              "              gamma=None, grow_policy=None, importance_type=None,\n",
              "              interaction_constraints=None, learning_rate=0.1, max_bin=None,\n",
              "              max_cat_threshold=None, max_cat_to_onehot=None,\n",
              "              max_delta_step=None, max_depth=None, max_leaves=None,\n",
              "              min_child_weight=None, missing=nan, monotone_constraints=None,\n",
              "              multi_strategy=None, n_estimators=100, n_jobs=None,\n",
              "              num_parallel_tree=None, random_state=6, ...)</pre></div> </div></div></div></div></div></div></div></div></div>"
            ],
            "text/plain": [
              "VotingClassifier(estimators=[('rf', RandomForestClassifier(random_state=6)),\n",
              "                             ('xgb',\n",
              "                              XGBClassifier(base_score=None, booster='gbtree',\n",
              "                                            callbacks=None,\n",
              "                                            colsample_bylevel=None,\n",
              "                                            colsample_bynode=None,\n",
              "                                            colsample_bytree=0.7, device=None,\n",
              "                                            early_stopping_rounds=None,\n",
              "                                            enable_categorical=False,\n",
              "                                            eval_metric=None,\n",
              "                                            feature_types=None, gamma=None,\n",
              "                                            grow_policy=None,\n",
              "                                            importance_type=None,\n",
              "                                            interaction_constraints=None,\n",
              "                                            learning_rate=0.1, max_bin=None,\n",
              "                                            max_cat_threshold=None,\n",
              "                                            max_cat_to_onehot=None,\n",
              "                                            max_delta_step=None, max_depth=None,\n",
              "                                            max_leaves=None,\n",
              "                                            min_child_weight=None, missing=nan,\n",
              "                                            monotone_constraints=None,\n",
              "                                            multi_strategy=None,\n",
              "                                            n_estimators=100, n_jobs=None,\n",
              "                                            num_parallel_tree=None,\n",
              "                                            random_state=6, ...))],\n",
              "                 voting='soft')"
            ]
          },
          "execution_count": 32,
          "metadata": {},
          "output_type": "execute_result"
        }
      ],
      "source": [
        "voting_clf = VotingClassifier(\n",
        "    estimators=[('rf', rf), ('xgb', xgb)],\n",
        "    voting='soft'\n",
        ")\n",
        "\n",
        "voting_clf.fit(X_train, y_train)\n",
        "\n",
        "#Accuracy train voting_clf: 99.5415%\n",
        "#Accuracy test voting_clf: 97.8908%"
      ]
    },
    {
      "cell_type": "code",
      "execution_count": 33,
      "metadata": {
        "colab": {
          "base_uri": "https://localhost:8080/",
          "height": 484
        },
        "id": "d5j8WHBBApkd",
        "outputId": "3646a2c5-7c48-4915-e870-2f6c8cebef76"
      },
      "outputs": [
        {
          "name": "stdout",
          "output_type": "stream",
          "text": [
            "Accuracy train voting_clf: 97.8019%\n",
            "Accuracy test voting_clf: 96.8194%\n"
          ]
        },
        {
          "data": {
            "image/png": "[encoded data removed]",
            "text/plain": [
              "<Figure size 640x480 with 2 Axes>"
            ]
          },
          "metadata": {},
          "output_type": "display_data"
        }
      ],
      "source": [
        "name = 'voting_clf'\n",
        "train_predictions = voting_clf.predict(X_train)\n",
        "accuracy = accuracy_score(y_train, train_predictions)\n",
        "print(f\"Accuracy train {name}: %.4f%%\" % (accuracy * 100.0))\n",
        "\n",
        "test_predictions = voting_clf.predict(X_test)\n",
        "accuracy = accuracy_score(y_test, test_predictions)\n",
        "print(f\"Accuracy test {name}: %.4f%%\" % (accuracy * 100.0))\n",
        "ConfusionMatrixDisplay.from_predictions(y_test, test_predictions)\n",
        "plt.show()"
      ]
    },
    {
      "cell_type": "markdown",
      "metadata": {
        "id": "HBBLguMSvPAu"
      },
      "source": [
        "## Generar la salida para entregar"
      ]
    },
    {
      "cell_type": "code",
      "execution_count": 34,
      "metadata": {
        "id": "bCBJo-Y3f1fD"
      },
      "outputs": [],
      "source": [
        "test_df = pd.read_csv('https://raw.githubusercontent.com/DiploDatos/AprendizajeSupervisado/master/Pr%C3%A1ctico/diabetes_prediction_dataset_test.csv')"
      ]
    },
    {
      "cell_type": "code",
      "execution_count": 35,
      "metadata": {
        "id": "0sYlYvvrKI1t"
      },
      "outputs": [],
      "source": [
        "PatientId_test = test_df['patient']\n",
        "test_df = test_df.drop('patient', axis=1)"
      ]
    },
    {
      "cell_type": "markdown",
      "metadata": {
        "id": "sp9qTsF3vPAu"
      },
      "source": [
        "Para poder evaluar nuestra predicción los datos de prueba deben tener exactamente el mismo tratamiento que los datos de entrenamiento"
      ]
    },
    {
      "cell_type": "code",
      "execution_count": 36,
      "metadata": {
        "id": "xMMGZKiLMICh"
      },
      "outputs": [],
      "source": [
        "test_df = pd.get_dummies(test_df, columns=['gender', 'smoking_history'], dtype=float)\n",
        "scaler = StandardScaler()\n",
        "test_df[['age', 'bmi', 'HbA1c_level', 'blood_glucose_level']] = scaler.fit_transform(test_df[['age', 'bmi', 'HbA1c_level', 'blood_glucose_level']])"
      ]
    },
    {
      "cell_type": "code",
      "execution_count": 93,
      "metadata": {
        "colab": {
          "base_uri": "https://localhost:8080/"
        },
        "id": "UpMzGFZ3IoGF",
        "outputId": "893adf7d-f896-4906-b847-cc62ea782c19"
      },
      "outputs": [
        {
          "data": {
            "text/plain": [
              "(2957, 15)"
            ]
          },
          "execution_count": 93,
          "metadata": {},
          "output_type": "execute_result"
        }
      ],
      "source": [
        "#output_df = preprocess_data(test_df)\n",
        "#output_df.shape"
      ]
    },
    {
      "cell_type": "code",
      "execution_count": 95,
      "metadata": {
        "id": "gfWAuEnwK0TM"
      },
      "outputs": [],
      "source": [
        "#PatientId_test = output_df['patient']\n",
        "#output_df = output_df.drop('patient', axis=1)"
      ]
    },
    {
      "cell_type": "code",
      "execution_count": 37,
      "metadata": {
        "id": "UIowgE2lJh6k"
      },
      "outputs": [],
      "source": [
        "X_test = test_df.drop(['diabetes', 'gender_Other', 'smoking_history_No Info'] , axis=1)"
      ]
    },
    {
      "cell_type": "code",
      "execution_count": 38,
      "metadata": {
        "colab": {
          "base_uri": "https://localhost:8080/",
          "height": 461
        },
        "id": "qYUDrg5dJxbl",
        "outputId": "37e6890b-3963-4bbe-9f2f-affa08334fa4"
      },
      "outputs": [
        {
          "data": {
            "text/html": [
              "<div>\n",
              "<style scoped>\n",
              "    .dataframe tbody tr th:only-of-type {\n",
              "        vertical-align: middle;\n",
              "    }\n",
              "\n",
              "    .dataframe tbody tr th {\n",
              "        vertical-align: top;\n",
              "    }\n",
              "\n",
              "    .dataframe thead th {\n",
              "        text-align: right;\n",
              "    }\n",
              "</style>\n",
              "<table border=\"1\" class=\"dataframe\">\n",
              "  <thead>\n",
              "    <tr style=\"text-align: right;\">\n",
              "      <th></th>\n",
              "      <th>age</th>\n",
              "      <th>hypertension</th>\n",
              "      <th>heart_disease</th>\n",
              "      <th>bmi</th>\n",
              "      <th>HbA1c_level</th>\n",
              "      <th>blood_glucose_level</th>\n",
              "      <th>gender_Female</th>\n",
              "      <th>gender_Male</th>\n",
              "      <th>smoking_history_current</th>\n",
              "      <th>smoking_history_ever</th>\n",
              "      <th>smoking_history_former</th>\n",
              "      <th>smoking_history_never</th>\n",
              "      <th>smoking_history_not current</th>\n",
              "    </tr>\n",
              "  </thead>\n",
              "  <tbody>\n",
              "    <tr>\n",
              "      <th>0</th>\n",
              "      <td>0.534851</td>\n",
              "      <td>0</td>\n",
              "      <td>0</td>\n",
              "      <td>0.683720</td>\n",
              "      <td>-0.950085</td>\n",
              "      <td>-0.294803</td>\n",
              "      <td>0.0</td>\n",
              "      <td>1.0</td>\n",
              "      <td>0.0</td>\n",
              "      <td>0.0</td>\n",
              "      <td>0.0</td>\n",
              "      <td>1.0</td>\n",
              "      <td>0.0</td>\n",
              "    </tr>\n",
              "    <tr>\n",
              "      <th>1</th>\n",
              "      <td>-0.840774</td>\n",
              "      <td>0</td>\n",
              "      <td>0</td>\n",
              "      <td>-0.198857</td>\n",
              "      <td>0.997153</td>\n",
              "      <td>-0.195048</td>\n",
              "      <td>1.0</td>\n",
              "      <td>0.0</td>\n",
              "      <td>0.0</td>\n",
              "      <td>0.0</td>\n",
              "      <td>0.0</td>\n",
              "      <td>1.0</td>\n",
              "      <td>0.0</td>\n",
              "    </tr>\n",
              "    <tr>\n",
              "      <th>2</th>\n",
              "      <td>-0.175149</td>\n",
              "      <td>0</td>\n",
              "      <td>0</td>\n",
              "      <td>-0.743333</td>\n",
              "      <td>0.626250</td>\n",
              "      <td>-0.294803</td>\n",
              "      <td>1.0</td>\n",
              "      <td>0.0</td>\n",
              "      <td>0.0</td>\n",
              "      <td>0.0</td>\n",
              "      <td>0.0</td>\n",
              "      <td>1.0</td>\n",
              "      <td>0.0</td>\n",
              "    </tr>\n",
              "    <tr>\n",
              "      <th>3</th>\n",
              "      <td>-0.530149</td>\n",
              "      <td>0</td>\n",
              "      <td>0</td>\n",
              "      <td>0.540283</td>\n",
              "      <td>-0.486457</td>\n",
              "      <td>-1.441995</td>\n",
              "      <td>1.0</td>\n",
              "      <td>0.0</td>\n",
              "      <td>0.0</td>\n",
              "      <td>0.0</td>\n",
              "      <td>0.0</td>\n",
              "      <td>0.0</td>\n",
              "      <td>1.0</td>\n",
              "    </tr>\n",
              "    <tr>\n",
              "      <th>4</th>\n",
              "      <td>-0.485774</td>\n",
              "      <td>0</td>\n",
              "      <td>0</td>\n",
              "      <td>0.196327</td>\n",
              "      <td>0.997153</td>\n",
              "      <td>-0.943216</td>\n",
              "      <td>0.0</td>\n",
              "      <td>1.0</td>\n",
              "      <td>0.0</td>\n",
              "      <td>1.0</td>\n",
              "      <td>0.0</td>\n",
              "      <td>0.0</td>\n",
              "      <td>0.0</td>\n",
              "    </tr>\n",
              "    <tr>\n",
              "      <th>...</th>\n",
              "      <td>...</td>\n",
              "      <td>...</td>\n",
              "      <td>...</td>\n",
              "      <td>...</td>\n",
              "      <td>...</td>\n",
              "      <td>...</td>\n",
              "      <td>...</td>\n",
              "      <td>...</td>\n",
              "      <td>...</td>\n",
              "      <td>...</td>\n",
              "      <td>...</td>\n",
              "      <td>...</td>\n",
              "      <td>...</td>\n",
              "    </tr>\n",
              "    <tr>\n",
              "      <th>4995</th>\n",
              "      <td>-0.796399</td>\n",
              "      <td>0</td>\n",
              "      <td>0</td>\n",
              "      <td>-0.665760</td>\n",
              "      <td>0.997153</td>\n",
              "      <td>1.550679</td>\n",
              "      <td>1.0</td>\n",
              "      <td>0.0</td>\n",
              "      <td>0.0</td>\n",
              "      <td>0.0</td>\n",
              "      <td>0.0</td>\n",
              "      <td>1.0</td>\n",
              "      <td>0.0</td>\n",
              "    </tr>\n",
              "    <tr>\n",
              "      <th>4996</th>\n",
              "      <td>0.446101</td>\n",
              "      <td>0</td>\n",
              "      <td>0</td>\n",
              "      <td>0.000198</td>\n",
              "      <td>-1.413713</td>\n",
              "      <td>0.428426</td>\n",
              "      <td>1.0</td>\n",
              "      <td>0.0</td>\n",
              "      <td>0.0</td>\n",
              "      <td>0.0</td>\n",
              "      <td>0.0</td>\n",
              "      <td>0.0</td>\n",
              "      <td>0.0</td>\n",
              "    </tr>\n",
              "    <tr>\n",
              "      <th>4997</th>\n",
              "      <td>1.688601</td>\n",
              "      <td>0</td>\n",
              "      <td>0</td>\n",
              "      <td>-0.515004</td>\n",
              "      <td>0.440799</td>\n",
              "      <td>-0.294803</td>\n",
              "      <td>0.0</td>\n",
              "      <td>1.0</td>\n",
              "      <td>0.0</td>\n",
              "      <td>0.0</td>\n",
              "      <td>0.0</td>\n",
              "      <td>0.0</td>\n",
              "      <td>0.0</td>\n",
              "    </tr>\n",
              "    <tr>\n",
              "      <th>4998</th>\n",
              "      <td>-0.752024</td>\n",
              "      <td>0</td>\n",
              "      <td>0</td>\n",
              "      <td>-0.678933</td>\n",
              "      <td>0.533525</td>\n",
              "      <td>-1.317300</td>\n",
              "      <td>0.0</td>\n",
              "      <td>1.0</td>\n",
              "      <td>0.0</td>\n",
              "      <td>0.0</td>\n",
              "      <td>0.0</td>\n",
              "      <td>1.0</td>\n",
              "      <td>0.0</td>\n",
              "    </tr>\n",
              "    <tr>\n",
              "      <th>4999</th>\n",
              "      <td>-0.441399</td>\n",
              "      <td>0</td>\n",
              "      <td>0</td>\n",
              "      <td>-0.531105</td>\n",
              "      <td>0.162622</td>\n",
              "      <td>1.550679</td>\n",
              "      <td>1.0</td>\n",
              "      <td>0.0</td>\n",
              "      <td>0.0</td>\n",
              "      <td>0.0</td>\n",
              "      <td>0.0</td>\n",
              "      <td>0.0</td>\n",
              "      <td>0.0</td>\n",
              "    </tr>\n",
              "  </tbody>\n",
              "</table>\n",
              "<p>5000 rows × 13 columns</p>\n",
              "</div>"
            ],
            "text/plain": [
              "           age  hypertension  heart_disease       bmi  HbA1c_level  \\\n",
              "0     0.534851             0              0  0.683720    -0.950085   \n",
              "1    -0.840774             0              0 -0.198857     0.997153   \n",
              "2    -0.175149             0              0 -0.743333     0.626250   \n",
              "3    -0.530149             0              0  0.540283    -0.486457   \n",
              "4    -0.485774             0              0  0.196327     0.997153   \n",
              "...        ...           ...            ...       ...          ...   \n",
              "4995 -0.796399             0              0 -0.665760     0.997153   \n",
              "4996  0.446101             0              0  0.000198    -1.413713   \n",
              "4997  1.688601             0              0 -0.515004     0.440799   \n",
              "4998 -0.752024             0              0 -0.678933     0.533525   \n",
              "4999 -0.441399             0              0 -0.531105     0.162622   \n",
              "\n",
              "      blood_glucose_level  gender_Female  gender_Male  \\\n",
              "0               -0.294803            0.0          1.0   \n",
              "1               -0.195048            1.0          0.0   \n",
              "2               -0.294803            1.0          0.0   \n",
              "3               -1.441995            1.0          0.0   \n",
              "4               -0.943216            0.0          1.0   \n",
              "...                   ...            ...          ...   \n",
              "4995             1.550679            1.0          0.0   \n",
              "4996             0.428426            1.0          0.0   \n",
              "4997            -0.294803            0.0          1.0   \n",
              "4998            -1.317300            0.0          1.0   \n",
              "4999             1.550679            1.0          0.0   \n",
              "\n",
              "      smoking_history_current  smoking_history_ever  smoking_history_former  \\\n",
              "0                         0.0                   0.0                     0.0   \n",
              "1                         0.0                   0.0                     0.0   \n",
              "2                         0.0                   0.0                     0.0   \n",
              "3                         0.0                   0.0                     0.0   \n",
              "4                         0.0                   1.0                     0.0   \n",
              "...                       ...                   ...                     ...   \n",
              "4995                      0.0                   0.0                     0.0   \n",
              "4996                      0.0                   0.0                     0.0   \n",
              "4997                      0.0                   0.0                     0.0   \n",
              "4998                      0.0                   0.0                     0.0   \n",
              "4999                      0.0                   0.0                     0.0   \n",
              "\n",
              "      smoking_history_never  smoking_history_not current  \n",
              "0                       1.0                          0.0  \n",
              "1                       1.0                          0.0  \n",
              "2                       1.0                          0.0  \n",
              "3                       0.0                          1.0  \n",
              "4                       0.0                          0.0  \n",
              "...                     ...                          ...  \n",
              "4995                    1.0                          0.0  \n",
              "4996                    0.0                          0.0  \n",
              "4997                    0.0                          0.0  \n",
              "4998                    1.0                          0.0  \n",
              "4999                    0.0                          0.0  \n",
              "\n",
              "[5000 rows x 13 columns]"
            ]
          },
          "execution_count": 38,
          "metadata": {},
          "output_type": "execute_result"
        }
      ],
      "source": [
        "X_test"
      ]
    },
    {
      "cell_type": "markdown",
      "metadata": {
        "id": "vRye5krjvPAy"
      },
      "source": [
        "Generamos la salida"
      ]
    },
    {
      "cell_type": "code",
      "execution_count": 39,
      "metadata": {
        "id": "qWMjgtEJvPAy"
      },
      "outputs": [],
      "source": [
        "test_id = PatientId_test\n",
        "test_pred = np.int64(voting_clf.predict(X_test))"
      ]
    },
    {
      "cell_type": "markdown",
      "metadata": {
        "id": "-MWEyHScvPAy"
      },
      "source": [
        "Con el resultado predicho tenemos que generar el archivo `.csv` para subir a la competencia de kaggle:"
      ]
    },
    {
      "cell_type": "code",
      "execution_count": 40,
      "metadata": {
        "id": "3Bj3WoslvPAy"
      },
      "outputs": [],
      "source": [
        "submission = pd.DataFrame(list(zip(test_id, test_pred)), columns=[\"patient\", \"diabetes\"])\n",
        "submission.to_csv(\"sample_submission_vc.csv\", header=True, index=False)"
      ]
    },
    {
      "cell_type": "markdown",
      "metadata": {
        "id": "LbAH9zl8vPAy"
      },
      "source": [
        "**Suerte!! :D**"
      ]
    },
    {
      "cell_type": "markdown",
      "metadata": {
        "id": "pJ2oqNV-wrAV"
      },
      "source": [
        "# Resultados\n",
        "## baseline\n",
        "### Árbol de decisión\n",
        "- Accuracy train Árbol de decisión: 99.92%\n",
        "- Accuracy test {name}: 95.16%"
      ]
    }
  ],
  "metadata": {
    "accelerator": "GPU",
    "colab": {
      "gpuType": "T4",
      "provenance": []
    },
    "kernelspec": {
      "display_name": "Python 3",
      "name": "python3"
    },
    "language_info": {
      "codemirror_mode": {
        "name": "ipython",
        "version": 3
      },
      "file_extension": ".py",
      "mimetype": "text/x-python",
      "name": "python",
      "nbconvert_exporter": "python",
      "pygments_lexer": "ipython3",
      "version": "3.9.7"
    },
    "vscode": {
      "interpreter": {
        "hash": "e6b65fc4380ac725e50a330b268a227bbdbe91bddfffbf68e5f7ce9848a2b8d5"
      }
    }
  },
  "nbformat": 4,
  "nbformat_minor": 0
}
