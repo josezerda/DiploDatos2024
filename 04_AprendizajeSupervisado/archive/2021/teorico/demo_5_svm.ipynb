{
 "cells": [
  {
   "cell_type": "code",
   "execution_count": null,
   "metadata": {},
   "outputs": [],
   "source": [
    "import warnings\n",
    "warnings.filterwarnings(\"ignore\")"
   ]
  },
  {
   "cell_type": "code",
   "execution_count": null,
   "metadata": {},
   "outputs": [],
   "source": [
    "%matplotlib inline\n",
    "\n",
    "import numpy as np\n",
    "\n",
    "import matplotlib as mpl\n",
    "mpl.get_cachedir()\n",
    "import matplotlib.pyplot as plt\n",
    "\n",
    "import sklearn\n",
    "import sklearn.datasets\n",
    "import sklearn.linear_model\n",
    "import sklearn.neural_network\n",
    "\n",
    "import utils"
   ]
  },
  {
   "cell_type": "code",
   "execution_count": null,
   "metadata": {},
   "outputs": [],
   "source": [
    "def load_dataset_up_down(size, seed=39):\n",
    "    np.random.seed(seed)\n",
    "    x = np.random.poisson(5, size) * (np.random.randint(0,2, size) * 2 - 1)\n",
    "    y = (np.random.poisson(5, size) + 1) * (np.random.randint(0,2, size) * 2 - 1)\n",
    "    X = np.array(list(zip(x,y)))\n",
    "    Y = (X[:,1] > 0).astype(np.int8)\n",
    "    return X, Y"
   ]
  },
  {
   "cell_type": "markdown",
   "metadata": {},
   "source": [
    "# SVMs"
   ]
  },
  {
   "cell_type": "code",
   "execution_count": null,
   "metadata": {},
   "outputs": [],
   "source": [
    "X, Y = load_dataset_up_down(1000)\n",
    "plt.scatter(X[:, 0], X[:, 1], c=Y, s=50, cmap=plt.cm.Spectral);"
   ]
  },
  {
   "cell_type": "code",
   "execution_count": null,
   "metadata": {},
   "outputs": [],
   "source": [
    "clf = sklearn.svm.LinearSVC()\n",
    "clf.fit(X, Y)\n",
    "\n",
    "w = clf.coef_[0]\n",
    "a = -w[0] / w[1]\n",
    "b = - clf.intercept_[0] / w[1]\n",
    "xx = np.linspace(min(X[:,0]) - 1, max(X[:,0]) + 1)\n",
    "yy = a * xx + b\n",
    "\n",
    "plt.plot(xx, yy, 'k-', label=\"non weighted div\")\n",
    "plt.scatter(X[:, 0], X[:, 1], c=Y, s=50, cmap=plt.cm.Spectral);\n",
    "print ((\"y = %.4f * x + %.4f\") % (a, b))"
   ]
  },
  {
   "cell_type": "markdown",
   "metadata": {},
   "source": [
    "### In the perceptron demo, we added some extra points and the accuracy decreased... what would happen now?"
   ]
  },
  {
   "cell_type": "code",
   "execution_count": null,
   "metadata": {},
   "outputs": [],
   "source": [
    "X, Y = load_dataset_up_down(800)\n",
    "utils.plot_decision_boundary(lambda x: clf.predict(x), X.T, Y.T)\n",
    "predictions = clf.predict(X)\n",
    "print ('Accuracy: %d ' % ((np.sum(Y == predictions))/float(Y.size)*100))"
   ]
  },
  {
   "cell_type": "markdown",
   "metadata": {},
   "source": [
    "### Now, what if the training data have some noise now?"
   ]
  },
  {
   "cell_type": "code",
   "execution_count": null,
   "metadata": {},
   "outputs": [],
   "source": [
    "X, Y = load_dataset_up_down(80, 1)\n",
    "some_noise = np.random.binomial(1, .03, Y.shape[0])\n",
    "Y = np.logical_xor(Y, some_noise).astype(np.int8)\n",
    "plt.scatter(X[:, 0], X[:, 1], c=Y, s=50, cmap=plt.cm.Spectral);"
   ]
  },
  {
   "cell_type": "markdown",
   "metadata": {},
   "source": [
    "### Adjust the parameter C"
   ]
  },
  {
   "cell_type": "code",
   "execution_count": null,
   "metadata": {},
   "outputs": [],
   "source": [
    "clf = sklearn.svm.LinearSVC(C=0.1)\n",
    "clf.fit(X, Y);\n",
    "\n",
    "utils.plot_decision_boundary(lambda x: clf.predict(x), X.T, Y.T)\n",
    "predictions = clf.predict(X)\n",
    "print ('Accuracy: %d ' % ((np.sum(Y == predictions))/float(Y.size)*100))"
   ]
  }
 ],
 "metadata": {
  "kernelspec": {
   "display_name": "Python 3",
   "language": "python",
   "name": "python3"
  },
  "language_info": {
   "codemirror_mode": {
    "name": "ipython",
    "version": 3
   },
   "file_extension": ".py",
   "mimetype": "text/x-python",
   "name": "python",
   "nbconvert_exporter": "python",
   "pygments_lexer": "ipython3",
   "version": "3.8.5"
  }
 },
 "nbformat": 4,
 "nbformat_minor": 4
}
