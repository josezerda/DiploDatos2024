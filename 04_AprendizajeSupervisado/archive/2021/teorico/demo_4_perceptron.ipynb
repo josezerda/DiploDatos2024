{
 "cells": [
  {
   "cell_type": "code",
   "execution_count": null,
   "metadata": {},
   "outputs": [],
   "source": [
    "import warnings\n",
    "warnings.filterwarnings(\"ignore\")"
   ]
  },
  {
   "cell_type": "code",
   "execution_count": null,
   "metadata": {},
   "outputs": [],
   "source": [
    "%matplotlib inline\n",
    "\n",
    "import numpy as np\n",
    "\n",
    "import matplotlib as mpl\n",
    "mpl.get_cachedir()\n",
    "import matplotlib.pyplot as plt\n",
    "\n",
    "import sklearn\n",
    "import sklearn.datasets\n",
    "import sklearn.linear_model\n",
    "import sklearn.neural_network\n",
    "\n",
    "import utils"
   ]
  },
  {
   "cell_type": "code",
   "execution_count": null,
   "metadata": {},
   "outputs": [],
   "source": [
    "def load_dataset_up_down(size, seed=39):\n",
    "    np.random.seed(seed)\n",
    "    x = np.random.poisson(5, size) * (np.random.randint(0,2, size) * 2 - 1)\n",
    "    y = (np.random.poisson(5, size) + 1) * (np.random.randint(0,2, size) * 2 - 1)\n",
    "    X = np.array(list(zip(x,y)))\n",
    "    Y = (X[:,1] > 0).astype(np.int8)\n",
    "    return X, Y"
   ]
  },
  {
   "cell_type": "markdown",
   "metadata": {},
   "source": [
    "# The Perceptron"
   ]
  },
  {
   "cell_type": "markdown",
   "metadata": {},
   "source": [
    "## Training with 100 points"
   ]
  },
  {
   "cell_type": "code",
   "execution_count": null,
   "metadata": {},
   "outputs": [],
   "source": [
    "X, Y = load_dataset_up_down(80)\n",
    "indices = np.argsort(Y)\n",
    "X = X[indices]\n",
    "Y = Y[indices]\n",
    "plt.scatter(X[:, 0], X[:, 1], c=Y, s=50, cmap=plt.cm.Spectral);"
   ]
  },
  {
   "cell_type": "code",
   "execution_count": null,
   "metadata": {},
   "outputs": [],
   "source": [
    "clf = sklearn.linear_model.Perceptron(max_iter=5, random_state=1)\n",
    "clf.fit(X, Y);"
   ]
  },
  {
   "cell_type": "code",
   "execution_count": null,
   "metadata": {},
   "outputs": [],
   "source": [
    "utils.plot_decision_boundary(lambda x: clf.predict(x), X.T, Y.T)\n",
    "predictions = clf.predict(X)\n",
    "print ('Accuracy: %d ' % ((np.sum(Y == predictions))/float(Y.size)*100))"
   ]
  },
  {
   "cell_type": "markdown",
   "metadata": {},
   "source": [
    "## Testing with more and more data"
   ]
  },
  {
   "cell_type": "code",
   "execution_count": null,
   "metadata": {},
   "outputs": [],
   "source": [
    "X, Y = load_dataset_up_down(800)\n",
    "utils.plot_decision_boundary(lambda x: clf.predict(x), X.T, Y.T)\n",
    "predictions = clf.predict(X)\n",
    "print ('Accuracy: %d ' % ((np.sum(Y == predictions))/float(Y.size)*100))"
   ]
  },
  {
   "cell_type": "markdown",
   "metadata": {},
   "source": [
    "## Do you see a problem?\n",
    "<br/><br/><br/><br/><br/>"
   ]
  },
  {
   "cell_type": "markdown",
   "metadata": {},
   "source": [
    "## What if we train again (and again...)"
   ]
  },
  {
   "cell_type": "code",
   "execution_count": null,
   "metadata": {},
   "outputs": [],
   "source": [
    "X, Y = load_dataset_up_down(80)\n",
    "clf = sklearn.linear_model.Perceptron(max_iter=5, random_state=2)\n",
    "clf.fit(X, Y)\n",
    "utils.plot_decision_boundary(lambda x: clf.predict(x), X.T, Y.T)"
   ]
  },
  {
   "cell_type": "code",
   "execution_count": null,
   "metadata": {},
   "outputs": [],
   "source": [
    "X, Y = load_dataset_up_down(80)\n",
    "clf = sklearn.linear_model.Perceptron(max_iter=5, random_state=4)\n",
    "clf.fit(X, Y)\n",
    "utils.plot_decision_boundary(lambda x: clf.predict(x), X.T, Y.T)"
   ]
  },
  {
   "cell_type": "markdown",
   "metadata": {},
   "source": [
    "## What is the problem? How could we fix it? "
   ]
  },
  {
   "cell_type": "markdown",
   "metadata": {},
   "source": [
    "<br/><br/><br/><br/><br/><br/><br/><br/><br/><br/><br/><br/><br/><br/><br/><br/><br/><br/><br/><br/><br/><br/><br/><br/><br/><br/><br/><br/><br/><br/><br/><br/><br/><br/>"
   ]
  },
  {
   "cell_type": "markdown",
   "metadata": {},
   "source": [
    "# And if data is not linearly separable?"
   ]
  },
  {
   "cell_type": "code",
   "execution_count": null,
   "metadata": {},
   "outputs": [],
   "source": [
    "X, Y = load_dataset_up_down(1000)\n",
    "plt.scatter(X[:, 0], X[:, 1], c=Y, s=50, cmap=plt.cm.Spectral);"
   ]
  },
  {
   "cell_type": "code",
   "execution_count": null,
   "metadata": {
    "scrolled": true
   },
   "outputs": [],
   "source": [
    "some_noise = np.random.binomial(1, .02, Y.shape[0])\n",
    "Y = np.logical_xor(Y, some_noise).astype(np.int8)\n",
    "plt.scatter(X[:, 0], X[:, 1], c=Y, s=50, cmap=plt.cm.Spectral);"
   ]
  },
  {
   "cell_type": "code",
   "execution_count": null,
   "metadata": {},
   "outputs": [],
   "source": [
    "clf = sklearn.linear_model.Perceptron(shuffle=False, max_iter=5, random_state=1)\n",
    "clf.fit(X, Y);"
   ]
  },
  {
   "cell_type": "code",
   "execution_count": null,
   "metadata": {},
   "outputs": [],
   "source": [
    "utils.plot_decision_boundary(lambda x: clf.predict(x), X.T, Y.T)\n",
    "predictions = clf.predict(X)\n",
    "print ('Accuracy: %d ' % ((np.sum(Y == predictions))/float(Y.size)*100))"
   ]
  },
  {
   "cell_type": "code",
   "execution_count": null,
   "metadata": {},
   "outputs": [],
   "source": [
    "clf = sklearn.linear_model.Perceptron(shuffle=False, max_iter=100, random_state=10)\n",
    "clf.fit(X, Y);"
   ]
  },
  {
   "cell_type": "code",
   "execution_count": null,
   "metadata": {},
   "outputs": [],
   "source": [
    "utils.plot_decision_boundary(lambda x: clf.predict(x), X.T, Y.T)\n",
    "predictions = clf.predict(X)\n",
    "print ('Accuracy: %d ' % ((np.sum(Y == predictions))/float(Y.size)*100))"
   ]
  },
  {
   "cell_type": "code",
   "execution_count": null,
   "metadata": {},
   "outputs": [],
   "source": [
    "clf = sklearn.linear_model.Perceptron(max_iter=1)\n",
    "clf.fit(X, Y);"
   ]
  },
  {
   "cell_type": "code",
   "execution_count": null,
   "metadata": {
    "scrolled": true
   },
   "outputs": [],
   "source": [
    "utils.plot_decision_boundary(lambda x: clf.predict(x), X.T, Y.T)\n",
    "predictions = clf.predict(X)\n",
    "print ('Accuracy: %d ' % ((np.sum(Y == predictions))/float(Y.size)*100))"
   ]
  }
 ],
 "metadata": {
  "kernelspec": {
   "display_name": "Python 3",
   "language": "python",
   "name": "python3"
  },
  "language_info": {
   "codemirror_mode": {
    "name": "ipython",
    "version": 3
   },
   "file_extension": ".py",
   "mimetype": "text/x-python",
   "name": "python",
   "nbconvert_exporter": "python",
   "pygments_lexer": "ipython3",
   "version": "3.8.5"
  }
 },
 "nbformat": 4,
 "nbformat_minor": 4
}
