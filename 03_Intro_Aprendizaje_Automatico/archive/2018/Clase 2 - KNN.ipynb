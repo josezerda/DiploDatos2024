{
 "cells": [
  {
   "cell_type": "code",
   "execution_count": null,
   "metadata": {},
   "outputs": [],
   "source": [
    "import matplotlib.pyplot as plt\n",
    "import numpy as np\n",
    "\n",
    "from IPython.display import display, Math\n",
    "from matplotlib.colors import ListedColormap\n",
    "from ml.data import create_classification_data\n",
    "from ml.distances import euclidean, manhattan, cosine\n",
    "from ml.visualization import kneighbors_boundary\n",
    "\n",
    "%matplotlib inline"
   ]
  },
  {
   "cell_type": "markdown",
   "metadata": {},
   "source": [
    "# K Nearest Neighbors"
   ]
  },
  {
   "cell_type": "markdown",
   "metadata": {},
   "source": [
    "## Generación de datos"
   ]
  },
  {
   "cell_type": "code",
   "execution_count": null,
   "metadata": {},
   "outputs": [],
   "source": [
    "X, y = create_classification_data(\"nonlineal\", negative_label=0)\n",
    "\n",
    "cmap_dots = ListedColormap(['tomato', 'dodgerblue'])\n",
    "cmap_back = ListedColormap(['lightcoral', 'skyblue'])\n",
    "\n",
    "plt.scatter(X[:, 0], X[:, 1], c=y, cmap=cmap_dots, edgecolors='k')\n",
    "plt.show()"
   ]
  },
  {
   "cell_type": "markdown",
   "metadata": {},
   "source": [
    "## Frontera de Decisión"
   ]
  },
  {
   "cell_type": "code",
   "execution_count": null,
   "metadata": {},
   "outputs": [],
   "source": [
    "plt.figure(figsize=(12, 9), dpi= 80, facecolor='w', edgecolor='k')\n",
    "\n",
    "for i, distance in enumerate([euclidean, manhattan, cosine]):\n",
    "    for j, neighbors in enumerate([2, 5, 10]):\n",
    "        xx, yy, Z = kneighbors_boundary(X, y, neighbors, distance)\n",
    "\n",
    "        plt.subplot(3, 3, 1 + j + i * 3)\n",
    "        plt.pcolormesh(xx, yy, Z, cmap=cmap_back)\n",
    "\n",
    "        plt.scatter(X[:, 0], X[:, 1], c=y, cmap=cmap_dots,\n",
    "                   edgecolor='k', s=20)\n",
    "        plt.xlim(xx.min(), xx.max())\n",
    "        plt.ylim(yy.min(), yy.max())\n",
    "        plt.title(\"Distancia: %s - Vecinos: %d\" % (distance.__name__, neighbors))\n",
    "\n",
    "plt.tight_layout()\n",
    "plt.show()"
   ]
  }
 ],
 "metadata": {
  "kernelspec": {
   "display_name": "Python [default]",
   "language": "python",
   "name": "python3"
  },
  "language_info": {
   "codemirror_mode": {
    "name": "ipython",
    "version": 3
   },
   "file_extension": ".py",
   "mimetype": "text/x-python",
   "name": "python",
   "nbconvert_exporter": "python",
   "pygments_lexer": "ipython3",
   "version": "3.6.4"
  }
 },
 "nbformat": 4,
 "nbformat_minor": 2
}
