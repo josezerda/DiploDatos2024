{
 "cells": [
  {
   "cell_type": "code",
   "execution_count": null,
   "metadata": {},
   "outputs": [],
   "source": [
    "import matplotlib.pyplot as plt\n",
    "import numpy as np\n",
    "\n",
    "from IPython.display import display, Math\n",
    "from matplotlib.colors import ListedColormap\n",
    "from ml.data import create_lineal_data, create_sinusoidal_data, create_classification_data\n",
    "from ml.features import polynomial_features\n",
    "from ml.perceptron import perceptron\n",
    "from ml.regression import linear_least_squares\n",
    "from ml.visualization import perceptron_boundary\n",
    "\n",
    "%matplotlib inline"
   ]
  },
  {
   "cell_type": "markdown",
   "metadata": {},
   "source": [
    "# Regresión"
   ]
  },
  {
   "cell_type": "markdown",
   "metadata": {},
   "source": [
    "## Regresión lineal"
   ]
  },
  {
   "cell_type": "markdown",
   "metadata": {},
   "source": [
    "### Generación de datos"
   ]
  },
  {
   "cell_type": "code",
   "execution_count": null,
   "metadata": {},
   "outputs": [],
   "source": [
    "slope = 3\n",
    "bias = 2\n",
    "\n",
    "X, y = create_lineal_data(slope, bias, 0.25)\n",
    "_, f_x = create_lineal_data(slope, bias, 0)\n",
    "\n",
    "plt.scatter(X, y, facecolor=\"dodgerblue\", edgecolor=\"k\", label=\"datos\")\n",
    "plt.plot(X, f_x, color=\"seagreen\", label=\"f(x)\")\n",
    "plt.legend()\n",
    "plt.show()"
   ]
  },
  {
   "cell_type": "markdown",
   "metadata": {},
   "source": [
    "### Aplicación de cuadrados mínimos para resolución"
   ]
  },
  {
   "cell_type": "code",
   "execution_count": null,
   "metadata": {},
   "outputs": [],
   "source": [
    "X_b = np.c_[np.ones(X.shape[0]), X]  # Agregar el vector de bias a los ejemplos (bias trick)\n",
    "\n",
    "# Cálculo de w usando método de cuadrados mínimos\n",
    "w = linear_least_squares(X_b, y)\n",
    "\n",
    "display(Math(r\"\\text{Valores de w: } w_{0} = %.2f - w_{1} = %.2f\" % (w[0], w[1])))"
   ]
  },
  {
   "cell_type": "markdown",
   "metadata": {},
   "source": [
    "### Visualización"
   ]
  },
  {
   "cell_type": "code",
   "execution_count": null,
   "metadata": {},
   "outputs": [],
   "source": [
    "plt.scatter(X, y, facecolor=\"dodgerblue\", edgecolor=\"k\", label=\"datos\")\n",
    "plt.plot(X, f_x, color=\"seagreen\", label=\"f(x)\")\n",
    "plt.plot(X, X_b.dot(w), color=\"tomato\", label=\"modelo\")\n",
    "plt.legend()\n",
    "plt.show()"
   ]
  },
  {
   "cell_type": "markdown",
   "metadata": {},
   "source": [
    "## Regresión Polinomial"
   ]
  },
  {
   "cell_type": "markdown",
   "metadata": {},
   "source": [
    "### Generación de datos"
   ]
  },
  {
   "cell_type": "code",
   "execution_count": null,
   "metadata": {},
   "outputs": [],
   "source": [
    "X, y = create_sinusoidal_data(0.25, 10)\n",
    "X_sin, f_x_sin = create_sinusoidal_data(0, 100)\n",
    "\n",
    "plt.scatter(X, y, facecolor=\"dodgerblue\", edgecolor=\"k\", label=\"datos\")\n",
    "plt.plot(X_sin, f_x_sin, color=\"seagreen\", label=\"$\\sin(2\\pi x)$\")\n",
    "plt.legend()\n",
    "plt.show()"
   ]
  },
  {
   "cell_type": "markdown",
   "metadata": {},
   "source": [
    "### Resolución sin regularización"
   ]
  },
  {
   "cell_type": "code",
   "execution_count": null,
   "metadata": {},
   "outputs": [],
   "source": [
    "plt.figure(figsize=(14, 12), dpi= 80, facecolor='w', edgecolor='k')\n",
    "\n",
    "for i, degree in enumerate([0, 1, 3, 9]):\n",
    "    plt.subplot(2, 2, i + 1)\n",
    "    X_poly = polynomial_features(X, degree)\n",
    "    X_sin_poly = polynomial_features(X_sin, degree)\n",
    "\n",
    "    w = linear_least_squares(X_poly, y)\n",
    "\n",
    "    plt.scatter(X, y, facecolor=\"dodgerblue\", edgecolor=\"k\", label=\"datos\")\n",
    "    plt.plot(X_sin, f_x_sin, color=\"seagreen\", label=\"$\\sin(2\\pi x)$\")\n",
    "    plt.plot(X_sin, X_sin_poly.dot(w), color=\"tomato\", label=\"modelo\")\n",
    "    plt.ylim(-1.75, 1.75)\n",
    "    plt.title(\"Polinomio Grado %d\" % degree)\n",
    "    plt.annotate(\"M={}\".format(degree), xy=(-0.15, 1))\n",
    "\n",
    "plt.legend(bbox_to_anchor=(1.05, 0.64), loc=2, borderaxespad=0.)\n",
    "plt.show()"
   ]
  },
  {
   "cell_type": "markdown",
   "metadata": {},
   "source": [
    "### Regularizando"
   ]
  },
  {
   "cell_type": "code",
   "execution_count": null,
   "metadata": {
    "scrolled": false
   },
   "outputs": [],
   "source": [
    "plt.figure(figsize=(14, 12), dpi= 80, facecolor='w', edgecolor='k')\n",
    "\n",
    "for i, degree in enumerate([0, 1, 3, 9]):\n",
    "    plt.subplot(2, 2, i + 1)\n",
    "    X_poly = polynomial_features(X, degree)\n",
    "    X_sin_poly = polynomial_features(X_sin, degree)\n",
    "\n",
    "    w = linear_least_squares(X_poly, y, lamda=0.001)\n",
    "    y_hat = X_poly.dot(w)\n",
    "\n",
    "    plt.scatter(X, y, facecolor=\"dodgerblue\", edgecolor=\"k\", label=\"datos\")\n",
    "    plt.plot(X_sin, f_x_sin, color=\"seagreen\", label=\"$\\sin(2\\pi x)$\")\n",
    "    plt.plot(X_sin, X_sin_poly.dot(w), color=\"tomato\", label=\"modelo\")\n",
    "    plt.ylim(-1.75, 1.75)\n",
    "    plt.title(\"Polinomio Grado %d\" % degree)\n",
    "    plt.annotate(\"M={}\".format(degree), xy=(-0.15, 1))\n",
    "\n",
    "plt.legend(bbox_to_anchor=(1.05, 0.64), loc=2, borderaxespad=0.)\n",
    "plt.show()"
   ]
  },
  {
   "cell_type": "markdown",
   "metadata": {},
   "source": [
    "# Clasificación\n",
    "\n",
    "## Perceptrón\n",
    "\n",
    "### Generación de datos lineales"
   ]
  },
  {
   "cell_type": "code",
   "execution_count": null,
   "metadata": {},
   "outputs": [],
   "source": [
    "X, y = create_classification_data(\"lineal\")\n",
    "\n",
    "cmap_dots = ListedColormap(['tomato', 'dodgerblue'])\n",
    "\n",
    "plt.scatter(X[:, 0], X[:, 1], c=y, cmap=cmap_dots, edgecolors='k')\n",
    "plt.show()"
   ]
  },
  {
   "cell_type": "markdown",
   "metadata": {},
   "source": [
    "### Resolución"
   ]
  },
  {
   "cell_type": "code",
   "execution_count": null,
   "metadata": {},
   "outputs": [],
   "source": [
    "X_b = np.c_[np.ones(X.shape[0]), X]  # Agregar el vector de bias a los ejemplos (bias trick)\n",
    "\n",
    "w = perceptron(X_b, y)\n",
    "\n",
    "y_pred = np.sign(X_b.dot(w)).astype(np.int)  # Obtenemos las predicciones (como -1 o 1)\n",
    "\n",
    "accuracy = (y == y_pred).astype(np.int).sum() / y.shape[0]  # Calcular la exactitud\n",
    "\n",
    "print(\"Exactitud del algoritmo: %.2f\" % accuracy)"
   ]
  },
  {
   "cell_type": "markdown",
   "metadata": {},
   "source": [
    "### Frontera de decisión"
   ]
  },
  {
   "cell_type": "code",
   "execution_count": null,
   "metadata": {},
   "outputs": [],
   "source": [
    "xx, yy, Z = perceptron_boundary(X, y)\n",
    "\n",
    "cmap_back = ListedColormap(['lightcoral', 'skyblue'])\n",
    "\n",
    "plt.figure()\n",
    "plt.pcolormesh(xx, yy, Z, cmap=cmap_back)\n",
    "\n",
    "plt.scatter(X[:, 0], X[:, 1], c=y, cmap=cmap_dots, edgecolor='k', s=20)\n",
    "plt.xlim(xx.min(), xx.max())\n",
    "plt.ylim(yy.min(), yy.max())\n",
    "plt.show()"
   ]
  },
  {
   "cell_type": "markdown",
   "metadata": {},
   "source": [
    "### Generación de datos no lineales"
   ]
  },
  {
   "cell_type": "code",
   "execution_count": null,
   "metadata": {},
   "outputs": [],
   "source": [
    "X, y = create_classification_data(\"nonlineal\")\n",
    "\n",
    "cmap_dots = ListedColormap(['tomato', 'dodgerblue'])\n",
    "\n",
    "plt.scatter(X[:, 0], X[:, 1], c=y, cmap=cmap_dots, edgecolors='k')\n",
    "plt.show()"
   ]
  },
  {
   "cell_type": "markdown",
   "metadata": {},
   "source": [
    "### Resolución"
   ]
  },
  {
   "cell_type": "code",
   "execution_count": null,
   "metadata": {},
   "outputs": [],
   "source": [
    "X_b = np.c_[np.ones(X.shape[0]), X]  # Agregar el vector de bias a los ejemplos (bias trick)\n",
    "\n",
    "w = perceptron(X_b, y)\n",
    "\n",
    "y_pred = np.sign(X_b.dot(w)).astype(np.int)  # Obtenemos las predicciones (como -1 o 1)\n",
    "\n",
    "accuracy = (y == y_pred).astype(np.int).sum() / y.shape[0]  # Calcular la exactitud\n",
    "\n",
    "print(\"Exactitud del algoritmo: %.2f\" % accuracy)"
   ]
  },
  {
   "cell_type": "markdown",
   "metadata": {},
   "source": [
    "### Frontera de decisión"
   ]
  },
  {
   "cell_type": "code",
   "execution_count": null,
   "metadata": {},
   "outputs": [],
   "source": [
    "xx, yy, Z = perceptron_boundary(X, y)\n",
    "\n",
    "cmap_back = ListedColormap(['lightcoral', 'skyblue'])\n",
    "\n",
    "plt.figure()\n",
    "plt.pcolormesh(xx, yy, Z, cmap=cmap_back)\n",
    "\n",
    "plt.scatter(X[:, 0], X[:, 1], c=y, cmap=cmap_dots, edgecolor='k', s=20)\n",
    "plt.xlim(xx.min(), xx.max())\n",
    "plt.ylim(yy.min(), yy.max())\n",
    "plt.show()"
   ]
  }
 ],
 "metadata": {
  "kernelspec": {
   "display_name": "Python [default]",
   "language": "python",
   "name": "python3"
  },
  "language_info": {
   "codemirror_mode": {
    "name": "ipython",
    "version": 3
   },
   "file_extension": ".py",
   "mimetype": "text/x-python",
   "name": "python",
   "nbconvert_exporter": "python",
   "pygments_lexer": "ipython3",
   "version": "3.6.4"
  }
 },
 "nbformat": 4,
 "nbformat_minor": 2
}
